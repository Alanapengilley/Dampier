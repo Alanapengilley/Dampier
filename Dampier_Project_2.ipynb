{
  "nbformat": 4,
  "nbformat_minor": 0,
  "metadata": {
    "colab": {
      "name": "Dampier_Project_2.ipynb",
      "provenance": [],
      "collapsed_sections": [],
      "authorship_tag": "ABX9TyNsq26zIVhj4TQqEUl7a8wu",
      "include_colab_link": true
    },
    "kernelspec": {
      "name": "python3",
      "display_name": "Python 3"
    },
    "language_info": {
      "name": "python"
    }
  },
  "cells": [
    {
      "cell_type": "markdown",
      "metadata": {
        "id": "view-in-github",
        "colab_type": "text"
      },
      "source": [
        "<a href=\"https://colab.research.google.com/github/Alanapengilley/Dampier/blob/main/Dampier_Project_2.ipynb\" target=\"_parent\"><img src=\"https://colab.research.google.com/assets/colab-badge.svg\" alt=\"Open In Colab\"/></a>"
      ]
    },
    {
      "cell_type": "code",
      "execution_count": 4,
      "metadata": {
        "id": "LEvQ6t3UHFZP"
      },
      "outputs": [],
      "source": [
        "#load in packages required \n",
        "import numpy as np\n",
        "import matplotlib.pyplot as plt\n",
        "import pandas as pd"
      ]
    },
    {
      "cell_type": "markdown",
      "source": [
        "Geological dataset consists of "
      ],
      "metadata": {
        "id": "PWTDe0UdFagb"
      }
    },
    {
      "cell_type": "code",
      "source": [
        "from google.colab import files\n",
        "uploaded = files.upload()"
      ],
      "metadata": {
        "colab": {
          "resources": {
            "http://localhost:8080/nbextensions/google.colab/files.js": {
              "data": "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",
              "ok": true,
              "headers": [
                [
                  "content-type",
                  "application/javascript"
                ]
              ],
              "status": 200,
              "status_text": ""
            }
          },
          "base_uri": "https://localhost:8080/",
          "height": 73
        },
        "id": "EFIPI-vjHHxs",
        "outputId": "e044efc5-4bdd-4793-9d65-b2a6f4dce0a1"
      },
      "execution_count": 3,
      "outputs": [
        {
          "output_type": "display_data",
          "data": {
            "text/plain": [
              "<IPython.core.display.HTML object>"
            ],
            "text/html": [
              "\n",
              "     <input type=\"file\" id=\"files-6f1125ad-9059-4029-abfb-9a96e42eb853\" name=\"files[]\" multiple disabled\n",
              "        style=\"border:none\" />\n",
              "     <output id=\"result-6f1125ad-9059-4029-abfb-9a96e42eb853\">\n",
              "      Upload widget is only available when the cell has been executed in the\n",
              "      current browser session. Please rerun this cell to enable.\n",
              "      </output>\n",
              "      <script src=\"/nbextensions/google.colab/files.js\"></script> "
            ]
          },
          "metadata": {}
        },
        {
          "output_type": "stream",
          "name": "stdout",
          "text": [
            "Saving Source_data.csv to Source_data.csv\n"
          ]
        }
      ]
    },
    {
      "cell_type": "code",
      "source": [
        "#load in geological dataset \n",
        "import io\n",
        "source_data = pd.read_csv(io.BytesIO(uploaded['Source_data.csv']))"
      ],
      "metadata": {
        "id": "mA17kvLJHNZl"
      },
      "execution_count": 5,
      "outputs": []
    },
    {
      "cell_type": "markdown",
      "source": [
        "Elements "
      ],
      "metadata": {
        "id": "QtHE_U8zYMP2"
      }
    },
    {
      "cell_type": "code",
      "source": [
        "#X = source_data.iloc[:,5:21].values\n",
        "#y = source_data.iloc[:,3].values"
      ],
      "metadata": {
        "id": "YddAMsWZHN5c"
      },
      "execution_count": 6,
      "outputs": []
    },
    {
      "cell_type": "code",
      "source": [
        "X = source_data[['Al2O3', 'SiO2', 'P2O5', 'K2O', 'CaO', 'TiO2', 'V', 'MnO', 'FeO2O3', 'Ni', 'Cu', 'Zn', 'Rb', 'Sr', 'Y', 'Zr']]\n",
        "y = source_data['Geochem']"
      ],
      "metadata": {
        "id": "XmEsSdImkWWZ"
      },
      "execution_count": 33,
      "outputs": []
    },
    {
      "cell_type": "code",
      "source": [
        "print(X)"
      ],
      "metadata": {
        "colab": {
          "base_uri": "https://localhost:8080/"
        },
        "id": "wYcwa-ISYNYi",
        "outputId": "584eb669-1423-4ff3-ab66-c8c3baee61d7"
      },
      "execution_count": 27,
      "outputs": [
        {
          "output_type": "stream",
          "name": "stdout",
          "text": [
            "     Al2O3   SiO2  P2O5   K2O   CaO  TiO2      V   MnO  FeO2O3     Ni     Cu  \\\n",
            "0    17.58  57.33  0.16  0.51  8.41  0.61  240.0  0.16    3.27   10.0   75.0   \n",
            "1    15.00  66.28  0.16  0.88  5.15  0.48   97.0  0.14    1.91    0.2   17.0   \n",
            "2    15.13  66.43  0.14  0.90  5.24  0.47   94.0  0.14    2.74    0.2   15.0   \n",
            "3    14.74  69.44  0.16  1.03  4.38  0.40   43.0  0.12    1.73    0.2    9.0   \n",
            "4    14.63  65.80  0.15  0.88  5.31  0.48   80.0  0.15    1.71    0.1    9.0   \n",
            "..     ...    ...   ...   ...   ...   ...    ...   ...     ...    ...    ...   \n",
            "309  16.80  52.30  0.70  2.05  7.95  1.48  280.0  0.16    2.45   33.0  100.0   \n",
            "310  17.10  58.50  0.50  2.70  6.40  1.01  130.0  0.16    3.55    8.0   22.0   \n",
            "311  14.10  47.10  0.42  0.95  9.90  1.28  280.0  0.18    3.45  222.0   68.0   \n",
            "312  16.20  52.50  0.50  1.80  8.20  1.01  195.0  0.18    2.95   97.0   52.0   \n",
            "313  17.30  60.20  0.34  2.50  6.00  0.68  120.0  0.12    2.95   10.0   42.0   \n",
            "\n",
            "       Zn    Rb     Sr     Y     Zr    Nb  \n",
            "0    86.0   6.1  420.0  19.0   34.0   0.0  \n",
            "1    76.0  12.0  330.0  20.0   50.0   0.0  \n",
            "2    86.0  13.0  370.0  21.0   58.0   0.0  \n",
            "3    67.0  14.0  310.0  16.0   58.0   0.0  \n",
            "4    84.0  13.0  355.0  15.0   59.0   0.1  \n",
            "..    ...   ...    ...   ...    ...   ...  \n",
            "309   0.0  43.0  765.0  24.5  135.0   9.0  \n",
            "310   0.0  81.0  785.0  23.5  285.0  12.0  \n",
            "311   0.0  29.0  675.0  20.5  146.0   8.9  \n",
            "312   0.0  39.5  690.0  22.0  187.0  13.5  \n",
            "313   0.0  71.0  765.0  21.5  256.0  14.0  \n",
            "\n",
            "[314 rows x 17 columns]\n"
          ]
        }
      ]
    },
    {
      "cell_type": "code",
      "source": [
        "print(y)"
      ],
      "metadata": {
        "colab": {
          "base_uri": "https://localhost:8080/"
        },
        "id": "CCRd9vWumfYp",
        "outputId": "16dca09b-f10e-439b-e507-e93bddf92d0a"
      },
      "execution_count": 51,
      "outputs": [
        {
          "output_type": "stream",
          "name": "stdout",
          "text": [
            "0               E\n",
            "1               E\n",
            "2               E\n",
            "3               E\n",
            "4               E\n",
            "          ...    \n",
            "309    New Guinea\n",
            "310    New Guinea\n",
            "311    New Guinea\n",
            "312    New Guinea\n",
            "313    New Guinea\n",
            "Name: Geochem, Length: 314, dtype: object\n"
          ]
        }
      ]
    },
    {
      "cell_type": "code",
      "source": [
        "from google.colab import files\n",
        "uploaded = files.upload()"
      ],
      "metadata": {
        "colab": {
          "resources": {
            "http://localhost:8080/nbextensions/google.colab/files.js": {
              "data": "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",
              "ok": true,
              "headers": [
                [
                  "content-type",
                  "application/javascript"
                ]
              ],
              "status": 200,
              "status_text": ""
            }
          },
          "base_uri": "https://localhost:8080/",
          "height": 73
        },
        "id": "hbMg6iWsBzC2",
        "outputId": "e05a5741-cc7e-400f-9e25-7458b3251485"
      },
      "execution_count": 10,
      "outputs": [
        {
          "output_type": "display_data",
          "data": {
            "text/plain": [
              "<IPython.core.display.HTML object>"
            ],
            "text/html": [
              "\n",
              "     <input type=\"file\" id=\"files-cb5d9bf1-10fa-46ee-9618-29ab334faeba\" name=\"files[]\" multiple disabled\n",
              "        style=\"border:none\" />\n",
              "     <output id=\"result-cb5d9bf1-10fa-46ee-9618-29ab334faeba\">\n",
              "      Upload widget is only available when the cell has been executed in the\n",
              "      current browser session. Please rerun this cell to enable.\n",
              "      </output>\n",
              "      <script src=\"/nbextensions/google.colab/files.js\"></script> "
            ]
          },
          "metadata": {}
        },
        {
          "output_type": "stream",
          "name": "stdout",
          "text": [
            "Saving dampier_data.csv to dampier_data.csv\n"
          ]
        }
      ]
    },
    {
      "cell_type": "code",
      "source": [
        "#load in artefact data \n",
        "dampier_data = pd.read_csv(io.BytesIO(uploaded['dampier_data.csv']))"
      ],
      "metadata": {
        "id": "r1H_stbMB0Zk"
      },
      "execution_count": 11,
      "outputs": []
    },
    {
      "cell_type": "code",
      "source": [
        "#testX = dampier_data.iloc[:,3:19].values\n",
        "#print(testX)"
      ],
      "metadata": {
        "colab": {
          "base_uri": "https://localhost:8080/"
        },
        "id": "A6pUFeksB2rg",
        "outputId": "2b9d5435-b561-42e0-dee9-e49f6deb555c"
      },
      "execution_count": 12,
      "outputs": [
        {
          "output_type": "stream",
          "name": "stdout",
          "text": [
            "[[3.65e+01 0.00e+00 5.00e-01 1.09e+01 6.00e-01 9.88e+01 1.00e-01 9.80e+00\n",
            "  6.30e+01 7.20e+01 8.70e+01 8.00e+00 2.76e+02 1.90e+01 1.30e+01 6.00e+00]]\n"
          ]
        }
      ]
    },
    {
      "cell_type": "code",
      "source": [
        "dampier_axe = dampier_data[['Al2O3', 'SiO2', 'P2O5', 'K2O', 'CaO', 'TiO2', 'V', 'MnO', 'FeO2O3', 'Ni', 'Cu', 'Zn', 'Rb', 'Sr', 'Y', 'Zr']]\n",
        "textX = dampier_axe.values.tolist()\n",
        "print(textX)"
      ],
      "metadata": {
        "colab": {
          "base_uri": "https://localhost:8080/"
        },
        "id": "YXBqKxN3kdk9",
        "outputId": "f3e20ca1-18e1-49bc-ecd6-8197f91d1d57"
      },
      "execution_count": 36,
      "outputs": [
        {
          "output_type": "stream",
          "name": "stdout",
          "text": [
            "[[15.3, 36.5, 0.0, 0.5, 10.9, 0.6, 98.8, 0.1, 9.8, 63.0, 72.0, 87.0, 8.0, 276.0, 19.0, 13.0]]\n"
          ]
        }
      ]
    },
    {
      "cell_type": "code",
      "source": [
        "dampier_axe.info()"
      ],
      "metadata": {
        "colab": {
          "base_uri": "https://localhost:8080/"
        },
        "id": "AOYtCCgikwIB",
        "outputId": "93a7ceb4-e176-4d60-e2ca-72bb88e283f1"
      },
      "execution_count": 52,
      "outputs": [
        {
          "output_type": "stream",
          "name": "stdout",
          "text": [
            "<class 'pandas.core.frame.DataFrame'>\n",
            "RangeIndex: 1 entries, 0 to 0\n",
            "Data columns (total 16 columns):\n",
            " #   Column  Non-Null Count  Dtype  \n",
            "---  ------  --------------  -----  \n",
            " 0   Al2O3   1 non-null      float64\n",
            " 1   SiO2    1 non-null      float64\n",
            " 2   P2O5    1 non-null      int64  \n",
            " 3   K2O     1 non-null      float64\n",
            " 4   CaO     1 non-null      float64\n",
            " 5   TiO2    1 non-null      float64\n",
            " 6   V       1 non-null      float64\n",
            " 7   MnO     1 non-null      float64\n",
            " 8   FeO2O3  1 non-null      float64\n",
            " 9   Ni      1 non-null      int64  \n",
            " 10  Cu      1 non-null      int64  \n",
            " 11  Zn      1 non-null      int64  \n",
            " 12  Rb      1 non-null      int64  \n",
            " 13  Sr      1 non-null      int64  \n",
            " 14  Y       1 non-null      int64  \n",
            " 15  Zr      1 non-null      int64  \n",
            "dtypes: float64(8), int64(8)\n",
            "memory usage: 256.0 bytes\n"
          ]
        }
      ]
    },
    {
      "cell_type": "code",
      "source": [
        "from sklearn.preprocessing import StandardScaler\n",
        "sc = StandardScaler()\n",
        "scaler = sc.fit(X)\n",
        "trainX_scaled = scaler.transform(X)\n",
        "testX_scaled = scaler.transform(testX)"
      ],
      "metadata": {
        "id": "9N8IgUUcH53F",
        "colab": {
          "base_uri": "https://localhost:8080/"
        },
        "outputId": "d8414690-565a-4ce3-c04c-67dca1382f29"
      },
      "execution_count": 53,
      "outputs": [
        {
          "output_type": "stream",
          "name": "stderr",
          "text": [
            "/usr/local/lib/python3.7/dist-packages/sklearn/base.py:451: UserWarning: X does not have valid feature names, but StandardScaler was fitted with feature names\n",
            "  \"X does not have valid feature names, but\"\n"
          ]
        }
      ]
    },
    {
      "cell_type": "code",
      "source": [
        "from sklearn.discriminant_analysis import LinearDiscriminantAnalysis as LDA\n",
        "lda = LDA(n_components = 3)\n",
        "model = lda.fit(trainX_scaled, y)\n",
        "print(model)"
      ],
      "metadata": {
        "id": "iCOMvaMDIJ5I",
        "colab": {
          "base_uri": "https://localhost:8080/"
        },
        "outputId": "c620df51-5ba6-4de8-ee9f-b65771d77a09"
      },
      "execution_count": 73,
      "outputs": [
        {
          "output_type": "stream",
          "name": "stdout",
          "text": [
            "LinearDiscriminantAnalysis(n_components=3)\n"
          ]
        }
      ]
    },
    {
      "cell_type": "code",
      "source": [
        "lda.explained_variance_ratio_.sum()"
      ],
      "metadata": {
        "colab": {
          "base_uri": "https://localhost:8080/"
        },
        "id": "mN6DufVQAxjU",
        "outputId": "a21e2107-2d97-4905-c438-c5a503ec5905"
      },
      "execution_count": 68,
      "outputs": [
        {
          "output_type": "execute_result",
          "data": {
            "text/plain": [
              "0.8801229176051104"
            ]
          },
          "metadata": {},
          "execution_count": 68
        }
      ]
    },
    {
      "cell_type": "code",
      "source": [
        "trainX_lda = lda.transform(trainX_scaled)\n",
        "testX_lda =lda.transform(testX_scaled)"
      ],
      "metadata": {
        "id": "VosmfKsUA4L1"
      },
      "execution_count": 74,
      "outputs": []
    },
    {
      "cell_type": "code",
      "source": [
        "print(trainX_lda)"
      ],
      "metadata": {
        "id": "4r5x_4OyEBgg"
      },
      "execution_count": null,
      "outputs": []
    },
    {
      "cell_type": "code",
      "source": [
        "print(testX_lda)"
      ],
      "metadata": {
        "colab": {
          "base_uri": "https://localhost:8080/"
        },
        "id": "mcmf7LnzI1ml",
        "outputId": "d9a255dc-b105-4868-b2a9-fec3c5fd3c43"
      },
      "execution_count": 76,
      "outputs": [
        {
          "output_type": "stream",
          "name": "stdout",
          "text": [
            "[[262.49041622  39.68199101 534.7439979 ]]\n"
          ]
        }
      ]
    },
    {
      "cell_type": "code",
      "source": [
        "from sklearn.model_selection import RepeatedStratifiedKFold\n",
        "from sklearn.model_selection import cross_val_score\n",
        "\n",
        "#Define method to evaluate model\n",
        "cv = RepeatedStratifiedKFold(n_splits=10, n_repeats=3, random_state=1)\n",
        "\n",
        "#evaluate model\n",
        "scores = cross_val_score(model, trainX_scaled, y, scoring='accuracy', cv=cv, n_jobs=-1)\n",
        "print(np.mean(scores))   \n",
        "print(scores)"
      ],
      "metadata": {
        "colab": {
          "base_uri": "https://localhost:8080/"
        },
        "id": "hWCICivpIKwH",
        "outputId": "d21fbbc5-e2d5-4ea8-d32d-7683b2ae4c33"
      },
      "execution_count": 77,
      "outputs": [
        {
          "output_type": "stream",
          "name": "stdout",
          "text": [
            "0.8599462365591397\n",
            "[0.9375     0.71875    0.875      0.8125     0.80645161 0.90322581\n",
            " 0.90322581 0.90322581 0.87096774 0.90322581 0.90625    0.875\n",
            " 0.9375     0.90625    0.77419355 0.77419355 0.74193548 0.87096774\n",
            " 0.90322581 0.87096774 0.875      0.71875    0.75       0.9375\n",
            " 0.90322581 0.87096774 0.90322581 0.87096774 0.83870968 0.93548387]\n"
          ]
        }
      ]
    },
    {
      "cell_type": "code",
      "source": [
        "#from sklearn.linear_model import LogisticRegression\n",
        "#logReg = LogisticRegression()\n",
        "#logReg.fit(trainX_lda, y)"
      ],
      "metadata": {
        "colab": {
          "base_uri": "https://localhost:8080/"
        },
        "id": "xByO1bFWISsd",
        "outputId": "e93d555e-2616-454f-931a-16c9d9264c08"
      },
      "execution_count": 108,
      "outputs": [
        {
          "output_type": "stream",
          "name": "stderr",
          "text": [
            "/usr/local/lib/python3.7/dist-packages/sklearn/linear_model/_logistic.py:818: ConvergenceWarning:\n",
            "\n",
            "lbfgs failed to converge (status=1):\n",
            "STOP: TOTAL NO. of ITERATIONS REACHED LIMIT.\n",
            "\n",
            "Increase the number of iterations (max_iter) or scale the data as shown in:\n",
            "    https://scikit-learn.org/stable/modules/preprocessing.html\n",
            "Please also refer to the documentation for alternative solver options:\n",
            "    https://scikit-learn.org/stable/modules/linear_model.html#logistic-regression\n",
            "\n"
          ]
        },
        {
          "output_type": "execute_result",
          "data": {
            "text/plain": [
              "LogisticRegression()"
            ]
          },
          "metadata": {},
          "execution_count": 108
        }
      ]
    },
    {
      "cell_type": "markdown",
      "source": [
        "predict() can be executed on a trained model in order to predict the actual label over a new set of data. "
      ],
      "metadata": {
        "id": "jBVMeB_JKJWg"
      }
    },
    {
      "cell_type": "code",
      "source": [
        "from sklearn.metrics import accuracy_score\n",
        "pred_test = model.predict(testX_scaled)\n",
        "#print('Accuracy: {:.2f}'.format(accuracy_score(y, y_pred)))\n",
        "\n"
      ],
      "metadata": {
        "id": "Y2rpVOe2IZaJ"
      },
      "execution_count": 91,
      "outputs": []
    },
    {
      "cell_type": "markdown",
      "source": [
        "predict_proba() returns the class probabilities for each data point. "
      ],
      "metadata": {
        "id": "2PjfyNFnKT1O"
      }
    },
    {
      "cell_type": "code",
      "source": [
        "y_pred_test = model.predict_proba(testX_scaled)\n",
        "classes = model.classes_\n",
        "print(y_pred_test)\n",
        "\n",
        "#for class_name, proba in zip(classes, y_pred_test):\n",
        "    #print(f\"{class_name}: {proba}\")\n"
      ],
      "metadata": {
        "colab": {
          "base_uri": "https://localhost:8080/"
        },
        "id": "8G3L3RUNJB4G",
        "outputId": "9e05a6cd-1dce-4a46-9446-1f55d66331f3"
      },
      "execution_count": 103,
      "outputs": [
        {
          "output_type": "stream",
          "name": "stdout",
          "text": [
            "[[0.00000000e+000 0.00000000e+000 0.00000000e+000 0.00000000e+000\n",
            "  7.37269358e-113 1.00000000e+000 3.36213046e-040 0.00000000e+000]]\n"
          ]
        }
      ]
    },
    {
      "cell_type": "code",
      "source": [
        "print(classes)"
      ],
      "metadata": {
        "colab": {
          "base_uri": "https://localhost:8080/"
        },
        "id": "pIlKSjlJmFMn",
        "outputId": "66ffb10b-e6e4-4004-bff9-29d6fa4b950a"
      },
      "execution_count": 49,
      "outputs": [
        {
          "output_type": "stream",
          "name": "stdout",
          "text": [
            "['E' 'F' 'GN' 'GS' 'H' 'New Guinea' 'Rabaul' 'Vitiaz']\n"
          ]
        }
      ]
    },
    {
      "cell_type": "code",
      "source": [
        "np.max(model.predict_proba(testX_scaled))"
      ],
      "metadata": {
        "colab": {
          "base_uri": "https://localhost:8080/"
        },
        "id": "vO3zR-Z0EAmo",
        "outputId": "9f7aece2-7d37-4f69-a43a-ec9b1d90326c"
      },
      "execution_count": 97,
      "outputs": [
        {
          "output_type": "execute_result",
          "data": {
            "text/plain": [
              "1.0"
            ]
          },
          "metadata": {},
          "execution_count": 97
        }
      ]
    },
    {
      "cell_type": "code",
      "source": [
        "ix = y_pred_test.argmax(1).item()\n",
        "list = []\n",
        "list.append(pred_test[ix])\n",
        "list.append(f'{y_pred_test[0,ix]:.2%}')\n",
        "\n",
        "\n",
        "def get_predict_proba(row, model):\n",
        "return max(model.predict_proba(row.values.reshape(1,-1)))"
      ],
      "metadata": {
        "colab": {
          "base_uri": "https://localhost:8080/",
          "height": 222
        },
        "id": "ToLR_sD6nqpj",
        "outputId": "52a93f10-ab0e-4821-d34f-935a18533622"
      },
      "execution_count": 93,
      "outputs": [
        {
          "output_type": "error",
          "ename": "IndexError",
          "evalue": "ignored",
          "traceback": [
            "\u001b[0;31m---------------------------------------------------------------------------\u001b[0m",
            "\u001b[0;31mIndexError\u001b[0m                                Traceback (most recent call last)",
            "\u001b[0;32m<ipython-input-93-9a01a11e5b73>\u001b[0m in \u001b[0;36m<module>\u001b[0;34m()\u001b[0m\n\u001b[1;32m      1\u001b[0m \u001b[0mix\u001b[0m \u001b[0;34m=\u001b[0m \u001b[0my_pred_test\u001b[0m\u001b[0;34m.\u001b[0m\u001b[0margmax\u001b[0m\u001b[0;34m(\u001b[0m\u001b[0;36m1\u001b[0m\u001b[0;34m)\u001b[0m\u001b[0;34m.\u001b[0m\u001b[0mitem\u001b[0m\u001b[0;34m(\u001b[0m\u001b[0;34m)\u001b[0m\u001b[0;34m\u001b[0m\u001b[0;34m\u001b[0m\u001b[0m\n\u001b[1;32m      2\u001b[0m \u001b[0mlist\u001b[0m \u001b[0;34m=\u001b[0m \u001b[0;34m[\u001b[0m\u001b[0;34m]\u001b[0m\u001b[0;34m\u001b[0m\u001b[0;34m\u001b[0m\u001b[0m\n\u001b[0;32m----> 3\u001b[0;31m \u001b[0mlist\u001b[0m\u001b[0;34m.\u001b[0m\u001b[0mappend\u001b[0m\u001b[0;34m(\u001b[0m\u001b[0mpred_test\u001b[0m\u001b[0;34m[\u001b[0m\u001b[0mix\u001b[0m\u001b[0;34m]\u001b[0m\u001b[0;34m)\u001b[0m\u001b[0;34m\u001b[0m\u001b[0;34m\u001b[0m\u001b[0m\n\u001b[0m\u001b[1;32m      4\u001b[0m \u001b[0mlist\u001b[0m\u001b[0;34m.\u001b[0m\u001b[0mappend\u001b[0m\u001b[0;34m(\u001b[0m\u001b[0;34mf'{y_pred_test[0,ix]:.2%}'\u001b[0m\u001b[0;34m)\u001b[0m\u001b[0;34m\u001b[0m\u001b[0;34m\u001b[0m\u001b[0m\n",
            "\u001b[0;31mIndexError\u001b[0m: index 5 is out of bounds for axis 0 with size 1"
          ]
        }
      ]
    },
    {
      "cell_type": "code",
      "source": [
        "print(model.get_params())"
      ],
      "metadata": {
        "colab": {
          "base_uri": "https://localhost:8080/"
        },
        "id": "QCHmRWXoJU8Y",
        "outputId": "8c160eda-aa35-49d1-a712-c4886cb424ce"
      },
      "execution_count": 111,
      "outputs": [
        {
          "output_type": "stream",
          "name": "stdout",
          "text": [
            "{'covariance_estimator': None, 'n_components': 3, 'priors': None, 'shrinkage': None, 'solver': 'svd', 'store_covariance': False, 'tol': 0.0001}\n"
          ]
        }
      ]
    },
    {
      "cell_type": "code",
      "source": [
        "#y_pred_train = logReg.predict(trainX_lda)\n",
        "y_pred = model.predict(trainX_scaled)\n",
        "y_pred_train = model.predict_proba(trainX_scaled)\n"
      ],
      "metadata": {
        "id": "QOG6kkxtK59i"
      },
      "execution_count": 83,
      "outputs": []
    },
    {
      "cell_type": "code",
      "source": [
        "highest_prob = []\n",
        "\n",
        "for sample in range(y_pred_train.shape[0]):    #iterates through each sample\n",
        "    highest_prob.append(np.max(y_pred_train[sample]))   #gets max probability of that sample (highest likelyhood)\n",
        "    \n",
        "    \n",
        "print(len(highest_prob))"
      ],
      "metadata": {
        "colab": {
          "base_uri": "https://localhost:8080/"
        },
        "id": "Efe5FJFlJZcA",
        "outputId": "694419d2-c2e2-4470-d0aa-d966bb4eea19"
      },
      "execution_count": 84,
      "outputs": [
        {
          "output_type": "stream",
          "name": "stdout",
          "text": [
            "314\n"
          ]
        }
      ]
    },
    {
      "cell_type": "markdown",
      "source": [
        "Geochem regions "
      ],
      "metadata": {
        "id": "MxnnX-GQL6Gq"
      }
    },
    {
      "cell_type": "code",
      "source": [
        "df = pd.DataFrame({'sample':source_data.Name.values, 'predicted_cat':y_pred, 'prob_predicted':highest_prob, 'actual_cat':source_data.Geochem})\n",
        "\n",
        "with pd.option_context('display.max_rows', None, 'display.max_columns', None):  \n",
        "    print(df)"
      ],
      "metadata": {
        "colab": {
          "base_uri": "https://localhost:8080/"
        },
        "id": "6PvLOWiPJn2R",
        "outputId": "7d5f078a-7c87-48b5-c1fc-ff6f854ba9a0"
      },
      "execution_count": 85,
      "outputs": [
        {
          "output_type": "stream",
          "name": "stdout",
          "text": [
            "               sample predicted_cat  prob_predicted  actual_cat\n",
            "0         E1:68490025             F        0.848423           E\n",
            "1         E1:68490031             F        0.822661           E\n",
            "2         E1:68490033             F        0.902943           E\n",
            "3         E1:68490030             F        0.784486           E\n",
            "4         E1:75710021             F        0.740494           E\n",
            "5          E1:WP01001            GN        0.865929           E\n",
            "6           E1:W00013            GN        0.894250           E\n",
            "7          E1:WP01003            GN        0.935488           E\n",
            "8          E1:WP01002            GN        0.964281           E\n",
            "9         E2:51NG3028             E        0.984260           E\n",
            "10        E2:51NG3035             E        0.909428           E\n",
            "11       E2:51NG3039B             E        0.885431           E\n",
            "12        E3:51NG0113             E        0.749563           E\n",
            "13        E3:51NG0199             E        0.892404           E\n",
            "14        E3:51NG0202             E        0.898961           E\n",
            "15        E3:51NG0205             E        0.836244           E\n",
            "16        E3:51NG0208             E        0.921770           E\n",
            "17        E3:51NG0209             E        0.872614           E\n",
            "18        E3:51NG0213             E        0.744848           E\n",
            "19        E4:51NG0166             E        0.969500           E\n",
            "20        E4:51NG0171             E        0.984490           E\n",
            "21        E4:51NG0193             E        0.791750           E\n",
            "22       E4:51NG0195M             E        0.790364           E\n",
            "23       E4:51NG0195X             E        0.986243           E\n",
            "24        E4:51NG2604             E        0.985571           E\n",
            "25        E4:51NG3006             F        0.655342           E\n",
            "26        E4:51NG3020             E        0.947082           E\n",
            "27        E4:75710019             E        0.991579           E\n",
            "28        E4:75710020             E        0.951832           E\n",
            "29       E5:51NG0065B             E        0.957510           E\n",
            "30        E5:51NG0066             E        0.951604           E\n",
            "31        E5:51NG0079             E        0.948354           E\n",
            "32        E5:51NG0091             E        0.867198           E\n",
            "33        E5:51NG0094             E        0.596275           E\n",
            "34        E5:51NG0150             E        0.852110           E\n",
            "35        E5:51NG0156             E        0.905090           E\n",
            "36        E5:51NG0158             E        0.911427           E\n",
            "37        E5:51NG0822             E        0.971460           E\n",
            "38        E5:74710020             E        0.937513           E\n",
            "39        E5:74710021             E        0.946951           E\n",
            "40        E5:74710022             E        0.947851           E\n",
            "41        E5:74710023             E        0.970846           E\n",
            "42        E5:51NG0098             E        0.999879           E\n",
            "43       E6:53NG0850A             E        0.611681           E\n",
            "44       E6:53NG0850B             E        0.904223           E\n",
            "45       E6:53NG0857A             E        0.521149           E\n",
            "46       E6:53NG0857B             E        0.884563           E\n",
            "47        E6:53NG1014             E        0.677070           E\n",
            "48        E6:53NG2517             E        0.832243           E\n",
            "49       E2:51NG0217F             E        0.925878           E\n",
            "50        E2:51NG2649             E        0.977710           E\n",
            "51       E2:51NG3032A             E        0.618170           E\n",
            "52       E2:51NG0217B             E        0.950460           E\n",
            "53       E2:51NG3032C             E        0.670248           E\n",
            "54       E2:51NG3038B             E        0.626440           E\n",
            "55       E2:51NG3038G             E        0.958625           E\n",
            "56        E3:51NG0111             E        0.608890           E\n",
            "57        E3:51NG0115             E        0.757530           E\n",
            "58        E3:51NG0116             E        0.680869           E\n",
            "59        E3:51NG0117             E        0.927225           E\n",
            "60        E3:51NG0122             E        0.853948           E\n",
            "61        E3:51NG0123             E        0.784255           E\n",
            "62        E3:51NG0201             E        0.921257           E\n",
            "63       E4:51NG0174A             E        0.958960           E\n",
            "64       E4:51NG0191A             E        0.984263           E\n",
            "65        E5:51NG0059             E        0.965744           E\n",
            "66        E5:51NG0077             E        0.842432           E\n",
            "67        E5:70400504             E        0.948400           E\n",
            "68        E5:51NG0095             E        0.934567           E\n",
            "69        E5:70400505             E        0.975716           E\n",
            "70        E5:75710027             E        0.961877           E\n",
            "71        E5:51NG0089             E        0.999551           E\n",
            "72       E6:53NG0852A             E        0.766658           E\n",
            "73       E6:53NG0871D             E        0.709403           E\n",
            "74       E6:53NG0871E             E        0.855535           E\n",
            "75       E6:53NG1010B             E        0.577038           E\n",
            "76        E6:53NG1015             E        0.523141           E\n",
            "77       E6:53NG2514A             E        0.650264           E\n",
            "78        E6:53NG1037             F        0.830072           E\n",
            "79       E6:53NG2514C             E        0.741011           E\n",
            "80                RU1             E        0.947483           E\n",
            "81                RU2             E        0.939891           E\n",
            "82                RU3             E        0.978711           E\n",
            "83                RU4             E        0.870778           E\n",
            "84                RU5             E        0.592608           E\n",
            "85                RU6             E        0.973846           E\n",
            "86        F1:51NG0269             E        0.521909           F\n",
            "87        F1:51NG0274             F        0.627840           F\n",
            "88        F1:51NG0277             F        0.614675           F\n",
            "89        F1:51NG0283             E        0.725538           F\n",
            "90        F2:51NG2682             F        0.874766           F\n",
            "91        F4:68490003             F        0.778470           F\n",
            "92        F4:68490013             F        0.848635           F\n",
            "93        F4:68490047             F        0.876337           F\n",
            "94        F4:68490102             F        0.793388           F\n",
            "95        F4:68490108             F        0.968963           F\n",
            "96        F4:68490151             F        0.863656           F\n",
            "97       F4:68490152B             F        0.811414           F\n",
            "98        F4:68490153             F        0.977950           F\n",
            "99        F4:68490154             F        0.942289           F\n",
            "100       F4:68490162             F        0.633084           F\n",
            "101       F4:68490164             F        0.921777           F\n",
            "102      F4:68490171B             F        0.759007           F\n",
            "103       F4:68490174             F        0.820722           F\n",
            "104       F5:51NG0225             F        0.658878           F\n",
            "105       F5:51NG0233             F        0.564137           F\n",
            "106       F5:51NG0236             F        0.582832           F\n",
            "107       F5:51NG0239             F        0.521960           F\n",
            "108      F6:51NG0220A             F        0.792388           F\n",
            "109      F7:53NG0814B             E        0.502262           F\n",
            "110       F7:53NG0832             E        0.830156           F\n",
            "111      F7:53NG1058A             F        0.683234           F\n",
            "112      F1:51NG0270B             F        0.730772           F\n",
            "113       F1:51NG0276             F        0.757706           F\n",
            "114       F1:51NG0279             F        0.804555           F\n",
            "115      F2:51NG2683A             F        0.910909           F\n",
            "116      F2:51NG2683C             F        0.741718           F\n",
            "117      F2:51NG2683D             F        0.809111           F\n",
            "118      F2:51NG2683E             F        0.897427           F\n",
            "119      F2:51NG2685A            GS        0.515127           F\n",
            "120      F2:51NG2685B             F        0.869150           F\n",
            "121       F2:51NG2699             F        0.856560           F\n",
            "122      F3:51NG3062A             F        0.882821           F\n",
            "123       F3:51NG2686             F        0.642387           F\n",
            "124       F4:68490077             F        0.723319           F\n",
            "125      F4:68490092B             F        0.939269           F\n",
            "126      F4:68490159A             F        0.821680           F\n",
            "127            F4:174             F        0.695988           F\n",
            "128            F4:162             F        0.574325           F\n",
            "129           F4:159A             F        0.764915           F\n",
            "130            F4:108             F        0.936662           F\n",
            "131            F4:154             F        0.905322           F\n",
            "132            F4:92B             F        0.881663           F\n",
            "133            F4:164             F        0.839144           F\n",
            "134       F5:51NG0241             F        0.507261           F\n",
            "135      F6:51NG0218B             E        0.614992           F\n",
            "136      F6:51NG3052B             F        0.523313           F\n",
            "137      F7:53NG0814C             F        0.659016           F\n",
            "138      F7:53NG0839A             E        0.945462           F\n",
            "139      F7:53NG1047C             F        0.893156           F\n",
            "140       F7:53NG1051             F        0.794738           F\n",
            "141      F7:53NG2523C             E        0.536251           F\n",
            "142      F7:53NG2526A             F        0.789405           F\n",
            "143      F7:53NG0819B             F        0.645903           F\n",
            "144      F7:53NG0827A             E        0.932753           F\n",
            "145      F7:53NG0835G             E        0.861907           F\n",
            "146       F7:53NG1049             F        0.593955           F\n",
            "147       F7:53NG1054             E        0.493065           F\n",
            "148       F7:53NG0846             F        0.537096           F\n",
            "149           Gn1:114            GN        0.965507          GN\n",
            "150           Gn1:263             F        0.779978          GN\n",
            "151          Gn1:296B            GN        0.834156          GN\n",
            "152           Gn1:306            GN        0.905101          GN\n",
            "153           Gn1:308            GN        0.863880          GN\n",
            "154           Gn1:311            GN        0.471522          GN\n",
            "155           Gn1:319            GN        0.760584          GN\n",
            "156           Gn1:339            GN        0.888218          GN\n",
            "157      Gn1:51NG0256            GN        0.823299          GN\n",
            "158      Gn1:51NG0257            GN        0.811943          GN\n",
            "159      Gn1:75710018            GN        0.931250          GN\n",
            "160       Gn1:WP01010            GN        0.553394          GN\n",
            "161       Gn1:WP01007            GN        0.626083          GN\n",
            "162        Gn1:G02051            GN        0.987449          GN\n",
            "163        Gn1:G02055            GN        0.869288          GN\n",
            "164        Gn1:G02050            GN        0.993850          GN\n",
            "165       Gn1:WP01006            GN        0.878578          GN\n",
            "166       Gn1:WP01012            GN        0.881336          GN\n",
            "167       Gn1:DR10706            GN        0.998822          GN\n",
            "168       Gn1:DR10707            GN        0.963064          GN\n",
            "169       Gn1:DR16286            GN        0.536170          GN\n",
            "170       Gn1:DR10694            GN        0.995404          GN\n",
            "171       Gn1:DR10720            GN        0.999997          GN\n",
            "172       Gn1:DR10731            GN        0.998626          GN\n",
            "173       Gn1:DR10730            GN        0.806183          GN\n",
            "174     Gn1:51NG0258A            GN        0.580250          GN\n",
            "175      Gn1:75710026            GN        0.945620          GN\n",
            "176           Gn1:341            GS        0.543311          GN\n",
            "177      Gn2:51NG0242             E        0.775559          GN\n",
            "178      Gn2:51NG0246             E        0.575434          GN\n",
            "179      Gn2:51NG0248             E        0.794212          GN\n",
            "180     Gn2:51NG0245A             F        0.947452          GN\n",
            "181     Gn2:51NG0250A             E        0.817418          GN\n",
            "182      Gs1:51NG3063             E        0.775559          GS\n",
            "183      Gs1:51NG3064            GS        0.999791          GS\n",
            "184      Gs1:51NG3065            GS        0.961635          GS\n",
            "185      Gs1:75710022            GS        0.933613          GS\n",
            "186      Gs1:75710023            GS        0.999851          GS\n",
            "187         Gs:G02002            GS        0.989116          GS\n",
            "188         Gs:G02003            GS        0.996802          GS\n",
            "189     Gs2:51NG2707A            GS        0.585969          GS\n",
            "190     Gs2:51NG2707B            GS        0.997227          GS\n",
            "191      Gs2:51NG2708            GN        0.617212          GS\n",
            "192      Gs2:51NG2709            GS        0.998367          GS\n",
            "193          Gs3:279B            GS        1.000000          GS\n",
            "194           Gs3:343            GS        1.000000          GS\n",
            "195      Gs3:51NG0255            GS        0.642127          GS\n",
            "196      Gs3:51NG0271            GS        1.000000          GS\n",
            "197     Gs1:51NG0145B            GS        0.979770          GS\n",
            "198      Gs1:51NG0262            GS        0.999521          GS\n",
            "199     Gs1:51NG4004C            GS        0.801853          GS\n",
            "200     Gs2:51NG2713A            GS        0.994302          GS\n",
            "201     Gs2:51NG2713C            GS        0.971254          GS\n",
            "202     Gs2:51NG2714C            GS        0.997667          GS\n",
            "203       H1:48NG0013             H        0.999755           H\n",
            "204       H1:48NG0020             H        0.956913           H\n",
            "205       H1:48NG0500             H        0.999180           H\n",
            "206       H1:48NG0505             H        0.940710           H\n",
            "207       H1:48NG0520             H        0.908606           H\n",
            "208       H1:48NG0523             H        0.920589           H\n",
            "209       H2:48NG0028             H        1.000000           H\n",
            "210       H2:48NG0033             H        0.999999           H\n",
            "211       H2:48NG0034             H        1.000000           H\n",
            "212       H2:48NG0036             H        0.999995           H\n",
            "213       H2:48NG0526             H        1.000000           H\n",
            "214       H2:48NG0532             H        1.000000           H\n",
            "215       H2:48NG0556             H        0.999795           H\n",
            "216       H3:48NG0044             H        0.999998           H\n",
            "217      H3:48NG0048A             H        0.997703           H\n",
            "218       H3:48NG0582             H        0.999999           H\n",
            "219       H3:48NG0592             H        0.999990           H\n",
            "220       H3:48NG0601             H        0.999934           H\n",
            "221       H3:48NG0605             H        0.999980           H\n",
            "222       H1:48NG0006             H        0.929550           H\n",
            "223       H1:48NG0022             H        0.999100           H\n",
            "224       H1:48NG0509             H        0.954824           H\n",
            "225       H2:48NG0559             H        0.999994           H\n",
            "226       H2:48NG0572             H        0.996141           H\n",
            "227       H2:48NG0538             H        0.998629           H\n",
            "228      H3:48NG0038A             H        1.000000           H\n",
            "229        samp. 8014        Rabaul        1.000000      Rabaul\n",
            "230        samp. 7084        Rabaul        1.000000      Rabaul\n",
            "231        samp. 8080        Rabaul        1.000000      Rabaul\n",
            "232        samp. 7007        Rabaul        1.000000      Rabaul\n",
            "233        samp. 6985        Rabaul        1.000000      Rabaul\n",
            "234        samp. 7066        Rabaul        0.999997      Rabaul\n",
            "235        samp. 8015        Rabaul        1.000000      Rabaul\n",
            "236        samp. 8087        Rabaul        1.000000      Rabaul\n",
            "237        samp. 8016        Rabaul        1.000000      Rabaul\n",
            "238        samp. 8042        Rabaul        0.999999      Rabaul\n",
            "239        samp. 8047        Rabaul        0.999998      Rabaul\n",
            "240        samp. 8058        Rabaul        1.000000      Rabaul\n",
            "241       samp. RAB53        Rabaul        0.999748      Rabaul\n",
            "242      samp. RAB97B        Rabaul        0.999985      Rabaul\n",
            "243     samp. RAB182E        Rabaul        1.000000      Rabaul\n",
            "244      samp. RAB11A        Rabaul        0.999999      Rabaul\n",
            "245     samp. RAB184D        Rabaul        0.999993      Rabaul\n",
            "246     samp. RABB20G        Rabaul        0.999998      Rabaul\n",
            "247      samp. RAB401        Rabaul        0.999984      Rabaul\n",
            "248     samp. RAB105A        Rabaul        0.999940      Rabaul\n",
            "249      samp. RAB125        Rabaul        0.999997      Rabaul\n",
            "250      samp. RAB167        Rabaul        1.000000      Rabaul\n",
            "251     samp. RAB182A        Rabaul        0.969148      Rabaul\n",
            "252     samp. RP98413        Rabaul        0.996089      Rabaul\n",
            "253     samp. RP98410        Rabaul        0.997557      Rabaul\n",
            "254       samp. RAB59        Rabaul        0.927106      Rabaul\n",
            "255      samp. RAB159        Rabaul        0.894601      Rabaul\n",
            "256     samp. RP98411        Rabaul        0.972072      Rabaul\n",
            "257     samp. RP98415        Rabaul        0.993452      Rabaul\n",
            "258    samp. TAVQ-817        Rabaul        0.999999      Rabaul\n",
            "259     samp. TAVT820        Rabaul        0.999997      Rabaul\n",
            "260    samp. TAVW-823        Rabaul        0.999998      Rabaul\n",
            "261    samp. VULA-801        Rabaul        0.999997      Rabaul\n",
            "262    samp. VULM-813        Rabaul        0.999996      Rabaul\n",
            "263    samp. VULP-816        Rabaul        0.999997      Rabaul\n",
            "264    samp. VULN-814        Rabaul        0.999995      Rabaul\n",
            "265    samp. VULG-807        Rabaul        0.999997      Rabaul\n",
            "266   samp. VULH-808B        Rabaul        0.999998      Rabaul\n",
            "267     samp. VULK811        Rabaul        0.999998      Rabaul\n",
            "268       samp. SER40        Rabaul        0.999999      Rabaul\n",
            "269     samp. RP98020        Rabaul        0.999995      Rabaul\n",
            "270    samp. RP96-030        Rabaul        0.999999      Rabaul\n",
            "271    samp. RP96-049        Rabaul        0.999999      Rabaul\n",
            "272     samp. RP96080        Rabaul        0.999993      Rabaul\n",
            "273     samp. RP96100        Rabaul        0.999999      Rabaul\n",
            "274     samp. RP97001        Rabaul        0.999998      Rabaul\n",
            "275     samp. RP97030        Rabaul        0.999996      Rabaul\n",
            "276     samp. RP97212        Rabaul        0.999997      Rabaul\n",
            "277     samp. RP97222        Rabaul        0.999995      Rabaul\n",
            "278     samp. RP98048        Rabaul        0.999993      Rabaul\n",
            "279     samp. RP98051        Rabaul        0.999991      Rabaul\n",
            "280     samp. RP99007        Rabaul        0.999993      Rabaul\n",
            "281     samp. RP99011        Rabaul        0.999999      Rabaul\n",
            "282   samp. RP0015P17        Rabaul        0.970195      Rabaul\n",
            "283   samp. 18NG-1010        Vitiaz        1.000000      Vitiaz\n",
            "284   samp. 18NG-1023        Vitiaz        1.000000      Vitiaz\n",
            "285   samp. 19NG-0953        Vitiaz        1.000000      Vitiaz\n",
            "286   samp. 7471-0030        Vitiaz        1.000000      Vitiaz\n",
            "287   samp. 7471-0001        Vitiaz        1.000000      Vitiaz\n",
            "288   samp. 7571-0015        Vitiaz        1.000000      Vitiaz\n",
            "289   samp. 26NG-0788        Vitiaz        1.000000      Vitiaz\n",
            "290   samp. 26NG-0787        Vitiaz        1.000000      Vitiaz\n",
            "291   samp. 32NG-0754        Vitiaz        1.000000      Vitiaz\n",
            "292  samp. 32NG-0143A        Vitiaz        1.000000      Vitiaz\n",
            "293   samp. 32NG-0124        Vitiaz        1.000000      Vitiaz\n",
            "294   samp. 32NG-0726        Vitiaz        1.000000      Vitiaz\n",
            "295   samp. 32NG-0679        Vitiaz        1.000000      Vitiaz\n",
            "296   samp. 32NG-0111        Vitiaz        1.000000      Vitiaz\n",
            "297   samp. 32NG-0682        Vitiaz        1.000000      Vitiaz\n",
            "298        s_1 [5432]    New Guinea        1.000000  New Guinea\n",
            "299        s_2 [5432]    New Guinea        1.000000  New Guinea\n",
            "300        s_3 [5432]    New Guinea        1.000000  New Guinea\n",
            "301        s_4 [5432]    New Guinea        1.000000  New Guinea\n",
            "302        s_5 [5432]    New Guinea        1.000000  New Guinea\n",
            "303        s_6 [5432]    New Guinea        1.000000  New Guinea\n",
            "304        s_7 [5432]    New Guinea        1.000000  New Guinea\n",
            "305        s_8 [5432]    New Guinea        1.000000  New Guinea\n",
            "306        s_9 [5432]    New Guinea        1.000000  New Guinea\n",
            "307       s_10 [5432]    New Guinea        1.000000  New Guinea\n",
            "308       s_11 [5432]    New Guinea        1.000000  New Guinea\n",
            "309       s_12 [5432]    New Guinea        1.000000  New Guinea\n",
            "310       s_13 [5432]    New Guinea        1.000000  New Guinea\n",
            "311       s_18 [5432]    New Guinea        1.000000  New Guinea\n",
            "312       s_19 [5432]    New Guinea        1.000000  New Guinea\n",
            "313       s_20 [5432]    New Guinea        1.000000  New Guinea\n"
          ]
        }
      ]
    },
    {
      "cell_type": "code",
      "source": [
        "print('classes: ', lda.classes_)\n",
        "print('Priors: ', lda.priors_)\n",
        "print('Explained variance ratio: ', lda.explained_variance_ratio_)"
      ],
      "metadata": {
        "colab": {
          "base_uri": "https://localhost:8080/"
        },
        "id": "dZdB219pEzGZ",
        "outputId": "c7fd3574-4e92-44e1-f472-4f86ced6dcef"
      },
      "execution_count": 86,
      "outputs": [
        {
          "output_type": "stream",
          "name": "stdout",
          "text": [
            "classes:  ['E' 'F' 'GN' 'GS' 'H' 'New Guinea' 'Rabaul' 'Vitiaz']\n",
            "Priors:  [0.27388535 0.20063694 0.10509554 0.06687898 0.08280255 0.05095541\n",
            " 0.17197452 0.0477707 ]\n",
            "Explained variance ratio:  [0.49708357 0.23986742 0.14317192]\n"
          ]
        }
      ]
    },
    {
      "cell_type": "code",
      "source": [
        "import plotly.express as px\n",
        "fig = px.scatter(source_data, x=trainX_lda[:,0], y=trainX_lda[:,1],\n",
        "                 labels = {\n",
        "                     \"x\": \"LDA 1\",\n",
        "                     \"y\": 'LDA 2',\n",
        "                 },\n",
        "                 opacity=1, color=y)\n",
        "\n",
        "# Set figure title\n",
        "fig.update_layout(title_text=\"LDA scatter plot of training data\")\n",
        "\n",
        "# Update marker size\n",
        "fig.update_traces(marker=dict(size=4))\n",
        "\n",
        "# Change chart background color\n",
        "fig.update_layout(dict(plot_bgcolor = 'white'))\n",
        "\n",
        "# Update axes lines\n",
        "fig.update_xaxes(showgrid=True, gridwidth=1, gridcolor='lightgrey', \n",
        "                 zeroline=True, zerolinewidth=1, zerolinecolor='lightgrey', \n",
        "                 showline=True, linewidth=1, linecolor='black')\n",
        "\n",
        "fig.update_yaxes(showgrid=True, gridwidth=1, gridcolor='lightgrey', \n",
        "                 zeroline=True, zerolinewidth=1, zerolinecolor='lightgrey', \n",
        "                 showline=True, linewidth=1, linecolor='black')\n",
        "\n",
        "fig.show()"
      ],
      "metadata": {
        "colab": {
          "base_uri": "https://localhost:8080/",
          "height": 542
        },
        "id": "x4FiHptsFRnf",
        "outputId": "db9d753f-bf44-49fd-fb67-65684616a41c"
      },
      "execution_count": 87,
      "outputs": [
        {
          "output_type": "display_data",
          "data": {
            "text/html": [
              "<html>\n",
              "<head><meta charset=\"utf-8\" /></head>\n",
              "<body>\n",
              "    <div>            <script src=\"https://cdnjs.cloudflare.com/ajax/libs/mathjax/2.7.5/MathJax.js?config=TeX-AMS-MML_SVG\"></script><script type=\"text/javascript\">if (window.MathJax) {MathJax.Hub.Config({SVG: {font: \"STIX-Web\"}});}</script>                <script type=\"text/javascript\">window.PlotlyConfig = {MathJaxConfig: 'local'};</script>\n",
              "        <script src=\"https://cdn.plot.ly/plotly-2.8.3.min.js\"></script>                <div id=\"d11691e6-9155-46e5-8786-fd0c933fe9ec\" class=\"plotly-graph-div\" style=\"height:525px; width:100%;\"></div>            <script type=\"text/javascript\">                                    window.PLOTLYENV=window.PLOTLYENV || {};                                    if (document.getElementById(\"d11691e6-9155-46e5-8786-fd0c933fe9ec\")) {                    Plotly.newPlot(                        \"d11691e6-9155-46e5-8786-fd0c933fe9ec\",                        [{\"hovertemplate\":\"Geochem=E<br>LDA 1=%{x}<br>LDA 2=%{y}<extra></extra>\",\"legendgroup\":\"E\",\"marker\":{\"color\":\"#636efa\",\"opacity\":1,\"symbol\":\"circle\",\"size\":4},\"mode\":\"markers\",\"name\":\"E\",\"orientation\":\"v\",\"showlegend\":true,\"x\":[-2.3030601494733283,-2.6068660580166525,-2.8627277601318526,-2.394155757581493,-2.291219596144521,-1.9719790859087214,-2.249720479475889,-2.3899708304296796,-2.1577508296415924,-2.863215269196686,-3.0112884684735794,-2.2107587523191223,-1.7467947966379547,-2.898603164433133,-3.0893029758939656,-2.084611668701894,-2.2391147457544793,-1.9806104045488007,-2.3406592038275478,-1.6063865166036961,-1.296588590300501,-3.486229037935294,-2.898975900283623,-2.003214075759907,-2.643440063793606,-1.912192340648855,-2.6941759670490883,-2.634468424554768,-1.8556003848428013,-2.235190634687502,-2.1432823193347255,-2.3788267687102396,-2.578081360182395,-1.8372090335812452,-2.7361352535113337,-2.2217079204473573,-2.0308342821300904,-1.6173691896072115,-2.0594668291726252,-2.03427891253297,-2.101300220903496,-1.835893642188319,-4.440247337738729,-2.086036820382311,-1.6480441188738963,-1.868296507395951,-2.380548447255818,-3.0898486240713705,-2.3930294949958357,-2.471379608197447,-2.814253050418293,-1.6952662791653303,-2.1524788696752815,-1.487383878159959,-1.026318407428028,-2.668371832811585,-2.1273476550379082,-2.700616860952611,-2.1280315548316606,-2.2383824193961397,-2.6725263810281237,-1.8975704879253241,-2.5271170193443426,-1.7152367274582327,-2.0741501490827137,-2.1081638795576674,-2.4467937728151603,-2.102513465401743,-1.94454028778822,-1.8013721508683074,-2.006110824156703,-4.223078108120961,-1.8924143982715613,-1.7730125980966354,-1.3705137661601177,-2.703631783202314,-1.9319419205242623,-2.45852132733864,-1.5864495372187881,-2.0517969797938225,-1.709895619656441,-2.5271100790202143,-2.2773398626366905,-2.732395986594883,-4.493169426110318,-3.3043121631922334],\"xaxis\":\"x\",\"y\":[0.7246515744190687,0.23939849891465212,-0.04053852921414585,0.4998530714613536,-0.07016938936379906,-1.5202223534163832,-1.9854478011858692,0.09622168548936072,0.32912374574571335,0.5769666461265945,0.7719380888067389,0.8738801397022627,-0.2942947124728106,0.28214813626634927,-0.1634860763251565,0.13835030717897154,1.1637380436870737,1.348292404997322,0.8059832397269276,1.616779548296614,2.300783785494287,1.3061036638771844,1.0928013946103665,1.8097973734918853,1.3548599318175323,0.46886483724672123,1.1857199222802355,0.03332928090190431,1.131486701329904,0.8088461468657656,1.1349172081832455,0.8606047766661765,0.07562807847081103,1.1180134567903126,0.14266185878834797,0.5869423924245433,0.3625635652574675,1.6513929767105884,1.0751839916039716,1.2770861299913823,1.0959814926472426,1.2228068829491412,0.42430127348227126,1.1039831026575675,1.3802526995066746,0.8882329056667382,1.0165582179294055,0.3530248478626309,0.5124829894507194,0.7041737762198688,0.3791748169145217,1.1038278967460398,0.5858719914140547,1.0208750827887825,1.0210562090362951,0.8926624794802304,0.5796119245222093,0.9258010680298142,0.48611342607597513,1.3785747482328343,0.5437074961576469,0.6679269062922212,1.0185043595325103,1.3272933850332698,1.6204410054681595,0.7604067677788496,0.35578858399295715,0.8594758968034435,0.6083565053581951,0.9711033037403932,0.8138505107889821,0.15158773153310084,1.2256929390277727,0.66533124888478,0.9523867270444826,1.2033720440732882,1.1942472977013998,0.6910305853284653,0.5364987853170105,0.9737036118521736,2.3588316838947185,0.7934722486401206,1.1697385604942458,2.581835057049224,-0.7305614131365491,0.8354166132840031],\"yaxis\":\"y\",\"type\":\"scatter\"},{\"hovertemplate\":\"Geochem=F<br>LDA 1=%{x}<br>LDA 2=%{y}<extra></extra>\",\"legendgroup\":\"F\",\"marker\":{\"color\":\"#EF553B\",\"opacity\":1,\"symbol\":\"circle\",\"size\":4},\"mode\":\"markers\",\"name\":\"F\",\"orientation\":\"v\",\"showlegend\":true,\"x\":[-2.6513067038106675,-2.859575041011826,-2.129801760672889,-2.2994668851052396,-0.3797767241962495,-1.832117294689646,-1.775487943020158,-2.032220484457611,-1.9443156848580503,-1.9070460674776113,-2.4410372102127016,-2.324188424873101,-2.237704168580145,-1.773737151898775,-2.033847302711106,-1.499046652998985,-1.8840384598161841,-1.3557541407246272,-1.8815099291765798,-1.706889375264726,-1.6805075707895671,-1.7902401090387474,-1.680251956804263,-2.823375393361221,-2.272539040607517,-2.113631201250053,-1.337623645209707,-2.2631051665734496,-1.9107199787907976,-0.7844415288868284,-0.4131999721396232,-0.34274911050933904,-1.4728794618970318,0.8443060124295283,-0.9914155857413373,-2.7864700786594874,-4.004818587369513,-1.5158518701565067,-1.615625278137235,-2.5819704746225076,-1.4399612921726241,-1.8342310977134928,-2.6541997477802326,-1.968290217099107,-2.14854883636229,-2.0698343966307458,-2.731784006314512,-1.5044992644839472,-1.9368739883049746,-3.051664752123481,-1.7630912962376486,-2.837203789409051,-2.963472253441137,-2.7024304596026476,-1.7902955081168037,-1.944960983689911,-2.494433152521541,-2.157123294001654,-2.0518717321124416,-2.0045756075928205,-1.5726291823632532,-2.046001471759152,-2.1137692013591254],\"xaxis\":\"x\",\"y\":[0.1623692667396204,0.24308349597423204,0.9563674110253765,0.8262673700836562,1.8025626961604682,1.458225685673221,1.2166687846933415,1.1273373366199384,1.1926336471351577,1.6115828846543907,1.1944063793345128,0.8470523382631127,1.4969678108959963,1.2082333276523505,1.3442936487741768,1.826915394568238,1.538046985175526,1.6291274336783963,1.0709344022169778,1.2550296340444178,0.6912149637186155,1.366327444594434,0.9156631848707908,0.7863524278172737,0.9180361468883705,1.1798007823036953,1.3542101216902764,0.5769225006711175,0.7690277810677801,0.9477257282331943,1.0854791853155794,0.9378871225431075,1.1932248841078272,2.773843254372777,1.5452372265186622,1.4950132999523782,2.440956147074312,2.2232951764153506,1.1350229169086807,1.4381767404173458,1.6635737373745298,-1.7240296606941976,-2.0125609913070344,-0.9323877792906868,-0.8245088251725592,-1.0074808869628666,-0.4432673956381648,0.2651019949608415,0.7078140015293327,0.33790556950637596,0.7436939912360171,0.8094831669459073,0.2312288598988548,1.2426871396350878,1.22476300091453,1.235520426895485,0.4759606418530654,0.992334516588716,1.211508301635832,1.2072274734240005,1.245369347894725,0.8619730778911658,0.6680259647082762],\"yaxis\":\"y\",\"type\":\"scatter\"},{\"hovertemplate\":\"Geochem=GN<br>LDA 1=%{x}<br>LDA 2=%{y}<extra></extra>\",\"legendgroup\":\"GN\",\"marker\":{\"color\":\"#00cc96\",\"opacity\":1,\"symbol\":\"circle\",\"size\":4},\"mode\":\"markers\",\"name\":\"GN\",\"orientation\":\"v\",\"showlegend\":true,\"x\":[-0.9414275672489004,0.10978066797155613,0.005914609124630166,-1.758647023365884,-1.3903250475768585,0.06122403143315464,-2.7945614644616636,-0.816922145243364,-2.200602894814967,-1.4520855628332985,-1.3348258996480764,-1.6141679715959534,-1.8427508035226872,1.8658222107956668,2.044180869853986,1.4079679819109399,-2.7437690415327065,-2.542847726574295,-1.3084361359735284,-2.245222793472552,0.32594841058527396,1.5956411315170924,-0.5064161191536452,-2.185030814570083,-3.0269495922059617,-2.040478869977519,-1.2353172877641558,-0.17407455767538768,-1.3171741655609792,-1.1486863642071934,-1.740118729757592,-3.748009280836618,-1.6962750763468446],\"xaxis\":\"x\",\"y\":[1.6238229287596158,3.006672292975941,1.4902715216555742,1.4780122267771296,2.0969403829769138,2.0231856415989653,1.0200899158551933,0.8917711802692265,1.7092805640004443,1.4831331260857072,1.4583035081797204,-2.2267025816451502,-1.749513226720358,1.6349763511970477,0.8823481940053579,1.7346711161464703,-0.15646382236596434,-0.0012643418553832462,0.4012502557914555,1.489405434691382,0.7542550566809002,3.7132247519384207,1.1037211842208523,1.1259607738985509,1.3808066918617674,1.4300424089841752,1.735557042586079,1.3960052711572182,1.7387347734761005,1.9975381389571683,1.130022884737743,1.4529194356947104,1.3740121204257993],\"yaxis\":\"y\",\"type\":\"scatter\"},{\"hovertemplate\":\"Geochem=GS<br>LDA 1=%{x}<br>LDA 2=%{y}<extra></extra>\",\"legendgroup\":\"GS\",\"marker\":{\"color\":\"#ab63fa\",\"opacity\":1,\"symbol\":\"circle\",\"size\":4},\"mode\":\"markers\",\"name\":\"GS\",\"orientation\":\"v\",\"showlegend\":true,\"x\":[-1.3171741655609792,0.28188765339977684,-0.5049735400564556,-0.24115005624579897,-0.2253988390357833,0.6778016689546124,0.49982511536274754,0.12260352490748294,-0.11121952997925724,-0.9517824043992391,0.21586169530464525,0.5231229107427656,-0.6982975265531142,-0.026895079708206107,-0.7423325467710511,-0.4105344409797528,-0.3371644589039638,-1.103462707430397,-0.3574226918952437,0.018928786364505814,-0.18813386704539287],\"xaxis\":\"x\",\"y\":[1.7387347734761005,1.6666844832889471,1.4464950018138671,1.5348686705812566,1.9228811945574407,1.2495135606429069,1.028067233365845,2.6749487074129545,2.209097403805704,3.1553506676113248,1.727004090129057,1.261191478354417,0.8873789504785728,1.8258375621611247,1.073409444826979,1.5749658730544132,1.9047575241277643,1.4971057898070814,2.0036890796857985,1.7376847208905406,1.8514011823698586],\"yaxis\":\"y\",\"type\":\"scatter\"},{\"hovertemplate\":\"Geochem=H<br>LDA 1=%{x}<br>LDA 2=%{y}<extra></extra>\",\"legendgroup\":\"H\",\"marker\":{\"color\":\"#FFA15A\",\"opacity\":1,\"symbol\":\"circle\",\"size\":4},\"mode\":\"markers\",\"name\":\"H\",\"orientation\":\"v\",\"showlegend\":true,\"x\":[2.237978380636715,3.307913611403117,2.5940466527067607,3.177140266683283,3.651080131008799,3.215593019534475,5.4924107827959165,2.5940103983991305,6.006391538134728,2.573273930847032,5.311375099694986,3.9401697257957093,2.8154663489519414,2.685236545503434,4.221362377181353,2.9382451990943843,2.0503081669962953,2.9587661886348338,2.85883684486576,1.0941153863473934,2.0766349340440193,2.1900687898063533,2.7530996746727014,1.0075681154073148,2.4040088562145474,3.2758759511400806],\"xaxis\":\"x\",\"y\":[0.33259493946809887,-1.3945177769909687,0.7728583608581788,-0.47868025105863027,-1.2342154743750025,-0.607451452117203,-1.949247617386505,0.09351794603371302,-1.5515096514346904,-0.1504235491266583,-1.3487442041730349,-2.2255465968409096,-1.8271223679438353,0.9087269765223623,3.0092703119060653,0.616639186539508,0.4921701589186368,0.8193667447677045,0.9890713104499734,0.8337405894718022,0.6774231641400688,-0.038001584065449116,-0.6451917819456681,0.8292560606630853,-1.3606342093003374,0.9959978447170779],\"yaxis\":\"y\",\"type\":\"scatter\"},{\"hovertemplate\":\"Geochem=Rabaul<br>LDA 1=%{x}<br>LDA 2=%{y}<extra></extra>\",\"legendgroup\":\"Rabaul\",\"marker\":{\"color\":\"#19d3f3\",\"opacity\":1,\"symbol\":\"circle\",\"size\":4},\"mode\":\"markers\",\"name\":\"Rabaul\",\"orientation\":\"v\",\"showlegend\":true,\"x\":[1.337152458764079,3.359750586222927,3.7225980623273927,1.037180265658232,0.7110611176661942,4.1549325539241915,2.648118680511394,2.8107257405369483,2.4149074379639917,3.107801390483627,3.5318617408274786,2.2242629254100748,0.41032245526821404,0.6056210165088984,2.5197111053934322,3.744403592795661,3.168017762673444,2.2864648090779385,3.027854085073896,3.124734430738422,2.856732575571484,3.7419855380032168,0.6017113957057257,-0.3313913858861664,0.4758638590909331,0.4352194937855355,0.39561985835464847,0.712641953516347,0.6000258390383778,1.7768162251842696,2.3826596809408005,2.3431322037531777,2.399721852742635,2.4902222636510816,2.4470932003859387,2.6579842967955734,2.5137738589753726,2.42157153218056,2.3788038436871686,2.089808727814734,2.6777508309154947,2.2019858409831965,1.7354841017340168,2.564836970509408,1.4481465934450557,1.9251257360124103,2.359729263573261,1.5441677797690798,2.4248901964252654,3.076791031255252,3.16384094060638,3.222449856695007,2.2690194981173466,6.033038862537457],\"xaxis\":\"x\",\"y\":[-4.229344573254065,-6.577255151454307,-4.378532424310575,-4.283842498008507,-5.368258538509038,-5.025157799301298,-4.963112795301104,-3.4753399718180327,-3.5620478452144715,-3.188011854834056,-3.4805488766625947,-3.6215232991567934,-3.3486657567320504,-3.612127916283833,-4.2157980920566125,-4.407340223529863,-3.3859743317770308,-4.3347865016812195,-2.7376664657071412,-2.0142424749031944,-4.254645836006372,-4.475019950078653,-1.9069626847588204,-3.314664666988645,-2.6821182305571627,-1.8193532709609124,-1.568150289241554,-2.4543244278722978,-2.058626712137028,-3.3314243873845584,-3.0911771951864297,-3.04330940903139,-2.997105181727522,-2.9107338260783595,-3.0221097091867537,-2.881067381482875,-3.0665655984020224,-3.067461535420582,-3.176752810138346,-2.618835769132528,-3.2903836333691707,-2.725287796189435,-3.1380071878290647,-2.390085233165374,-3.142079535467892,-2.7701216842157104,-2.604651807130951,-2.9499494468871013,-2.5621637101101054,-3.184262665234889,-3.0937788580161594,-3.2312779705206625,-3.8808174540873432,-0.045202497659024315],\"yaxis\":\"y\",\"type\":\"scatter\"},{\"hovertemplate\":\"Geochem=Vitiaz<br>LDA 1=%{x}<br>LDA 2=%{y}<extra></extra>\",\"legendgroup\":\"Vitiaz\",\"marker\":{\"color\":\"#FF6692\",\"opacity\":1,\"symbol\":\"circle\",\"size\":4},\"mode\":\"markers\",\"name\":\"Vitiaz\",\"orientation\":\"v\",\"showlegend\":true,\"x\":[0.4134489749043618,1.3205341695710662,-0.1693195588338538,-0.504594098774536,-1.7347607464875716,-2.4424911268313845,-1.9556747519784583,-1.94821227553722,-0.30345029526299205,-0.40597181495003515,-0.3134789471816481,-0.223316625425117,-1.6925458053713802,0.8620397780835881,-2.02184709384419],\"xaxis\":\"x\",\"y\":[-4.029421447087938,-4.183549469999413,-4.712806444722481,-4.946077707769813,-5.640623653325189,-7.303157510717841,-5.817107118559808,-5.42506559026192,-5.1123141450565734,-6.401542991575962,-7.6496503814417744,-4.815313808223905,-5.609935249149305,-5.576999937977525,-5.603354107707521],\"yaxis\":\"y\",\"type\":\"scatter\"},{\"hovertemplate\":\"Geochem=New Guinea<br>LDA 1=%{x}<br>LDA 2=%{y}<extra></extra>\",\"legendgroup\":\"New Guinea\",\"marker\":{\"color\":\"#B6E880\",\"opacity\":1,\"symbol\":\"circle\",\"size\":4},\"mode\":\"markers\",\"name\":\"New Guinea\",\"orientation\":\"v\",\"showlegend\":true,\"x\":[12.51709017696362,10.91767338341857,12.412069760199541,7.39136330586522,7.866249785978243,9.511841207260753,10.665113219962793,12.168833178195909,13.762722858640027,11.66910108221973,10.052236788198288,10.390198959129936,12.41759861785173,10.55771676966935,9.117255479096695,10.09995678569766],\"xaxis\":\"x\",\"y\":[1.7090038039064837,3.201893301226402,4.414317773074661,4.0052789741868455,3.177487015877197,2.832816927565877,3.4785205992709036,1.4890510872491318,-0.47167279811810264,2.3794447510750736,7.1956629284561,7.215598796232661,4.822246414023821,6.220421298996177,6.392915048649205,4.211565053054645],\"yaxis\":\"y\",\"type\":\"scatter\"}],                        {\"template\":{\"data\":{\"bar\":[{\"error_x\":{\"color\":\"#2a3f5f\"},\"error_y\":{\"color\":\"#2a3f5f\"},\"marker\":{\"line\":{\"color\":\"#E5ECF6\",\"width\":0.5},\"pattern\":{\"fillmode\":\"overlay\",\"size\":10,\"solidity\":0.2}},\"type\":\"bar\"}],\"barpolar\":[{\"marker\":{\"line\":{\"color\":\"#E5ECF6\",\"width\":0.5},\"pattern\":{\"fillmode\":\"overlay\",\"size\":10,\"solidity\":0.2}},\"type\":\"barpolar\"}],\"carpet\":[{\"aaxis\":{\"endlinecolor\":\"#2a3f5f\",\"gridcolor\":\"white\",\"linecolor\":\"white\",\"minorgridcolor\":\"white\",\"startlinecolor\":\"#2a3f5f\"},\"baxis\":{\"endlinecolor\":\"#2a3f5f\",\"gridcolor\":\"white\",\"linecolor\":\"white\",\"minorgridcolor\":\"white\",\"startlinecolor\":\"#2a3f5f\"},\"type\":\"carpet\"}],\"choropleth\":[{\"colorbar\":{\"outlinewidth\":0,\"ticks\":\"\"},\"type\":\"choropleth\"}],\"contour\":[{\"colorbar\":{\"outlinewidth\":0,\"ticks\":\"\"},\"colorscale\":[[0.0,\"#0d0887\"],[0.1111111111111111,\"#46039f\"],[0.2222222222222222,\"#7201a8\"],[0.3333333333333333,\"#9c179e\"],[0.4444444444444444,\"#bd3786\"],[0.5555555555555556,\"#d8576b\"],[0.6666666666666666,\"#ed7953\"],[0.7777777777777778,\"#fb9f3a\"],[0.8888888888888888,\"#fdca26\"],[1.0,\"#f0f921\"]],\"type\":\"contour\"}],\"contourcarpet\":[{\"colorbar\":{\"outlinewidth\":0,\"ticks\":\"\"},\"type\":\"contourcarpet\"}],\"heatmap\":[{\"colorbar\":{\"outlinewidth\":0,\"ticks\":\"\"},\"colorscale\":[[0.0,\"#0d0887\"],[0.1111111111111111,\"#46039f\"],[0.2222222222222222,\"#7201a8\"],[0.3333333333333333,\"#9c179e\"],[0.4444444444444444,\"#bd3786\"],[0.5555555555555556,\"#d8576b\"],[0.6666666666666666,\"#ed7953\"],[0.7777777777777778,\"#fb9f3a\"],[0.8888888888888888,\"#fdca26\"],[1.0,\"#f0f921\"]],\"type\":\"heatmap\"}],\"heatmapgl\":[{\"colorbar\":{\"outlinewidth\":0,\"ticks\":\"\"},\"colorscale\":[[0.0,\"#0d0887\"],[0.1111111111111111,\"#46039f\"],[0.2222222222222222,\"#7201a8\"],[0.3333333333333333,\"#9c179e\"],[0.4444444444444444,\"#bd3786\"],[0.5555555555555556,\"#d8576b\"],[0.6666666666666666,\"#ed7953\"],[0.7777777777777778,\"#fb9f3a\"],[0.8888888888888888,\"#fdca26\"],[1.0,\"#f0f921\"]],\"type\":\"heatmapgl\"}],\"histogram\":[{\"marker\":{\"pattern\":{\"fillmode\":\"overlay\",\"size\":10,\"solidity\":0.2}},\"type\":\"histogram\"}],\"histogram2d\":[{\"colorbar\":{\"outlinewidth\":0,\"ticks\":\"\"},\"colorscale\":[[0.0,\"#0d0887\"],[0.1111111111111111,\"#46039f\"],[0.2222222222222222,\"#7201a8\"],[0.3333333333333333,\"#9c179e\"],[0.4444444444444444,\"#bd3786\"],[0.5555555555555556,\"#d8576b\"],[0.6666666666666666,\"#ed7953\"],[0.7777777777777778,\"#fb9f3a\"],[0.8888888888888888,\"#fdca26\"],[1.0,\"#f0f921\"]],\"type\":\"histogram2d\"}],\"histogram2dcontour\":[{\"colorbar\":{\"outlinewidth\":0,\"ticks\":\"\"},\"colorscale\":[[0.0,\"#0d0887\"],[0.1111111111111111,\"#46039f\"],[0.2222222222222222,\"#7201a8\"],[0.3333333333333333,\"#9c179e\"],[0.4444444444444444,\"#bd3786\"],[0.5555555555555556,\"#d8576b\"],[0.6666666666666666,\"#ed7953\"],[0.7777777777777778,\"#fb9f3a\"],[0.8888888888888888,\"#fdca26\"],[1.0,\"#f0f921\"]],\"type\":\"histogram2dcontour\"}],\"mesh3d\":[{\"colorbar\":{\"outlinewidth\":0,\"ticks\":\"\"},\"type\":\"mesh3d\"}],\"parcoords\":[{\"line\":{\"colorbar\":{\"outlinewidth\":0,\"ticks\":\"\"}},\"type\":\"parcoords\"}],\"pie\":[{\"automargin\":true,\"type\":\"pie\"}],\"scatter\":[{\"marker\":{\"colorbar\":{\"outlinewidth\":0,\"ticks\":\"\"}},\"type\":\"scatter\"}],\"scatter3d\":[{\"line\":{\"colorbar\":{\"outlinewidth\":0,\"ticks\":\"\"}},\"marker\":{\"colorbar\":{\"outlinewidth\":0,\"ticks\":\"\"}},\"type\":\"scatter3d\"}],\"scattercarpet\":[{\"marker\":{\"colorbar\":{\"outlinewidth\":0,\"ticks\":\"\"}},\"type\":\"scattercarpet\"}],\"scattergeo\":[{\"marker\":{\"colorbar\":{\"outlinewidth\":0,\"ticks\":\"\"}},\"type\":\"scattergeo\"}],\"scattergl\":[{\"marker\":{\"colorbar\":{\"outlinewidth\":0,\"ticks\":\"\"}},\"type\":\"scattergl\"}],\"scattermapbox\":[{\"marker\":{\"colorbar\":{\"outlinewidth\":0,\"ticks\":\"\"}},\"type\":\"scattermapbox\"}],\"scatterpolar\":[{\"marker\":{\"colorbar\":{\"outlinewidth\":0,\"ticks\":\"\"}},\"type\":\"scatterpolar\"}],\"scatterpolargl\":[{\"marker\":{\"colorbar\":{\"outlinewidth\":0,\"ticks\":\"\"}},\"type\":\"scatterpolargl\"}],\"scatterternary\":[{\"marker\":{\"colorbar\":{\"outlinewidth\":0,\"ticks\":\"\"}},\"type\":\"scatterternary\"}],\"surface\":[{\"colorbar\":{\"outlinewidth\":0,\"ticks\":\"\"},\"colorscale\":[[0.0,\"#0d0887\"],[0.1111111111111111,\"#46039f\"],[0.2222222222222222,\"#7201a8\"],[0.3333333333333333,\"#9c179e\"],[0.4444444444444444,\"#bd3786\"],[0.5555555555555556,\"#d8576b\"],[0.6666666666666666,\"#ed7953\"],[0.7777777777777778,\"#fb9f3a\"],[0.8888888888888888,\"#fdca26\"],[1.0,\"#f0f921\"]],\"type\":\"surface\"}],\"table\":[{\"cells\":{\"fill\":{\"color\":\"#EBF0F8\"},\"line\":{\"color\":\"white\"}},\"header\":{\"fill\":{\"color\":\"#C8D4E3\"},\"line\":{\"color\":\"white\"}},\"type\":\"table\"}]},\"layout\":{\"annotationdefaults\":{\"arrowcolor\":\"#2a3f5f\",\"arrowhead\":0,\"arrowwidth\":1},\"autotypenumbers\":\"strict\",\"coloraxis\":{\"colorbar\":{\"outlinewidth\":0,\"ticks\":\"\"}},\"colorscale\":{\"diverging\":[[0,\"#8e0152\"],[0.1,\"#c51b7d\"],[0.2,\"#de77ae\"],[0.3,\"#f1b6da\"],[0.4,\"#fde0ef\"],[0.5,\"#f7f7f7\"],[0.6,\"#e6f5d0\"],[0.7,\"#b8e186\"],[0.8,\"#7fbc41\"],[0.9,\"#4d9221\"],[1,\"#276419\"]],\"sequential\":[[0.0,\"#0d0887\"],[0.1111111111111111,\"#46039f\"],[0.2222222222222222,\"#7201a8\"],[0.3333333333333333,\"#9c179e\"],[0.4444444444444444,\"#bd3786\"],[0.5555555555555556,\"#d8576b\"],[0.6666666666666666,\"#ed7953\"],[0.7777777777777778,\"#fb9f3a\"],[0.8888888888888888,\"#fdca26\"],[1.0,\"#f0f921\"]],\"sequentialminus\":[[0.0,\"#0d0887\"],[0.1111111111111111,\"#46039f\"],[0.2222222222222222,\"#7201a8\"],[0.3333333333333333,\"#9c179e\"],[0.4444444444444444,\"#bd3786\"],[0.5555555555555556,\"#d8576b\"],[0.6666666666666666,\"#ed7953\"],[0.7777777777777778,\"#fb9f3a\"],[0.8888888888888888,\"#fdca26\"],[1.0,\"#f0f921\"]]},\"colorway\":[\"#636efa\",\"#EF553B\",\"#00cc96\",\"#ab63fa\",\"#FFA15A\",\"#19d3f3\",\"#FF6692\",\"#B6E880\",\"#FF97FF\",\"#FECB52\"],\"font\":{\"color\":\"#2a3f5f\"},\"geo\":{\"bgcolor\":\"white\",\"lakecolor\":\"white\",\"landcolor\":\"#E5ECF6\",\"showlakes\":true,\"showland\":true,\"subunitcolor\":\"white\"},\"hoverlabel\":{\"align\":\"left\"},\"hovermode\":\"closest\",\"mapbox\":{\"style\":\"light\"},\"paper_bgcolor\":\"white\",\"plot_bgcolor\":\"#E5ECF6\",\"polar\":{\"angularaxis\":{\"gridcolor\":\"white\",\"linecolor\":\"white\",\"ticks\":\"\"},\"bgcolor\":\"#E5ECF6\",\"radialaxis\":{\"gridcolor\":\"white\",\"linecolor\":\"white\",\"ticks\":\"\"}},\"scene\":{\"xaxis\":{\"backgroundcolor\":\"#E5ECF6\",\"gridcolor\":\"white\",\"gridwidth\":2,\"linecolor\":\"white\",\"showbackground\":true,\"ticks\":\"\",\"zerolinecolor\":\"white\"},\"yaxis\":{\"backgroundcolor\":\"#E5ECF6\",\"gridcolor\":\"white\",\"gridwidth\":2,\"linecolor\":\"white\",\"showbackground\":true,\"ticks\":\"\",\"zerolinecolor\":\"white\"},\"zaxis\":{\"backgroundcolor\":\"#E5ECF6\",\"gridcolor\":\"white\",\"gridwidth\":2,\"linecolor\":\"white\",\"showbackground\":true,\"ticks\":\"\",\"zerolinecolor\":\"white\"}},\"shapedefaults\":{\"line\":{\"color\":\"#2a3f5f\"}},\"ternary\":{\"aaxis\":{\"gridcolor\":\"white\",\"linecolor\":\"white\",\"ticks\":\"\"},\"baxis\":{\"gridcolor\":\"white\",\"linecolor\":\"white\",\"ticks\":\"\"},\"bgcolor\":\"#E5ECF6\",\"caxis\":{\"gridcolor\":\"white\",\"linecolor\":\"white\",\"ticks\":\"\"}},\"title\":{\"x\":0.05},\"xaxis\":{\"automargin\":true,\"gridcolor\":\"white\",\"linecolor\":\"white\",\"ticks\":\"\",\"title\":{\"standoff\":15},\"zerolinecolor\":\"white\",\"zerolinewidth\":2},\"yaxis\":{\"automargin\":true,\"gridcolor\":\"white\",\"linecolor\":\"white\",\"ticks\":\"\",\"title\":{\"standoff\":15},\"zerolinecolor\":\"white\",\"zerolinewidth\":2}}},\"xaxis\":{\"anchor\":\"y\",\"domain\":[0.0,1.0],\"title\":{\"text\":\"LDA 1\"},\"showgrid\":true,\"gridwidth\":1,\"gridcolor\":\"lightgrey\",\"zeroline\":true,\"zerolinewidth\":1,\"zerolinecolor\":\"lightgrey\",\"showline\":true,\"linewidth\":1,\"linecolor\":\"black\"},\"yaxis\":{\"anchor\":\"x\",\"domain\":[0.0,1.0],\"title\":{\"text\":\"LDA 2\"},\"showgrid\":true,\"gridwidth\":1,\"gridcolor\":\"lightgrey\",\"zeroline\":true,\"zerolinewidth\":1,\"zerolinecolor\":\"lightgrey\",\"showline\":true,\"linewidth\":1,\"linecolor\":\"black\"},\"legend\":{\"title\":{\"text\":\"Geochem\"},\"tracegroupgap\":0},\"margin\":{\"t\":60},\"title\":{\"text\":\"LDA scatter plot of training data\"},\"plot_bgcolor\":\"white\"},                        {\"responsive\": true}                    ).then(function(){\n",
              "                            \n",
              "var gd = document.getElementById('d11691e6-9155-46e5-8786-fd0c933fe9ec');\n",
              "var x = new MutationObserver(function (mutations, observer) {{\n",
              "        var display = window.getComputedStyle(gd).display;\n",
              "        if (!display || display === 'none') {{\n",
              "            console.log([gd, 'removed!']);\n",
              "            Plotly.purge(gd);\n",
              "            observer.disconnect();\n",
              "        }}\n",
              "}});\n",
              "\n",
              "// Listen for the removal of the full notebook cells\n",
              "var notebookContainer = gd.closest('#notebook-container');\n",
              "if (notebookContainer) {{\n",
              "    x.observe(notebookContainer, {childList: true});\n",
              "}}\n",
              "\n",
              "// Listen for the clearing of the current output cell\n",
              "var outputEl = gd.closest('.output');\n",
              "if (outputEl) {{\n",
              "    x.observe(outputEl, {childList: true});\n",
              "}}\n",
              "\n",
              "                        })                };                            </script>        </div>\n",
              "</body>\n",
              "</html>"
            ]
          },
          "metadata": {}
        }
      ]
    },
    {
      "cell_type": "code",
      "source": [
        "import plotly.express as px\n",
        "fig = px.scatter(dampier_data, x=testX_lda[:,0], y=testX_lda[:,1],\n",
        "                 labels = {\n",
        "                     \"x\": \"LDA 1\",\n",
        "                     \"y\": 'LDA 2',\n",
        "                 },\n",
        "                 opacity=1)\n",
        "\n",
        "# Set figure title\n",
        "fig.update_layout(title_text=\"LDA scatter plot of training data\")\n",
        "\n",
        "# Update marker size\n",
        "fig.update_traces(marker=dict(size=4))\n",
        "\n",
        "# Change chart background color\n",
        "fig.update_layout(dict(plot_bgcolor = 'white'))\n",
        "\n",
        "# Update axes lines\n",
        "fig.update_xaxes(showgrid=True, gridwidth=1, gridcolor='lightgrey', \n",
        "                 zeroline=True, zerolinewidth=1, zerolinecolor='lightgrey', \n",
        "                 showline=True, linewidth=1, linecolor='black')\n",
        "\n",
        "fig.update_yaxes(showgrid=True, gridwidth=1, gridcolor='lightgrey', \n",
        "                 zeroline=True, zerolinewidth=1, zerolinecolor='lightgrey', \n",
        "                 showline=True, linewidth=1, linecolor='black')\n",
        "\n",
        "fig.show()"
      ],
      "metadata": {
        "colab": {
          "base_uri": "https://localhost:8080/",
          "height": 542
        },
        "id": "WYeo4oNLN0F_",
        "outputId": "fb0f4bc1-32c9-4886-cb68-977005460729"
      },
      "execution_count": 122,
      "outputs": [
        {
          "output_type": "display_data",
          "data": {
            "text/html": [
              "<html>\n",
              "<head><meta charset=\"utf-8\" /></head>\n",
              "<body>\n",
              "    <div>            <script src=\"https://cdnjs.cloudflare.com/ajax/libs/mathjax/2.7.5/MathJax.js?config=TeX-AMS-MML_SVG\"></script><script type=\"text/javascript\">if (window.MathJax) {MathJax.Hub.Config({SVG: {font: \"STIX-Web\"}});}</script>                <script type=\"text/javascript\">window.PlotlyConfig = {MathJaxConfig: 'local'};</script>\n",
              "        <script src=\"https://cdn.plot.ly/plotly-2.8.3.min.js\"></script>                <div id=\"9b97d820-b537-4130-a399-60ad1d795eb2\" class=\"plotly-graph-div\" style=\"height:525px; width:100%;\"></div>            <script type=\"text/javascript\">                                    window.PLOTLYENV=window.PLOTLYENV || {};                                    if (document.getElementById(\"9b97d820-b537-4130-a399-60ad1d795eb2\")) {                    Plotly.newPlot(                        \"9b97d820-b537-4130-a399-60ad1d795eb2\",                        [{\"hovertemplate\":\"LDA 1=%{x}<br>LDA 2=%{y}<extra></extra>\",\"legendgroup\":\"\",\"marker\":{\"color\":\"#636efa\",\"opacity\":1,\"symbol\":\"circle\",\"size\":4},\"mode\":\"markers\",\"name\":\"\",\"orientation\":\"v\",\"showlegend\":false,\"x\":[-244.00536146125162],\"xaxis\":\"x\",\"y\":[-86.35312779100991],\"yaxis\":\"y\",\"type\":\"scatter\"}],                        {\"template\":{\"data\":{\"bar\":[{\"error_x\":{\"color\":\"#2a3f5f\"},\"error_y\":{\"color\":\"#2a3f5f\"},\"marker\":{\"line\":{\"color\":\"#E5ECF6\",\"width\":0.5},\"pattern\":{\"fillmode\":\"overlay\",\"size\":10,\"solidity\":0.2}},\"type\":\"bar\"}],\"barpolar\":[{\"marker\":{\"line\":{\"color\":\"#E5ECF6\",\"width\":0.5},\"pattern\":{\"fillmode\":\"overlay\",\"size\":10,\"solidity\":0.2}},\"type\":\"barpolar\"}],\"carpet\":[{\"aaxis\":{\"endlinecolor\":\"#2a3f5f\",\"gridcolor\":\"white\",\"linecolor\":\"white\",\"minorgridcolor\":\"white\",\"startlinecolor\":\"#2a3f5f\"},\"baxis\":{\"endlinecolor\":\"#2a3f5f\",\"gridcolor\":\"white\",\"linecolor\":\"white\",\"minorgridcolor\":\"white\",\"startlinecolor\":\"#2a3f5f\"},\"type\":\"carpet\"}],\"choropleth\":[{\"colorbar\":{\"outlinewidth\":0,\"ticks\":\"\"},\"type\":\"choropleth\"}],\"contour\":[{\"colorbar\":{\"outlinewidth\":0,\"ticks\":\"\"},\"colorscale\":[[0.0,\"#0d0887\"],[0.1111111111111111,\"#46039f\"],[0.2222222222222222,\"#7201a8\"],[0.3333333333333333,\"#9c179e\"],[0.4444444444444444,\"#bd3786\"],[0.5555555555555556,\"#d8576b\"],[0.6666666666666666,\"#ed7953\"],[0.7777777777777778,\"#fb9f3a\"],[0.8888888888888888,\"#fdca26\"],[1.0,\"#f0f921\"]],\"type\":\"contour\"}],\"contourcarpet\":[{\"colorbar\":{\"outlinewidth\":0,\"ticks\":\"\"},\"type\":\"contourcarpet\"}],\"heatmap\":[{\"colorbar\":{\"outlinewidth\":0,\"ticks\":\"\"},\"colorscale\":[[0.0,\"#0d0887\"],[0.1111111111111111,\"#46039f\"],[0.2222222222222222,\"#7201a8\"],[0.3333333333333333,\"#9c179e\"],[0.4444444444444444,\"#bd3786\"],[0.5555555555555556,\"#d8576b\"],[0.6666666666666666,\"#ed7953\"],[0.7777777777777778,\"#fb9f3a\"],[0.8888888888888888,\"#fdca26\"],[1.0,\"#f0f921\"]],\"type\":\"heatmap\"}],\"heatmapgl\":[{\"colorbar\":{\"outlinewidth\":0,\"ticks\":\"\"},\"colorscale\":[[0.0,\"#0d0887\"],[0.1111111111111111,\"#46039f\"],[0.2222222222222222,\"#7201a8\"],[0.3333333333333333,\"#9c179e\"],[0.4444444444444444,\"#bd3786\"],[0.5555555555555556,\"#d8576b\"],[0.6666666666666666,\"#ed7953\"],[0.7777777777777778,\"#fb9f3a\"],[0.8888888888888888,\"#fdca26\"],[1.0,\"#f0f921\"]],\"type\":\"heatmapgl\"}],\"histogram\":[{\"marker\":{\"pattern\":{\"fillmode\":\"overlay\",\"size\":10,\"solidity\":0.2}},\"type\":\"histogram\"}],\"histogram2d\":[{\"colorbar\":{\"outlinewidth\":0,\"ticks\":\"\"},\"colorscale\":[[0.0,\"#0d0887\"],[0.1111111111111111,\"#46039f\"],[0.2222222222222222,\"#7201a8\"],[0.3333333333333333,\"#9c179e\"],[0.4444444444444444,\"#bd3786\"],[0.5555555555555556,\"#d8576b\"],[0.6666666666666666,\"#ed7953\"],[0.7777777777777778,\"#fb9f3a\"],[0.8888888888888888,\"#fdca26\"],[1.0,\"#f0f921\"]],\"type\":\"histogram2d\"}],\"histogram2dcontour\":[{\"colorbar\":{\"outlinewidth\":0,\"ticks\":\"\"},\"colorscale\":[[0.0,\"#0d0887\"],[0.1111111111111111,\"#46039f\"],[0.2222222222222222,\"#7201a8\"],[0.3333333333333333,\"#9c179e\"],[0.4444444444444444,\"#bd3786\"],[0.5555555555555556,\"#d8576b\"],[0.6666666666666666,\"#ed7953\"],[0.7777777777777778,\"#fb9f3a\"],[0.8888888888888888,\"#fdca26\"],[1.0,\"#f0f921\"]],\"type\":\"histogram2dcontour\"}],\"mesh3d\":[{\"colorbar\":{\"outlinewidth\":0,\"ticks\":\"\"},\"type\":\"mesh3d\"}],\"parcoords\":[{\"line\":{\"colorbar\":{\"outlinewidth\":0,\"ticks\":\"\"}},\"type\":\"parcoords\"}],\"pie\":[{\"automargin\":true,\"type\":\"pie\"}],\"scatter\":[{\"marker\":{\"colorbar\":{\"outlinewidth\":0,\"ticks\":\"\"}},\"type\":\"scatter\"}],\"scatter3d\":[{\"line\":{\"colorbar\":{\"outlinewidth\":0,\"ticks\":\"\"}},\"marker\":{\"colorbar\":{\"outlinewidth\":0,\"ticks\":\"\"}},\"type\":\"scatter3d\"}],\"scattercarpet\":[{\"marker\":{\"colorbar\":{\"outlinewidth\":0,\"ticks\":\"\"}},\"type\":\"scattercarpet\"}],\"scattergeo\":[{\"marker\":{\"colorbar\":{\"outlinewidth\":0,\"ticks\":\"\"}},\"type\":\"scattergeo\"}],\"scattergl\":[{\"marker\":{\"colorbar\":{\"outlinewidth\":0,\"ticks\":\"\"}},\"type\":\"scattergl\"}],\"scattermapbox\":[{\"marker\":{\"colorbar\":{\"outlinewidth\":0,\"ticks\":\"\"}},\"type\":\"scattermapbox\"}],\"scatterpolar\":[{\"marker\":{\"colorbar\":{\"outlinewidth\":0,\"ticks\":\"\"}},\"type\":\"scatterpolar\"}],\"scatterpolargl\":[{\"marker\":{\"colorbar\":{\"outlinewidth\":0,\"ticks\":\"\"}},\"type\":\"scatterpolargl\"}],\"scatterternary\":[{\"marker\":{\"colorbar\":{\"outlinewidth\":0,\"ticks\":\"\"}},\"type\":\"scatterternary\"}],\"surface\":[{\"colorbar\":{\"outlinewidth\":0,\"ticks\":\"\"},\"colorscale\":[[0.0,\"#0d0887\"],[0.1111111111111111,\"#46039f\"],[0.2222222222222222,\"#7201a8\"],[0.3333333333333333,\"#9c179e\"],[0.4444444444444444,\"#bd3786\"],[0.5555555555555556,\"#d8576b\"],[0.6666666666666666,\"#ed7953\"],[0.7777777777777778,\"#fb9f3a\"],[0.8888888888888888,\"#fdca26\"],[1.0,\"#f0f921\"]],\"type\":\"surface\"}],\"table\":[{\"cells\":{\"fill\":{\"color\":\"#EBF0F8\"},\"line\":{\"color\":\"white\"}},\"header\":{\"fill\":{\"color\":\"#C8D4E3\"},\"line\":{\"color\":\"white\"}},\"type\":\"table\"}]},\"layout\":{\"annotationdefaults\":{\"arrowcolor\":\"#2a3f5f\",\"arrowhead\":0,\"arrowwidth\":1},\"autotypenumbers\":\"strict\",\"coloraxis\":{\"colorbar\":{\"outlinewidth\":0,\"ticks\":\"\"}},\"colorscale\":{\"diverging\":[[0,\"#8e0152\"],[0.1,\"#c51b7d\"],[0.2,\"#de77ae\"],[0.3,\"#f1b6da\"],[0.4,\"#fde0ef\"],[0.5,\"#f7f7f7\"],[0.6,\"#e6f5d0\"],[0.7,\"#b8e186\"],[0.8,\"#7fbc41\"],[0.9,\"#4d9221\"],[1,\"#276419\"]],\"sequential\":[[0.0,\"#0d0887\"],[0.1111111111111111,\"#46039f\"],[0.2222222222222222,\"#7201a8\"],[0.3333333333333333,\"#9c179e\"],[0.4444444444444444,\"#bd3786\"],[0.5555555555555556,\"#d8576b\"],[0.6666666666666666,\"#ed7953\"],[0.7777777777777778,\"#fb9f3a\"],[0.8888888888888888,\"#fdca26\"],[1.0,\"#f0f921\"]],\"sequentialminus\":[[0.0,\"#0d0887\"],[0.1111111111111111,\"#46039f\"],[0.2222222222222222,\"#7201a8\"],[0.3333333333333333,\"#9c179e\"],[0.4444444444444444,\"#bd3786\"],[0.5555555555555556,\"#d8576b\"],[0.6666666666666666,\"#ed7953\"],[0.7777777777777778,\"#fb9f3a\"],[0.8888888888888888,\"#fdca26\"],[1.0,\"#f0f921\"]]},\"colorway\":[\"#636efa\",\"#EF553B\",\"#00cc96\",\"#ab63fa\",\"#FFA15A\",\"#19d3f3\",\"#FF6692\",\"#B6E880\",\"#FF97FF\",\"#FECB52\"],\"font\":{\"color\":\"#2a3f5f\"},\"geo\":{\"bgcolor\":\"white\",\"lakecolor\":\"white\",\"landcolor\":\"#E5ECF6\",\"showlakes\":true,\"showland\":true,\"subunitcolor\":\"white\"},\"hoverlabel\":{\"align\":\"left\"},\"hovermode\":\"closest\",\"mapbox\":{\"style\":\"light\"},\"paper_bgcolor\":\"white\",\"plot_bgcolor\":\"#E5ECF6\",\"polar\":{\"angularaxis\":{\"gridcolor\":\"white\",\"linecolor\":\"white\",\"ticks\":\"\"},\"bgcolor\":\"#E5ECF6\",\"radialaxis\":{\"gridcolor\":\"white\",\"linecolor\":\"white\",\"ticks\":\"\"}},\"scene\":{\"xaxis\":{\"backgroundcolor\":\"#E5ECF6\",\"gridcolor\":\"white\",\"gridwidth\":2,\"linecolor\":\"white\",\"showbackground\":true,\"ticks\":\"\",\"zerolinecolor\":\"white\"},\"yaxis\":{\"backgroundcolor\":\"#E5ECF6\",\"gridcolor\":\"white\",\"gridwidth\":2,\"linecolor\":\"white\",\"showbackground\":true,\"ticks\":\"\",\"zerolinecolor\":\"white\"},\"zaxis\":{\"backgroundcolor\":\"#E5ECF6\",\"gridcolor\":\"white\",\"gridwidth\":2,\"linecolor\":\"white\",\"showbackground\":true,\"ticks\":\"\",\"zerolinecolor\":\"white\"}},\"shapedefaults\":{\"line\":{\"color\":\"#2a3f5f\"}},\"ternary\":{\"aaxis\":{\"gridcolor\":\"white\",\"linecolor\":\"white\",\"ticks\":\"\"},\"baxis\":{\"gridcolor\":\"white\",\"linecolor\":\"white\",\"ticks\":\"\"},\"bgcolor\":\"#E5ECF6\",\"caxis\":{\"gridcolor\":\"white\",\"linecolor\":\"white\",\"ticks\":\"\"}},\"title\":{\"x\":0.05},\"xaxis\":{\"automargin\":true,\"gridcolor\":\"white\",\"linecolor\":\"white\",\"ticks\":\"\",\"title\":{\"standoff\":15},\"zerolinecolor\":\"white\",\"zerolinewidth\":2},\"yaxis\":{\"automargin\":true,\"gridcolor\":\"white\",\"linecolor\":\"white\",\"ticks\":\"\",\"title\":{\"standoff\":15},\"zerolinecolor\":\"white\",\"zerolinewidth\":2}}},\"xaxis\":{\"anchor\":\"y\",\"domain\":[0.0,1.0],\"title\":{\"text\":\"LDA 1\"},\"showgrid\":true,\"gridwidth\":1,\"gridcolor\":\"lightgrey\",\"zeroline\":true,\"zerolinewidth\":1,\"zerolinecolor\":\"lightgrey\",\"showline\":true,\"linewidth\":1,\"linecolor\":\"black\"},\"yaxis\":{\"anchor\":\"x\",\"domain\":[0.0,1.0],\"title\":{\"text\":\"LDA 2\"},\"showgrid\":true,\"gridwidth\":1,\"gridcolor\":\"lightgrey\",\"zeroline\":true,\"zerolinewidth\":1,\"zerolinecolor\":\"lightgrey\",\"showline\":true,\"linewidth\":1,\"linecolor\":\"black\"},\"legend\":{\"tracegroupgap\":0},\"margin\":{\"t\":60},\"title\":{\"text\":\"LDA scatter plot of training data\"},\"plot_bgcolor\":\"white\"},                        {\"responsive\": true}                    ).then(function(){\n",
              "                            \n",
              "var gd = document.getElementById('9b97d820-b537-4130-a399-60ad1d795eb2');\n",
              "var x = new MutationObserver(function (mutations, observer) {{\n",
              "        var display = window.getComputedStyle(gd).display;\n",
              "        if (!display || display === 'none') {{\n",
              "            console.log([gd, 'removed!']);\n",
              "            Plotly.purge(gd);\n",
              "            observer.disconnect();\n",
              "        }}\n",
              "}});\n",
              "\n",
              "// Listen for the removal of the full notebook cells\n",
              "var notebookContainer = gd.closest('#notebook-container');\n",
              "if (notebookContainer) {{\n",
              "    x.observe(notebookContainer, {childList: true});\n",
              "}}\n",
              "\n",
              "// Listen for the clearing of the current output cell\n",
              "var outputEl = gd.closest('.output');\n",
              "if (outputEl) {{\n",
              "    x.observe(outputEl, {childList: true});\n",
              "}}\n",
              "\n",
              "                        })                };                            </script>        </div>\n",
              "</body>\n",
              "</html>"
            ]
          },
          "metadata": {}
        }
      ]
    }
  ]
}