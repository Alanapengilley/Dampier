{
  "nbformat": 4,
  "nbformat_minor": 0,
  "metadata": {
    "colab": {
      "name": "Dampier_Project_2.ipynb",
      "provenance": [],
      "collapsed_sections": [],
      "authorship_tag": "ABX9TyNylQTKp/RAfxp6aFeIPRGZ",
      "include_colab_link": true
    },
    "kernelspec": {
      "name": "python3",
      "display_name": "Python 3"
    },
    "language_info": {
      "name": "python"
    }
  },
  "cells": [
    {
      "cell_type": "markdown",
      "metadata": {
        "id": "view-in-github",
        "colab_type": "text"
      },
      "source": [
        "<a href=\"https://colab.research.google.com/github/Alanapengilley/Dampier/blob/main/Dampier_Project_2.ipynb\" target=\"_parent\"><img src=\"https://colab.research.google.com/assets/colab-badge.svg\" alt=\"Open In Colab\"/></a>"
      ]
    },
    {
      "cell_type": "code",
      "execution_count": 1,
      "metadata": {
        "id": "LEvQ6t3UHFZP"
      },
      "outputs": [],
      "source": [
        "#load in packages required \n",
        "import numpy as np\n",
        "import matplotlib.pyplot as plt\n",
        "import pandas as pd"
      ]
    },
    {
      "cell_type": "markdown",
      "source": [
        "Geological dataset consists of 314 geological samples from northern New Britain, with geochemical and social region classes attributed. "
      ],
      "metadata": {
        "id": "PWTDe0UdFagb"
      }
    },
    {
      "cell_type": "code",
      "source": [
        "from google.colab import files\n",
        "uploaded = files.upload()"
      ],
      "metadata": {
        "colab": {
          "resources": {
            "http://localhost:8080/nbextensions/google.colab/files.js": {
              "data": "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",
              "ok": true,
              "headers": [
                [
                  "content-type",
                  "application/javascript"
                ]
              ],
              "status": 200,
              "status_text": ""
            }
          },
          "base_uri": "https://localhost:8080/",
          "height": 73
        },
        "id": "EFIPI-vjHHxs",
        "outputId": "f2c55e37-98ef-402b-d226-7aea9b31f482"
      },
      "execution_count": 2,
      "outputs": [
        {
          "output_type": "display_data",
          "data": {
            "text/plain": [
              "<IPython.core.display.HTML object>"
            ],
            "text/html": [
              "\n",
              "     <input type=\"file\" id=\"files-13b5601f-6f85-400f-bb05-b76a0499c1b3\" name=\"files[]\" multiple disabled\n",
              "        style=\"border:none\" />\n",
              "     <output id=\"result-13b5601f-6f85-400f-bb05-b76a0499c1b3\">\n",
              "      Upload widget is only available when the cell has been executed in the\n",
              "      current browser session. Please rerun this cell to enable.\n",
              "      </output>\n",
              "      <script src=\"/nbextensions/google.colab/files.js\"></script> "
            ]
          },
          "metadata": {}
        },
        {
          "output_type": "stream",
          "name": "stdout",
          "text": [
            "Saving Source_data.csv to Source_data.csv\n"
          ]
        }
      ]
    },
    {
      "cell_type": "code",
      "source": [
        "#load in geological dataset \n",
        "import io\n",
        "source_data = pd.read_csv(io.BytesIO(uploaded['Source_data.csv']))"
      ],
      "metadata": {
        "id": "mA17kvLJHNZl"
      },
      "execution_count": 3,
      "outputs": []
    },
    {
      "cell_type": "markdown",
      "source": [
        "16 elements were employed in analysis, MgO and Nb were excluded due to missing values. "
      ],
      "metadata": {
        "id": "QtHE_U8zYMP2"
      }
    },
    {
      "cell_type": "code",
      "source": [
        "#X = source_data.iloc[:,5:21].values\n",
        "#y = source_data.iloc[:,3].values"
      ],
      "metadata": {
        "id": "YddAMsWZHN5c"
      },
      "execution_count": null,
      "outputs": []
    },
    {
      "cell_type": "code",
      "source": [
        "X = source_data[['Al2O3', 'SiO2', 'P2O5', 'K2O', 'CaO', 'TiO2', 'V', 'MnO', 'FeO2O3', 'Ni', 'Cu', 'Zn', 'Rb', 'Sr', 'Y', 'Zr']]\n",
        "y = source_data['Geochem'] #divide into geochemical and social classes \n",
        "Z = source_data['Social']"
      ],
      "metadata": {
        "id": "XmEsSdImkWWZ"
      },
      "execution_count": 4,
      "outputs": []
    },
    {
      "cell_type": "code",
      "source": [
        "print(X)"
      ],
      "metadata": {
        "id": "wYcwa-ISYNYi"
      },
      "execution_count": null,
      "outputs": []
    },
    {
      "cell_type": "code",
      "source": [
        "y.unique()"
      ],
      "metadata": {
        "colab": {
          "base_uri": "https://localhost:8080/"
        },
        "id": "CCRd9vWumfYp",
        "outputId": "f4db4f2b-8b92-402a-d6d5-a2f5d96800ca"
      },
      "execution_count": 6,
      "outputs": [
        {
          "output_type": "execute_result",
          "data": {
            "text/plain": [
              "array(['E', 'F', 'GN', 'GS', 'H', 'Rabaul', 'Vitiaz', 'New Guinea'],\n",
              "      dtype=object)"
            ]
          },
          "metadata": {},
          "execution_count": 6
        }
      ]
    },
    {
      "cell_type": "code",
      "source": [
        "Z.unique()"
      ],
      "metadata": {
        "colab": {
          "base_uri": "https://localhost:8080/"
        },
        "id": "dGgLlXOhB92p",
        "outputId": "9b4ec266-ac39-4e94-80c1-56e9d38a91b8"
      },
      "execution_count": 7,
      "outputs": [
        {
          "output_type": "execute_result",
          "data": {
            "text/plain": [
              "array(['Hoskins', 'Eastern', 'W.P.S', 'W.P.N', 'Bali-Witu', 'Rabaul',\n",
              "       'Vitiaz', 'New Guinea'], dtype=object)"
            ]
          },
          "metadata": {},
          "execution_count": 7
        }
      ]
    },
    {
      "cell_type": "markdown",
      "source": [
        "Artefact data contains 17 elemenets collected from analysis of dampier axe. Nb was excluded to match geoloical data set. "
      ],
      "metadata": {
        "id": "sVdub25gIS6m"
      }
    },
    {
      "cell_type": "code",
      "source": [
        "from google.colab import files\n",
        "uploaded = files.upload()"
      ],
      "metadata": {
        "colab": {
          "resources": {
            "http://localhost:8080/nbextensions/google.colab/files.js": {
              "data": "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",
              "ok": true,
              "headers": [
                [
                  "content-type",
                  "application/javascript"
                ]
              ],
              "status": 200,
              "status_text": ""
            }
          },
          "base_uri": "https://localhost:8080/",
          "height": 73
        },
        "id": "hbMg6iWsBzC2",
        "outputId": "2f76f052-f347-45f4-f336-18c58b017f01"
      },
      "execution_count": 8,
      "outputs": [
        {
          "output_type": "display_data",
          "data": {
            "text/plain": [
              "<IPython.core.display.HTML object>"
            ],
            "text/html": [
              "\n",
              "     <input type=\"file\" id=\"files-65bf1ed3-2d79-4e7a-a7cd-f1e55c4fd007\" name=\"files[]\" multiple disabled\n",
              "        style=\"border:none\" />\n",
              "     <output id=\"result-65bf1ed3-2d79-4e7a-a7cd-f1e55c4fd007\">\n",
              "      Upload widget is only available when the cell has been executed in the\n",
              "      current browser session. Please rerun this cell to enable.\n",
              "      </output>\n",
              "      <script src=\"/nbextensions/google.colab/files.js\"></script> "
            ]
          },
          "metadata": {}
        },
        {
          "output_type": "stream",
          "name": "stdout",
          "text": [
            "Saving dampier_data.csv to dampier_data.csv\n"
          ]
        }
      ]
    },
    {
      "cell_type": "code",
      "source": [
        "#load in artefact data \n",
        "dampier_data = pd.read_csv(io.BytesIO(uploaded['dampier_data.csv']))"
      ],
      "metadata": {
        "id": "r1H_stbMB0Zk"
      },
      "execution_count": 9,
      "outputs": []
    },
    {
      "cell_type": "code",
      "source": [
        "#testX = dampier_data.iloc[:,3:19].values\n",
        "#print(testX)"
      ],
      "metadata": {
        "id": "A6pUFeksB2rg"
      },
      "execution_count": null,
      "outputs": []
    },
    {
      "cell_type": "code",
      "source": [
        "dampier_axe = dampier_data[['Al2O3', 'SiO2', 'P2O5', 'K2O', 'CaO', 'TiO2', 'V', 'MnO', 'FeO2O3', 'Ni', 'Cu', 'Zn', 'Rb', 'Sr', 'Y', 'Zr']]\n",
        "testX = dampier_axe.values.tolist()\n",
        "print(testX)"
      ],
      "metadata": {
        "colab": {
          "base_uri": "https://localhost:8080/"
        },
        "id": "YXBqKxN3kdk9",
        "outputId": "de713f25-3b78-49ea-a90d-253e381c2ef9"
      },
      "execution_count": 10,
      "outputs": [
        {
          "output_type": "stream",
          "name": "stdout",
          "text": [
            "[[15.3, 36.5, 0.0, 0.5, 10.9, 0.6, 98.8, 0.1, 9.8, 63.0, 72.0, 87.0, 8.0, 276.0, 19.0, 13.0]]\n"
          ]
        }
      ]
    },
    {
      "cell_type": "code",
      "source": [
        "dampier_axe.info()"
      ],
      "metadata": {
        "id": "AOYtCCgikwIB"
      },
      "execution_count": null,
      "outputs": []
    },
    {
      "cell_type": "code",
      "source": [
        "from sklearn.preprocessing import StandardScaler #data scaled \n",
        "sc = StandardScaler()\n",
        "scaler = sc.fit(X)\n",
        "trainX_scaled = scaler.transform(X)\n",
        "testX_scaled = scaler.transform(testX)"
      ],
      "metadata": {
        "id": "9N8IgUUcH53F",
        "colab": {
          "base_uri": "https://localhost:8080/"
        },
        "outputId": "c77c801a-124e-4a8b-9c49-9a8d4ebbc97b"
      },
      "execution_count": 12,
      "outputs": [
        {
          "output_type": "stream",
          "name": "stderr",
          "text": [
            "/usr/local/lib/python3.7/dist-packages/sklearn/base.py:451: UserWarning: X does not have valid feature names, but StandardScaler was fitted with feature names\n",
            "  \"X does not have valid feature names, but\"\n"
          ]
        }
      ]
    },
    {
      "cell_type": "code",
      "source": [
        "#first model for grouping of geochemical classes \n",
        "from sklearn.discriminant_analysis import LinearDiscriminantAnalysis as LDA\n",
        "lda = LDA(n_components = 3)\n",
        "model = lda.fit(trainX_scaled, y)\n",
        "print(model)"
      ],
      "metadata": {
        "id": "iCOMvaMDIJ5I",
        "colab": {
          "base_uri": "https://localhost:8080/"
        },
        "outputId": "bb4e9d61-dfa0-448f-bc71-542416dd5af9"
      },
      "execution_count": 13,
      "outputs": [
        {
          "output_type": "stream",
          "name": "stdout",
          "text": [
            "LinearDiscriminantAnalysis(n_components=3)\n"
          ]
        }
      ]
    },
    {
      "cell_type": "code",
      "source": [
        "#second model for grouping of social classes \n",
        "lda_2 = LDA(n_components = 3)\n",
        "model_2 = lda_2.fit(trainX_scaled, Z)\n",
        "print(model_2)"
      ],
      "metadata": {
        "colab": {
          "base_uri": "https://localhost:8080/"
        },
        "id": "1FMvKG57CFka",
        "outputId": "28e739d4-3608-4a4c-899f-5f202ab36589"
      },
      "execution_count": 14,
      "outputs": [
        {
          "output_type": "stream",
          "name": "stdout",
          "text": [
            "LinearDiscriminantAnalysis(n_components=3)\n"
          ]
        }
      ]
    },
    {
      "cell_type": "code",
      "source": [
        "lda.explained_variance_ratio_.sum()"
      ],
      "metadata": {
        "colab": {
          "base_uri": "https://localhost:8080/"
        },
        "id": "mN6DufVQAxjU",
        "outputId": "e6984366-f0a5-47aa-c594-fdf2b0fe1cbd"
      },
      "execution_count": 15,
      "outputs": [
        {
          "output_type": "execute_result",
          "data": {
            "text/plain": [
              "0.8801229176051104"
            ]
          },
          "metadata": {},
          "execution_count": 15
        }
      ]
    },
    {
      "cell_type": "code",
      "source": [
        "lda_2.explained_variance_ratio_.sum()"
      ],
      "metadata": {
        "colab": {
          "base_uri": "https://localhost:8080/"
        },
        "id": "LliwhnyrIsFw",
        "outputId": "0c746a6c-14fc-46f3-896a-845e5aadee79"
      },
      "execution_count": 16,
      "outputs": [
        {
          "output_type": "execute_result",
          "data": {
            "text/plain": [
              "0.8936563494194941"
            ]
          },
          "metadata": {},
          "execution_count": 16
        }
      ]
    },
    {
      "cell_type": "code",
      "source": [
        "#training and test data tranformed \n",
        "trainX_lda = lda.transform(trainX_scaled) #geochemical\n",
        "testX_lda =lda.transform(testX_scaled)"
      ],
      "metadata": {
        "id": "VosmfKsUA4L1"
      },
      "execution_count": 17,
      "outputs": []
    },
    {
      "cell_type": "code",
      "source": [
        "print(trainX_lda)"
      ],
      "metadata": {
        "id": "4r5x_4OyEBgg"
      },
      "execution_count": null,
      "outputs": []
    },
    {
      "cell_type": "code",
      "source": [
        "print(testX_lda)"
      ],
      "metadata": {
        "colab": {
          "base_uri": "https://localhost:8080/"
        },
        "id": "mcmf7LnzI1ml",
        "outputId": "5d87f678-ccb4-4393-a827-73b5418438cc"
      },
      "execution_count": 19,
      "outputs": [
        {
          "output_type": "stream",
          "name": "stdout",
          "text": [
            "[[-3.06458021  1.04757773  1.94687777]]\n"
          ]
        }
      ]
    },
    {
      "cell_type": "code",
      "source": [
        "trainX_lda_2 = lda_2.transform(trainX_scaled)\n",
        "testX_lda_2 = lda_2.transform(testX_scaled)"
      ],
      "metadata": {
        "id": "w8NoRZBb4iok"
      },
      "execution_count": 69,
      "outputs": []
    },
    {
      "cell_type": "code",
      "source": [
        "from sklearn.model_selection import RepeatedStratifiedKFold\n",
        "from sklearn.model_selection import cross_val_score\n",
        "\n",
        "#Define method to evaluate model\n",
        "cv = RepeatedStratifiedKFold(n_splits=10, n_repeats=3, random_state=1)\n",
        "\n",
        "#evaluate model\n",
        "scores = cross_val_score(model, trainX_scaled, y, scoring='accuracy', cv=cv, n_jobs=-1)\n",
        "print(np.mean(scores))   \n",
        "print(scores) #accuracy scores "
      ],
      "metadata": {
        "colab": {
          "base_uri": "https://localhost:8080/"
        },
        "id": "hWCICivpIKwH",
        "outputId": "328de20b-4f24-4290-f8d3-81b8d2770095"
      },
      "execution_count": 20,
      "outputs": [
        {
          "output_type": "stream",
          "name": "stdout",
          "text": [
            "0.8599462365591397\n",
            "[0.9375     0.71875    0.875      0.8125     0.80645161 0.90322581\n",
            " 0.90322581 0.90322581 0.87096774 0.90322581 0.90625    0.875\n",
            " 0.9375     0.90625    0.77419355 0.77419355 0.74193548 0.87096774\n",
            " 0.90322581 0.87096774 0.875      0.71875    0.75       0.9375\n",
            " 0.90322581 0.87096774 0.90322581 0.87096774 0.83870968 0.93548387]\n"
          ]
        }
      ]
    },
    {
      "cell_type": "code",
      "source": [
        "scores_2 = cross_val_score(model, trainX_scaled, Z, scoring='accuracy', cv=cv, n_jobs=-1)\n",
        "print(np.mean(scores_2))   \n",
        "print(scores_2) #accuracy scores "
      ],
      "metadata": {
        "colab": {
          "base_uri": "https://localhost:8080/"
        },
        "id": "Hpe3V8b8CRE1",
        "outputId": "aa03d83b-0267-4772-a49e-70368638f7fc"
      },
      "execution_count": 21,
      "outputs": [
        {
          "output_type": "stream",
          "name": "stdout",
          "text": [
            "0.8194220430107527\n",
            "[0.78125    0.875      0.90625    0.65625    0.93548387 0.77419355\n",
            " 0.83870968 0.70967742 0.83870968 0.83870968 0.84375    0.8125\n",
            " 0.8125     0.90625    0.87096774 0.74193548 0.93548387 0.80645161\n",
            " 0.77419355 0.70967742 0.75       0.90625    0.8125     0.875\n",
            " 0.77419355 0.74193548 0.87096774 0.90322581 0.74193548 0.83870968]\n"
          ]
        }
      ]
    },
    {
      "cell_type": "code",
      "source": [
        "#from sklearn.linear_model import LogisticRegression\n",
        "#logReg = LogisticRegression()\n",
        "#logReg.fit(trainX_lda, y)"
      ],
      "metadata": {
        "id": "xByO1bFWISsd"
      },
      "execution_count": null,
      "outputs": []
    },
    {
      "cell_type": "markdown",
      "source": [
        "## Geochemical Region Prediction "
      ],
      "metadata": {
        "id": "EaF0ET4HCfo7"
      }
    },
    {
      "cell_type": "markdown",
      "source": [
        "Predict() can be executed on a trained model in order to predict the actual label over a new set of data. "
      ],
      "metadata": {
        "id": "jBVMeB_JKJWg"
      }
    },
    {
      "cell_type": "code",
      "source": [
        "from sklearn.metrics import accuracy_score\n",
        "y_pred_label = model.predict(testX_scaled)\n",
        "print(y_pred_label)"
      ],
      "metadata": {
        "id": "Y2rpVOe2IZaJ",
        "colab": {
          "base_uri": "https://localhost:8080/"
        },
        "outputId": "ea8ede70-88b3-486f-8e80-a9fe8fdeaedd"
      },
      "execution_count": 22,
      "outputs": [
        {
          "output_type": "stream",
          "name": "stdout",
          "text": [
            "['E']\n"
          ]
        }
      ]
    },
    {
      "cell_type": "markdown",
      "source": [
        "Predict_proba() returns the class probabilities for each data point. Classes and probability scores are listed in the same order"
      ],
      "metadata": {
        "id": "2PjfyNFnKT1O"
      }
    },
    {
      "cell_type": "code",
      "source": [
        "y_pred_test = model.predict_proba(testX_scaled)\n",
        "classes = model.classes_\n",
        "print(y_pred_test)\n",
        "print(classes)\n",
        "\n",
        "#for class_name, proba in zip(classes, y_pred_test):\n",
        "    #print(f\"{class_name}: {proba}\")\n"
      ],
      "metadata": {
        "colab": {
          "base_uri": "https://localhost:8080/"
        },
        "id": "8G3L3RUNJB4G",
        "outputId": "93f0a600-edf6-47b8-862e-e321fcf2d02a"
      },
      "execution_count": 23,
      "outputs": [
        {
          "output_type": "stream",
          "name": "stdout",
          "text": [
            "[[9.51162627e-01 9.32921155e-03 3.94713446e-02 3.68168663e-05\n",
            "  2.29485346e-10 2.62946540e-48 1.86576651e-10 5.20298859e-24]]\n",
            "['E' 'F' 'GN' 'GS' 'H' 'New Guinea' 'Rabaul' 'Vitiaz']\n"
          ]
        }
      ]
    },
    {
      "cell_type": "code",
      "source": [
        "np.max(model.predict_proba(testX_scaled)) #E"
      ],
      "metadata": {
        "colab": {
          "base_uri": "https://localhost:8080/"
        },
        "id": "vO3zR-Z0EAmo",
        "outputId": "36f9c6b6-e7f0-4779-8d58-84d1503b2607"
      },
      "execution_count": 24,
      "outputs": [
        {
          "output_type": "execute_result",
          "data": {
            "text/plain": [
              "0.9511626265533794"
            ]
          },
          "metadata": {},
          "execution_count": 24
        }
      ]
    },
    {
      "cell_type": "markdown",
      "source": [
        "## Social Region Prediction "
      ],
      "metadata": {
        "id": "kYs2lfryCn2e"
      }
    },
    {
      "cell_type": "code",
      "source": [
        "Z_pred_label = model_2.predict(testX_scaled)\n",
        "print(Z_pred_label)"
      ],
      "metadata": {
        "colab": {
          "base_uri": "https://localhost:8080/"
        },
        "id": "GGXt1tBUCm58",
        "outputId": "0c040035-dc86-47d6-86a7-aaa12ab074d6"
      },
      "execution_count": 25,
      "outputs": [
        {
          "output_type": "stream",
          "name": "stdout",
          "text": [
            "['Hoskins']\n"
          ]
        }
      ]
    },
    {
      "cell_type": "code",
      "source": [
        "Z_pred_test = model_2.predict_proba(testX_scaled)\n",
        "classes = model_2.classes_\n",
        "print(Z_pred_test)\n",
        "print(classes)"
      ],
      "metadata": {
        "colab": {
          "base_uri": "https://localhost:8080/"
        },
        "id": "rI2Jqm48CrZl",
        "outputId": "35cb3033-1640-42f0-bbd8-d895ed2f387b"
      },
      "execution_count": 26,
      "outputs": [
        {
          "output_type": "stream",
          "name": "stdout",
          "text": [
            "[[2.63156001e-10 1.68762466e-01 5.32921839e-01 2.46019882e-44\n",
            "  5.72102884e-10 1.79677674e-22 2.66706379e-01 3.16093162e-02]]\n",
            "['Bali-Witu' 'Eastern' 'Hoskins' 'New Guinea' 'Rabaul' 'Vitiaz' 'W.P.N'\n",
            " 'W.P.S']\n"
          ]
        }
      ]
    },
    {
      "cell_type": "code",
      "source": [
        "np.max(model_2.predict_proba(testX_scaled)) #Hoskins"
      ],
      "metadata": {
        "colab": {
          "base_uri": "https://localhost:8080/"
        },
        "id": "M5CKBNWQCzg-",
        "outputId": "34a48f70-62b7-4e18-811b-7932ed07d7d7"
      },
      "execution_count": 27,
      "outputs": [
        {
          "output_type": "execute_result",
          "data": {
            "text/plain": [
              "0.5329218386092035"
            ]
          },
          "metadata": {},
          "execution_count": 27
        }
      ]
    },
    {
      "cell_type": "markdown",
      "source": [
        "Prediction of Geochemical class with training data"
      ],
      "metadata": {
        "id": "YsgyXqO8C3hK"
      }
    },
    {
      "cell_type": "code",
      "source": [
        "#y_pred_train = logReg.predict(trainX_lda)\n",
        "y_pred = model.predict(trainX_scaled)\n",
        "y_pred_train = model.predict_proba(trainX_scaled)\n",
        "\n",
        "print('Accuracy: {:.2f}'.format(accuracy_score(y, y_pred)))"
      ],
      "metadata": {
        "colab": {
          "base_uri": "https://localhost:8080/"
        },
        "id": "QOG6kkxtK59i",
        "outputId": "7ad16f38-c81a-4415-c111-861ed9929427"
      },
      "execution_count": 28,
      "outputs": [
        {
          "output_type": "stream",
          "name": "stdout",
          "text": [
            "Accuracy: 0.90\n"
          ]
        }
      ]
    },
    {
      "cell_type": "markdown",
      "source": [
        "Preidction of Social class with training data "
      ],
      "metadata": {
        "id": "ylfjgQjqDtld"
      }
    },
    {
      "cell_type": "code",
      "source": [
        "Z_pred = model_2.predict(trainX_scaled)\n",
        "Z_pred_train = model_2.predict_proba(trainX_scaled)\n",
        "\n",
        "print('Accuracy: {:.2f}'.format(accuracy_score(Z, Z_pred)))"
      ],
      "metadata": {
        "colab": {
          "base_uri": "https://localhost:8080/"
        },
        "id": "pDA1zoJuC9Ho",
        "outputId": "dbd8d681-8c7c-44e3-f311-c68862ad829e"
      },
      "execution_count": 29,
      "outputs": [
        {
          "output_type": "stream",
          "name": "stdout",
          "text": [
            "Accuracy: 0.86\n"
          ]
        }
      ]
    },
    {
      "cell_type": "markdown",
      "source": [
        "## Data visualisation "
      ],
      "metadata": {
        "id": "w68HXrvHI70-"
      }
    },
    {
      "cell_type": "code",
      "source": [
        "y_pred_train"
      ],
      "metadata": {
        "colab": {
          "base_uri": "https://localhost:8080/"
        },
        "id": "eq6JFCIMxDS6",
        "outputId": "fad4f1ba-375d-4a26-ab93-8ffa08b9d7cf"
      },
      "execution_count": 41,
      "outputs": [
        {
          "output_type": "execute_result",
          "data": {
            "text/plain": [
              "(314, 8)"
            ]
          },
          "metadata": {},
          "execution_count": 41
        }
      ]
    },
    {
      "cell_type": "code",
      "source": [
        "print(model.get_params()) \n",
        "\n",
        "highest_prob = [] #function for highest probability of sample to geochemical class \n",
        "\n",
        "for sample in range(y_pred_train.shape[0]):    #iterates through each sample\n",
        "    highest_prob.append(np.max(y_pred_train[sample]))   #gets max probability of that sample (highest likelyhood)\n",
        "    \n",
        "    \n",
        "print(len(highest_prob))"
      ],
      "metadata": {
        "colab": {
          "base_uri": "https://localhost:8080/"
        },
        "id": "Efe5FJFlJZcA",
        "outputId": "5ac1e15b-6214-42c7-f974-98f952cf6084"
      },
      "execution_count": 64,
      "outputs": [
        {
          "output_type": "stream",
          "name": "stdout",
          "text": [
            "{'covariance_estimator': None, 'n_components': 3, 'priors': None, 'shrinkage': None, 'solver': 'svd', 'store_covariance': False, 'tol': 0.0001}\n",
            "314\n"
          ]
        }
      ]
    },
    {
      "cell_type": "code",
      "source": [
        "Z_pred_train"
      ],
      "metadata": {
        "id": "PqYA1SViwPzj"
      },
      "execution_count": null,
      "outputs": []
    },
    {
      "cell_type": "code",
      "source": [
        "highest_prob_2 = []\n",
        "\n",
        "for sample in range(Z_pred_train.shape[0]):    #iterates through each sample\n",
        "    highest_prob_2.append(np.max(Z_pred_train[sample]))   #gets max probability of that sample (highest likelyhood)\n",
        "    \n",
        "    \n",
        "print(len(highest_prob_2))"
      ],
      "metadata": {
        "colab": {
          "base_uri": "https://localhost:8080/"
        },
        "id": "-ES7seRCEl8C",
        "outputId": "0d028866-2b95-469e-c28b-fff68f081f8b"
      },
      "execution_count": 63,
      "outputs": [
        {
          "output_type": "stream",
          "name": "stdout",
          "text": [
            "314\n"
          ]
        }
      ]
    },
    {
      "cell_type": "markdown",
      "source": [
        "Geochem regions "
      ],
      "metadata": {
        "id": "MxnnX-GQL6Gq"
      }
    },
    {
      "cell_type": "code",
      "source": [
        "df = pd.DataFrame({'sample':source_data.Name.values, 'predicted_cat_geochem':y_pred, 'prob_predicted':highest_prob, 'actual_cat_geochem':source_data.Geochem, 'predicted_cat_social': Z_pred, 'prob_predicted_2':highest_prob_2, 'actual_cat_social': source_data.Social})\n",
        "                  \n",
        "\n",
        "with pd.option_context('display.max_rows', None, 'display.max_columns', None):  \n",
        "    print(df)"
      ],
      "metadata": {
        "id": "6PvLOWiPJn2R"
      },
      "execution_count": null,
      "outputs": []
    },
    {
      "cell_type": "code",
      "source": [
        "print(df.columns.tolist())"
      ],
      "metadata": {
        "colab": {
          "base_uri": "https://localhost:8080/"
        },
        "id": "_K3kBIro08xu",
        "outputId": "cabb4d47-b919-49bf-db1c-60a53a7cec39"
      },
      "execution_count": 66,
      "outputs": [
        {
          "output_type": "stream",
          "name": "stdout",
          "text": [
            "['sample', 'predicted_cat_geochem', 'prob_predicted', 'actual_cat_geochem', 'predicted_cat_social', 'prob_predicted_2', 'actual_cat_social']\n"
          ]
        }
      ]
    },
    {
      "cell_type": "code",
      "source": [
        "#df.to_csv (r'C:\\Users\\AlanaPengilley\\Desktop\\df.csv', index = False, header=True)\n",
        "df.to_csv(\"results.csv\")"
      ],
      "metadata": {
        "id": "S7WQCqzh1dTn"
      },
      "execution_count": 73,
      "outputs": []
    },
    {
      "cell_type": "code",
      "source": [
        "df_2 = pd.DataFrame({'sample':dampier_data.Name.values, 'predicted_geochem':y_pred_label, 'predicted_social': Z_pred_label})\n",
        "print(df_2)"
      ],
      "metadata": {
        "colab": {
          "base_uri": "https://localhost:8080/"
        },
        "id": "cWtpfbWoG1Hr",
        "outputId": "b0cc1f19-7765-4945-c3e1-9cf56133ecbf"
      },
      "execution_count": 56,
      "outputs": [
        {
          "output_type": "stream",
          "name": "stdout",
          "text": [
            "        sample predicted_geochem predicted_social\n",
            "0  Dampier_Axe                 E          Hoskins\n"
          ]
        }
      ]
    },
    {
      "cell_type": "markdown",
      "source": [
        "Geochemical classes "
      ],
      "metadata": {
        "id": "d5HFL0NRwd3U"
      }
    },
    {
      "cell_type": "code",
      "source": [
        "print('classes: ', lda.classes_)\n",
        "print('Priors: ', lda.priors_)\n",
        "print('Explained variance ratio: ', lda.explained_variance_ratio_)"
      ],
      "metadata": {
        "colab": {
          "base_uri": "https://localhost:8080/"
        },
        "id": "dZdB219pEzGZ",
        "outputId": "79fad715-b5c0-4732-9b62-b9166b49c505"
      },
      "execution_count": 57,
      "outputs": [
        {
          "output_type": "stream",
          "name": "stdout",
          "text": [
            "classes:  ['E' 'F' 'GN' 'GS' 'H' 'New Guinea' 'Rabaul' 'Vitiaz']\n",
            "Priors:  [0.27388535 0.20063694 0.10509554 0.06687898 0.08280255 0.05095541\n",
            " 0.17197452 0.0477707 ]\n",
            "Explained variance ratio:  [0.49708357 0.23986742 0.14317192]\n"
          ]
        }
      ]
    },
    {
      "cell_type": "markdown",
      "source": [
        "Social Classes"
      ],
      "metadata": {
        "id": "liMQWnbAwf37"
      }
    },
    {
      "cell_type": "code",
      "source": [
        "print('classes: ', lda_2.classes_)\n",
        "print('Priors: ', lda_2.priors_)\n",
        "print('Explained variance ratio: ', lda_2.explained_variance_ratio_)"
      ],
      "metadata": {
        "colab": {
          "base_uri": "https://localhost:8080/"
        },
        "id": "U3_ck5tZwhga",
        "outputId": "1a7523c6-794f-4120-a06c-f0360e808b7c"
      },
      "execution_count": 58,
      "outputs": [
        {
          "output_type": "stream",
          "name": "stdout",
          "text": [
            "classes:  ['Bali-Witu' 'Eastern' 'Hoskins' 'New Guinea' 'Rabaul' 'Vitiaz' 'W.P.N'\n",
            " 'W.P.S']\n",
            "Priors:  [0.08280255 0.24840764 0.20382166 0.05095541 0.17197452 0.0477707\n",
            " 0.10509554 0.08917197]\n",
            "Explained variance ratio:  [0.49315306 0.24871348 0.15178982]\n"
          ]
        }
      ]
    },
    {
      "cell_type": "markdown",
      "source": [
        "## Plots"
      ],
      "metadata": {
        "id": "GrY21dZowot-"
      }
    },
    {
      "cell_type": "code",
      "source": [
        "import plotly.express as px\n",
        "fig = px.scatter(source_data, x=trainX_lda[:,0], y=trainX_lda[:,1],\n",
        "                 labels = {\n",
        "                     \"x\": \"LDA 1\",\n",
        "                     \"y\": 'LDA 2',\n",
        "                 },\n",
        "                 opacity=1, color=y)\n",
        "\n",
        "# Set figure title\n",
        "fig.update_layout(title_text=\"LDA scatter plot of training data\")\n",
        "\n",
        "# Update marker size\n",
        "fig.update_traces(marker=dict(size=4))\n",
        "\n",
        "# Change chart background color\n",
        "fig.update_layout(dict(plot_bgcolor = 'white'))\n",
        "\n",
        "# Update axes lines\n",
        "fig.update_xaxes(showgrid=True, gridwidth=1, gridcolor='lightgrey', \n",
        "                 zeroline=True, zerolinewidth=1, zerolinecolor='lightgrey', \n",
        "                 showline=True, linewidth=1, linecolor='black')\n",
        "\n",
        "fig.update_yaxes(showgrid=True, gridwidth=1, gridcolor='lightgrey', \n",
        "                 zeroline=True, zerolinewidth=1, zerolinecolor='lightgrey', \n",
        "                 showline=True, linewidth=1, linecolor='black')\n",
        "\n",
        "fig.show()"
      ],
      "metadata": {
        "colab": {
          "base_uri": "https://localhost:8080/",
          "height": 542
        },
        "id": "x4FiHptsFRnf",
        "outputId": "d6cc92bd-316d-4b03-f8ef-d796e5bc7af2"
      },
      "execution_count": null,
      "outputs": [
        {
          "output_type": "display_data",
          "data": {
            "text/html": [
              "<html>\n",
              "<head><meta charset=\"utf-8\" /></head>\n",
              "<body>\n",
              "    <div>            <script src=\"https://cdnjs.cloudflare.com/ajax/libs/mathjax/2.7.5/MathJax.js?config=TeX-AMS-MML_SVG\"></script><script type=\"text/javascript\">if (window.MathJax) {MathJax.Hub.Config({SVG: {font: \"STIX-Web\"}});}</script>                <script type=\"text/javascript\">window.PlotlyConfig = {MathJaxConfig: 'local'};</script>\n",
              "        <script src=\"https://cdn.plot.ly/plotly-2.8.3.min.js\"></script>                <div id=\"80c3bb05-a321-46ee-8fee-f119c6ab134e\" class=\"plotly-graph-div\" style=\"height:525px; width:100%;\"></div>            <script type=\"text/javascript\">                                    window.PLOTLYENV=window.PLOTLYENV || {};                                    if (document.getElementById(\"80c3bb05-a321-46ee-8fee-f119c6ab134e\")) {                    Plotly.newPlot(                        \"80c3bb05-a321-46ee-8fee-f119c6ab134e\",                        [{\"hovertemplate\":\"Geochem=E<br>LDA 1=%{x}<br>LDA 2=%{y}<extra></extra>\",\"legendgroup\":\"E\",\"marker\":{\"color\":\"#636efa\",\"opacity\":1,\"symbol\":\"circle\",\"size\":4},\"mode\":\"markers\",\"name\":\"E\",\"orientation\":\"v\",\"showlegend\":true,\"x\":[2.1869311341870197,2.496464511707131,2.737892355162479,2.292957350855999,2.1655516915660766,1.7390807917156252,2.0107231658115565,2.4437038505861355,2.238302820499345,2.630457809323519,2.8829150700223343,2.066537308501999,1.5994032272411276,2.780533899548859,2.8490346802353765,1.893702612887034,2.216003698495603,1.9519757455976243,2.4114256230824385,1.4525367607317579,1.2182235033081903,3.3248395127684227,2.7424095055583986,1.8061496990682755,2.5402374693649468,1.802235159744722,2.5503678476638667,2.4196746735510635,1.6294059183724976,2.126492243999283,2.0584359382119013,2.2465184182525846,2.4840689927613595,1.7888641886714218,2.575789407836661,2.1802252139679195,1.9804038032844544,1.5163277357049738,2.013519901575987,2.0100850821333505,2.0493523634465474,1.8101623944432965,4.187796698452671,2.015356463307287,1.602848638715657,1.8657806018298384,2.2665878424236303,2.950712407905652,2.3024824894188045,2.319271410926321,2.6008147685126652,1.9762281408848201,1.9515773374151038,1.746380052262384,1.1317553252969015,2.5208196041588806,2.229354883476461,2.64844456977636,2.246831789259188,2.091455175204199,2.5876080437520095,1.947566473037569,2.441292404364792,1.5814571684005347,1.8736450413758752,2.096955564619787,2.407814480967669,2.090972108621172,1.9259821585388777,1.7980299245616504,1.9666818464675129,4.01061505160744,1.8400680030788121,1.6911002927421608,1.2781438033699901,2.566283329174302,1.8845214034100388,2.2847353418280583,1.6848986312547722,1.89023466760643,1.4427644384185885,2.247502510477488,2.10026984428172,2.8551563665886492,4.149554289937299,3.021402614326075],\"xaxis\":\"x\",\"y\":[-0.6167088709241613,-0.140267837239495,0.21372793826161154,-0.42010876375587075,0.12421932976507004,1.6878436276841053,2.1388851593783635,0.20443938170197162,-0.01761276009120382,-0.8877701776582106,-0.7970330733638896,-1.040094341688998,0.07936181032601934,-0.32582697757262163,0.10409414593650704,-0.2805591296882563,-1.279752514105279,-1.466464920912118,-0.7999126724234895,-1.8888900257932484,-2.6638100473163373,-1.2731878184671157,-1.1681164968772206,-2.1617807572642835,-1.6239630563416736,-0.3340270643447524,-1.3306419482233804,-0.2513468028890979,-1.3706354867500194,-0.9776291939831172,-1.295169971437283,-1.0119843728400244,-0.08129463233228473,-1.1157923313034614,-0.20366894132760466,-0.6667441217120221,-0.4720639098985723,-1.91420983866286,-1.2290579043712302,-1.436526060845038,-1.2424390305953277,-1.4344411717143806,-0.8567121311128664,-1.0871945850204656,-1.5300171073277455,-0.795573426572231,-1.0254378102321586,-0.33390989584360753,-0.5513815499225141,-0.8523168584215773,-0.6272659988529278,-0.9526007186499214,-0.7850196566678782,-0.8987462089868334,-1.040406885102999,-1.0781260272750341,-0.5453284376199953,-0.9064036262442304,-0.4853812981719991,-1.5563876857808665,-0.5843970301539317,-0.7219088109065938,-1.0947951605304072,-1.5573275449571735,-1.9375822264919669,-0.939414033289537,-0.391285625264478,-1.0233089999537373,-0.7912590488993312,-1.1967333613364064,-0.9971110375078848,-0.47235153440300703,-1.3113856701972413,-0.7168172805483096,-1.0815976049015863,-1.1316067417786813,-1.1508277926674895,-0.7003416412818977,-0.386983731213258,-1.0757395334806295,-2.47545433249492,-0.8146111194554525,-1.1145122758412367,-2.365883235131244,0.9033570153320609,-0.9750568058182638],\"yaxis\":\"y\",\"type\":\"scatter\"},{\"hovertemplate\":\"Geochem=F<br>LDA 1=%{x}<br>LDA 2=%{y}<extra></extra>\",\"legendgroup\":\"F\",\"marker\":{\"color\":\"#EF553B\",\"opacity\":1,\"symbol\":\"circle\",\"size\":4},\"mode\":\"markers\",\"name\":\"F\",\"orientation\":\"v\",\"showlegend\":true,\"x\":[2.47867096592776,2.7080313989787492,1.9761905764419379,2.123229594310192,0.4571450493235692,1.7315772039624209,1.7275234487959639,1.9765568254154937,1.8100881102096629,1.8398207450183872,2.274059968509113,2.131223156209795,2.262147567323782,1.7903436309661582,2.00320251427837,1.6674964431848927,1.7635951607994182,1.3643850661675723,1.8054537922465852,1.6636092870268109,1.60119826399789,1.7577112249457358,1.8458201255550528,2.7048822381239153,2.1284821343897615,2.1255197894388975,1.341425109796791,2.137073551608445,1.8152687562164411,0.897690572907199,0.6187770940179034,0.33130433024540057,1.4849983330479695,-0.4843495066275422,1.0911342659224332,2.9449271310613123,4.102830881273384,1.7182023903613,1.581084249304036,2.617723172073431,1.5595878495511264,1.66197826315073,2.4631056004639547,1.9183155365655835,1.9506555927805975,1.9620291936160015,2.6546668117035424,1.5965734615485603,1.7657445077417875,3.0550022388201286,1.716540478046618,2.910370942972724,2.819156511558142,2.7260087750261577,1.795652484891813,1.9726978845526142,2.368483082224511,2.104562697782244,1.9957544410721788,1.9722863158971278,1.6475150173771846,1.9852018704130352,2.1580354189962514],\"xaxis\":\"x\",\"y\":[-0.07947235186944714,-0.1211080914282318,-0.9064829380781869,-0.8906202780657696,-1.6727162068523584,-1.4088157713082718,-1.1258913025399697,-0.9969577483710835,-1.1292087965162403,-1.3788154719280177,-1.0988187199680821,-0.7378961567910979,-1.19464530351616,-0.997374243198916,-1.2938580766162102,-1.5254213435494672,-1.4394501778083055,-1.5201730784559935,-1.0008237582221675,-1.1426085528453895,-0.612079866899705,-1.2955627345947633,-0.7027677931446564,-0.6701629313833722,-1.0213061625585385,-1.045620078256893,-1.2931765720641624,-0.4537295359474337,-0.6107781410931258,-0.6797496226494336,-0.8186739638517376,-0.8563357010461634,-0.9967999026442165,-2.4244316881846597,-1.3490545258251294,-1.0599600878056044,-1.95661499955837,-1.8482884821636578,-1.0345293605486163,-1.1099675338374841,-1.4981289295484281,1.9370596084764393,2.2416253105498156,1.200694231269308,1.095787389555143,1.2742773271295906,0.7734783827004458,0.016199224203038234,-0.6702778439105095,-0.2739742178423584,-0.7042838184134853,-0.6475510828789873,-0.3522683506362299,-0.9862012420683192,-1.2183250340502674,-1.1903028343125028,-0.47654647272864076,-0.9633235476215688,-1.371412568001072,-1.2971938395377343,-1.255476544230935,-0.927583448961469,-0.6170576899176691],\"yaxis\":\"y\",\"type\":\"scatter\"},{\"hovertemplate\":\"Geochem=GN<br>LDA 1=%{x}<br>LDA 2=%{y}<extra></extra>\",\"legendgroup\":\"GN\",\"marker\":{\"color\":\"#00cc96\",\"opacity\":1,\"symbol\":\"circle\",\"size\":4},\"mode\":\"markers\",\"name\":\"GN\",\"orientation\":\"v\",\"showlegend\":true,\"x\":[1.182786012754497,0.06763224293174101,0.1549688919449946,2.025603919867958,1.7264644114129502,0.012305251399297326,3.1844459208246088,0.8858144874402167,2.518298177382446,1.630597167162602,1.551938679401101,1.6021355076147885,1.8415122120361038,-1.6685365143782178,-1.7840227482504278,-1.0277288631109869,2.7734369541887696,2.6892540854788147,1.0614023260161487,2.2250970409769164,0.24122452762085447,-1.3738773801541602,0.5526759559793596,2.4694486985763495,3.324088633753068,2.2673745955982176,1.4805228042076177,0.4820901959801684,1.3233664721248197,1.139944974776949,1.7445047846083948,3.7711383922764146,1.7127271925357097],\"xaxis\":\"x\",\"y\":[-1.3792747981778857,-2.685976454882353,-1.469107392004942,-1.1779865969297203,-1.8264094900246797,-2.2038175017633135,-0.5175156433917585,-0.7658408105249268,-1.3678808673398788,-1.283213177372136,-1.2441564719286604,2.6336983922877546,2.10751525728547,-1.3214210470175622,-0.6295617481828728,-1.3848357905638677,0.46625064300081065,0.39210993564488666,0.00603167038295355,-1.1051090377484185,-0.5173285851675697,-3.869582583847564,-0.7073705414128055,-0.7022962067090188,-0.8958974541328945,-1.1622628536948167,-1.542501171829596,-1.0114975918922215,-1.8043581422495285,-2.1137120977979986,-1.1129685434911731,-1.1054383401346988,-1.3897227141372697],\"yaxis\":\"y\",\"type\":\"scatter\"},{\"hovertemplate\":\"Geochem=GS<br>LDA 1=%{x}<br>LDA 2=%{y}<extra></extra>\",\"legendgroup\":\"GS\",\"marker\":{\"color\":\"#ab63fa\",\"opacity\":1,\"symbol\":\"circle\",\"size\":4},\"mode\":\"markers\",\"name\":\"GS\",\"orientation\":\"v\",\"showlegend\":true,\"x\":[1.3233664721248197,0.37360280140133634,0.921998868351749,0.5845652584035653,0.9184325951054354,-0.14264587355005914,0.060991689225959746,0.18059194132873874,0.706036426055213,1.3127242598283815,0.2828055821911133,0.420044118014385,1.654818036444722,0.3819936658468775,1.7214798489203904,0.8395789428870359,1.005193983501552,1.48030939263793,0.9108359093751407,0.4152525637531211,0.7207273979756208],\"xaxis\":\"x\",\"y\":[-1.8043581422495285,-1.2280714262310162,-1.123147524298493,-1.1141230025925173,-1.4561881380149686,-0.761564531610053,-0.515435383204256,-2.3784342733235113,-1.7910603727397756,-2.7168394761586323,-1.296148770862811,-0.6393665835722202,-0.15295391744249157,-1.512971398397933,-0.43569235837938014,-1.1689423562891017,-1.3497106174845768,-1.1212315601129608,-1.5059668455405226,-1.3834873627824185,-1.4013189875028933],\"yaxis\":\"y\",\"type\":\"scatter\"},{\"hovertemplate\":\"Geochem=H<br>LDA 1=%{x}<br>LDA 2=%{y}<extra></extra>\",\"legendgroup\":\"H\",\"marker\":{\"color\":\"#FFA15A\",\"opacity\":1,\"symbol\":\"circle\",\"size\":4},\"mode\":\"markers\",\"name\":\"H\",\"orientation\":\"v\",\"showlegend\":true,\"x\":[-2.4009980302490765,-3.442193975159602,-2.5094924636142517,-3.1965311619525267,-3.6194203933351385,-3.246740395507008,-6.075489548333834,-2.696731920978545,-6.599660110255868,-2.7155310984034284,-5.7392388739510265,-4.288388700987248,-3.0981346595373878,-2.862633714208406,-4.14753058075174,-3.127443065043851,-2.293342579178877,-2.9892262548811335,-2.904673060589976,-1.131324105230968,-2.169387175082684,-2.150495572626911,-3.055963026902881,-1.1240916935729164,-2.5278375062860228,-3.387001677050291],\"xaxis\":\"x\",\"y\":[-0.8779612261468946,1.0590532712836003,-0.9892849492069762,0.3129478552706574,0.9724589811399654,0.5319388111740898,0.8534244607287206,-0.9492532618808135,0.3963357600289637,-0.7251725440462884,0.351540451828926,1.5375528543656,1.0249927198214897,-1.5625728090923698,-3.0529952976253156,-1.1860522334367714,-1.1605773971348234,-1.3701822057911932,-1.5485242696954191,-1.1288771050082633,-1.0602332162137504,-0.10708810377547139,-0.25020035291742154,-1.469364418624399,0.673855329280295,-1.6968306000297508],\"yaxis\":\"y\",\"type\":\"scatter\"},{\"hovertemplate\":\"Geochem=Rabaul<br>LDA 1=%{x}<br>LDA 2=%{y}<extra></extra>\",\"legendgroup\":\"Rabaul\",\"marker\":{\"color\":\"#19d3f3\",\"opacity\":1,\"symbol\":\"circle\",\"size\":4},\"mode\":\"markers\",\"name\":\"Rabaul\",\"orientation\":\"v\",\"showlegend\":true,\"x\":[-1.7039226752552896,-3.793602030172382,-3.897430303561176,-1.2781272914568729,-0.9776390657805276,-4.366903643924883,-2.8950602497905744,-2.933194658406518,-2.4659653923207596,-3.0809675958808964,-3.5840871989613077,-2.237072082393346,-0.7143159651787631,-0.7578516871991268,-2.7417337231764383,-3.824082973603935,-3.2279122426262856,-2.5473616221151687,-3.033431171791709,-2.8174903654777137,-2.9163563572172255,-3.5559446275014444,-0.680914607047563,0.03880538001724692,-0.6145768832414554,-0.5299283921009043,-0.4326693711321738,-0.8821842929315776,-0.6108014883207173,-1.8628351188022039,-2.4643407889054703,-2.3849199415397107,-2.4553942147158008,-2.547244138454086,-2.4950057276086333,-2.70495930866595,-2.55768780055157,-2.473421045882768,-2.4564230080747067,-2.0816108537620868,-2.7716674470582885,-2.201916291430178,-1.7935031754880388,-2.5474055259344723,-1.5228139872937883,-1.9797347838320467,-2.3816863330870706,-1.6618817463091637,-2.446121535782153,-3.1642113443620947,-3.2329472071257084,-3.3031168761168708,-2.4456417259345984,-5.730372399274771],\"xaxis\":\"x\",\"y\":[4.07498782558567,6.287315571271534,4.36262741583052,4.141769281221069,5.302742386597701,4.810790962996331,4.6726512715128505,3.3048130180420165,3.3710022123523453,3.0316624276178494,3.260462227087361,3.485881526880187,3.3567413953831973,3.645295529107031,3.970090790462774,4.006326072061175,3.129817371823292,3.967157844322238,2.5221334111398925,1.9002022646270753,3.9772593129230844,4.20488581582843,1.7080669902438317,3.134723018943634,2.5182023064564154,1.627690291491589,1.4226720107384323,2.200204859090993,1.9137442480617222,3.1988854337555748,2.8974400266620735,2.8628714989198847,2.810708486064283,2.7137785273209682,2.828853203226092,2.678390617750154,2.8660011784098987,2.8697674027764184,2.9781527562426717,2.4791654817791704,3.0513678469997734,2.5719544404057118,3.0066835977595066,2.2289456012532245,3.031489731764532,2.6462493895858157,2.43276393812211,2.840724834003143,2.3832788936552056,2.929790789434265,2.830159096991903,2.9396299420218166,3.62314621083296,-0.17145036728508864],\"yaxis\":\"y\",\"type\":\"scatter\"},{\"hovertemplate\":\"Geochem=Vitiaz<br>LDA 1=%{x}<br>LDA 2=%{y}<extra></extra>\",\"legendgroup\":\"Vitiaz\",\"marker\":{\"color\":\"#FF6692\",\"opacity\":1,\"symbol\":\"circle\",\"size\":4},\"mode\":\"markers\",\"name\":\"Vitiaz\",\"orientation\":\"v\",\"showlegend\":true,\"x\":[-0.4874646157284615,-1.5584941415469464,-0.17084746942209608,0.17417096496816367,1.1170237735786164,1.906760541591379,1.2966989362346097,1.2766538298248982,0.01091485225467376,0.004273633741200227,-0.1053955378495035,-0.19070112611064893,1.2264573582769909,-1.3542495300652084,1.5655141115810656],\"xaxis\":\"x\",\"y\":[4.696984233706423,4.664924163715952,5.165219522107329,5.488070106811291,5.861198700826123,7.721243357499847,6.034687556412852,5.573855414175301,5.818691143654761,6.978075184859728,8.226175881253285,5.311587320451481,6.172731531127834,6.215326712248184,6.075812428383588],\"yaxis\":\"y\",\"type\":\"scatter\"},{\"hovertemplate\":\"Geochem=New Guinea<br>LDA 1=%{x}<br>LDA 2=%{y}<extra></extra>\",\"legendgroup\":\"New Guinea\",\"marker\":{\"color\":\"#B6E880\",\"opacity\":1,\"symbol\":\"circle\",\"size\":4},\"mode\":\"markers\",\"name\":\"New Guinea\",\"orientation\":\"v\",\"showlegend\":true,\"x\":[-12.20458310517302,-10.437124359869342,-11.59528713619165,-6.763931237371747,-7.475109274564293,-8.99950431800154,-10.141608843559498,-11.88932612591534,-13.523220937393466,-11.69549495101263,-9.342759746275657,-9.584032374530436,-11.75698348042999,-9.937018380330933,-8.459743942096765,-9.45349668419443],\"xaxis\":\"x\",\"y\":[-1.898761138181895,-3.5359308718322584,-4.338872394184746,-3.827049725219885,-3.223178517444384,-2.7014357300852114,-3.6179405879243776,-1.9102529528172658,-0.10141089671017404,-2.5795692857640034,-7.310840539807032,-7.237113016547098,-4.944069231513933,-6.180096544428387,-6.214847423100348,-4.1627215941811375],\"yaxis\":\"y\",\"type\":\"scatter\"}],                        {\"template\":{\"data\":{\"bar\":[{\"error_x\":{\"color\":\"#2a3f5f\"},\"error_y\":{\"color\":\"#2a3f5f\"},\"marker\":{\"line\":{\"color\":\"#E5ECF6\",\"width\":0.5},\"pattern\":{\"fillmode\":\"overlay\",\"size\":10,\"solidity\":0.2}},\"type\":\"bar\"}],\"barpolar\":[{\"marker\":{\"line\":{\"color\":\"#E5ECF6\",\"width\":0.5},\"pattern\":{\"fillmode\":\"overlay\",\"size\":10,\"solidity\":0.2}},\"type\":\"barpolar\"}],\"carpet\":[{\"aaxis\":{\"endlinecolor\":\"#2a3f5f\",\"gridcolor\":\"white\",\"linecolor\":\"white\",\"minorgridcolor\":\"white\",\"startlinecolor\":\"#2a3f5f\"},\"baxis\":{\"endlinecolor\":\"#2a3f5f\",\"gridcolor\":\"white\",\"linecolor\":\"white\",\"minorgridcolor\":\"white\",\"startlinecolor\":\"#2a3f5f\"},\"type\":\"carpet\"}],\"choropleth\":[{\"colorbar\":{\"outlinewidth\":0,\"ticks\":\"\"},\"type\":\"choropleth\"}],\"contour\":[{\"colorbar\":{\"outlinewidth\":0,\"ticks\":\"\"},\"colorscale\":[[0.0,\"#0d0887\"],[0.1111111111111111,\"#46039f\"],[0.2222222222222222,\"#7201a8\"],[0.3333333333333333,\"#9c179e\"],[0.4444444444444444,\"#bd3786\"],[0.5555555555555556,\"#d8576b\"],[0.6666666666666666,\"#ed7953\"],[0.7777777777777778,\"#fb9f3a\"],[0.8888888888888888,\"#fdca26\"],[1.0,\"#f0f921\"]],\"type\":\"contour\"}],\"contourcarpet\":[{\"colorbar\":{\"outlinewidth\":0,\"ticks\":\"\"},\"type\":\"contourcarpet\"}],\"heatmap\":[{\"colorbar\":{\"outlinewidth\":0,\"ticks\":\"\"},\"colorscale\":[[0.0,\"#0d0887\"],[0.1111111111111111,\"#46039f\"],[0.2222222222222222,\"#7201a8\"],[0.3333333333333333,\"#9c179e\"],[0.4444444444444444,\"#bd3786\"],[0.5555555555555556,\"#d8576b\"],[0.6666666666666666,\"#ed7953\"],[0.7777777777777778,\"#fb9f3a\"],[0.8888888888888888,\"#fdca26\"],[1.0,\"#f0f921\"]],\"type\":\"heatmap\"}],\"heatmapgl\":[{\"colorbar\":{\"outlinewidth\":0,\"ticks\":\"\"},\"colorscale\":[[0.0,\"#0d0887\"],[0.1111111111111111,\"#46039f\"],[0.2222222222222222,\"#7201a8\"],[0.3333333333333333,\"#9c179e\"],[0.4444444444444444,\"#bd3786\"],[0.5555555555555556,\"#d8576b\"],[0.6666666666666666,\"#ed7953\"],[0.7777777777777778,\"#fb9f3a\"],[0.8888888888888888,\"#fdca26\"],[1.0,\"#f0f921\"]],\"type\":\"heatmapgl\"}],\"histogram\":[{\"marker\":{\"pattern\":{\"fillmode\":\"overlay\",\"size\":10,\"solidity\":0.2}},\"type\":\"histogram\"}],\"histogram2d\":[{\"colorbar\":{\"outlinewidth\":0,\"ticks\":\"\"},\"colorscale\":[[0.0,\"#0d0887\"],[0.1111111111111111,\"#46039f\"],[0.2222222222222222,\"#7201a8\"],[0.3333333333333333,\"#9c179e\"],[0.4444444444444444,\"#bd3786\"],[0.5555555555555556,\"#d8576b\"],[0.6666666666666666,\"#ed7953\"],[0.7777777777777778,\"#fb9f3a\"],[0.8888888888888888,\"#fdca26\"],[1.0,\"#f0f921\"]],\"type\":\"histogram2d\"}],\"histogram2dcontour\":[{\"colorbar\":{\"outlinewidth\":0,\"ticks\":\"\"},\"colorscale\":[[0.0,\"#0d0887\"],[0.1111111111111111,\"#46039f\"],[0.2222222222222222,\"#7201a8\"],[0.3333333333333333,\"#9c179e\"],[0.4444444444444444,\"#bd3786\"],[0.5555555555555556,\"#d8576b\"],[0.6666666666666666,\"#ed7953\"],[0.7777777777777778,\"#fb9f3a\"],[0.8888888888888888,\"#fdca26\"],[1.0,\"#f0f921\"]],\"type\":\"histogram2dcontour\"}],\"mesh3d\":[{\"colorbar\":{\"outlinewidth\":0,\"ticks\":\"\"},\"type\":\"mesh3d\"}],\"parcoords\":[{\"line\":{\"colorbar\":{\"outlinewidth\":0,\"ticks\":\"\"}},\"type\":\"parcoords\"}],\"pie\":[{\"automargin\":true,\"type\":\"pie\"}],\"scatter\":[{\"marker\":{\"colorbar\":{\"outlinewidth\":0,\"ticks\":\"\"}},\"type\":\"scatter\"}],\"scatter3d\":[{\"line\":{\"colorbar\":{\"outlinewidth\":0,\"ticks\":\"\"}},\"marker\":{\"colorbar\":{\"outlinewidth\":0,\"ticks\":\"\"}},\"type\":\"scatter3d\"}],\"scattercarpet\":[{\"marker\":{\"colorbar\":{\"outlinewidth\":0,\"ticks\":\"\"}},\"type\":\"scattercarpet\"}],\"scattergeo\":[{\"marker\":{\"colorbar\":{\"outlinewidth\":0,\"ticks\":\"\"}},\"type\":\"scattergeo\"}],\"scattergl\":[{\"marker\":{\"colorbar\":{\"outlinewidth\":0,\"ticks\":\"\"}},\"type\":\"scattergl\"}],\"scattermapbox\":[{\"marker\":{\"colorbar\":{\"outlinewidth\":0,\"ticks\":\"\"}},\"type\":\"scattermapbox\"}],\"scatterpolar\":[{\"marker\":{\"colorbar\":{\"outlinewidth\":0,\"ticks\":\"\"}},\"type\":\"scatterpolar\"}],\"scatterpolargl\":[{\"marker\":{\"colorbar\":{\"outlinewidth\":0,\"ticks\":\"\"}},\"type\":\"scatterpolargl\"}],\"scatterternary\":[{\"marker\":{\"colorbar\":{\"outlinewidth\":0,\"ticks\":\"\"}},\"type\":\"scatterternary\"}],\"surface\":[{\"colorbar\":{\"outlinewidth\":0,\"ticks\":\"\"},\"colorscale\":[[0.0,\"#0d0887\"],[0.1111111111111111,\"#46039f\"],[0.2222222222222222,\"#7201a8\"],[0.3333333333333333,\"#9c179e\"],[0.4444444444444444,\"#bd3786\"],[0.5555555555555556,\"#d8576b\"],[0.6666666666666666,\"#ed7953\"],[0.7777777777777778,\"#fb9f3a\"],[0.8888888888888888,\"#fdca26\"],[1.0,\"#f0f921\"]],\"type\":\"surface\"}],\"table\":[{\"cells\":{\"fill\":{\"color\":\"#EBF0F8\"},\"line\":{\"color\":\"white\"}},\"header\":{\"fill\":{\"color\":\"#C8D4E3\"},\"line\":{\"color\":\"white\"}},\"type\":\"table\"}]},\"layout\":{\"annotationdefaults\":{\"arrowcolor\":\"#2a3f5f\",\"arrowhead\":0,\"arrowwidth\":1},\"autotypenumbers\":\"strict\",\"coloraxis\":{\"colorbar\":{\"outlinewidth\":0,\"ticks\":\"\"}},\"colorscale\":{\"diverging\":[[0,\"#8e0152\"],[0.1,\"#c51b7d\"],[0.2,\"#de77ae\"],[0.3,\"#f1b6da\"],[0.4,\"#fde0ef\"],[0.5,\"#f7f7f7\"],[0.6,\"#e6f5d0\"],[0.7,\"#b8e186\"],[0.8,\"#7fbc41\"],[0.9,\"#4d9221\"],[1,\"#276419\"]],\"sequential\":[[0.0,\"#0d0887\"],[0.1111111111111111,\"#46039f\"],[0.2222222222222222,\"#7201a8\"],[0.3333333333333333,\"#9c179e\"],[0.4444444444444444,\"#bd3786\"],[0.5555555555555556,\"#d8576b\"],[0.6666666666666666,\"#ed7953\"],[0.7777777777777778,\"#fb9f3a\"],[0.8888888888888888,\"#fdca26\"],[1.0,\"#f0f921\"]],\"sequentialminus\":[[0.0,\"#0d0887\"],[0.1111111111111111,\"#46039f\"],[0.2222222222222222,\"#7201a8\"],[0.3333333333333333,\"#9c179e\"],[0.4444444444444444,\"#bd3786\"],[0.5555555555555556,\"#d8576b\"],[0.6666666666666666,\"#ed7953\"],[0.7777777777777778,\"#fb9f3a\"],[0.8888888888888888,\"#fdca26\"],[1.0,\"#f0f921\"]]},\"colorway\":[\"#636efa\",\"#EF553B\",\"#00cc96\",\"#ab63fa\",\"#FFA15A\",\"#19d3f3\",\"#FF6692\",\"#B6E880\",\"#FF97FF\",\"#FECB52\"],\"font\":{\"color\":\"#2a3f5f\"},\"geo\":{\"bgcolor\":\"white\",\"lakecolor\":\"white\",\"landcolor\":\"#E5ECF6\",\"showlakes\":true,\"showland\":true,\"subunitcolor\":\"white\"},\"hoverlabel\":{\"align\":\"left\"},\"hovermode\":\"closest\",\"mapbox\":{\"style\":\"light\"},\"paper_bgcolor\":\"white\",\"plot_bgcolor\":\"#E5ECF6\",\"polar\":{\"angularaxis\":{\"gridcolor\":\"white\",\"linecolor\":\"white\",\"ticks\":\"\"},\"bgcolor\":\"#E5ECF6\",\"radialaxis\":{\"gridcolor\":\"white\",\"linecolor\":\"white\",\"ticks\":\"\"}},\"scene\":{\"xaxis\":{\"backgroundcolor\":\"#E5ECF6\",\"gridcolor\":\"white\",\"gridwidth\":2,\"linecolor\":\"white\",\"showbackground\":true,\"ticks\":\"\",\"zerolinecolor\":\"white\"},\"yaxis\":{\"backgroundcolor\":\"#E5ECF6\",\"gridcolor\":\"white\",\"gridwidth\":2,\"linecolor\":\"white\",\"showbackground\":true,\"ticks\":\"\",\"zerolinecolor\":\"white\"},\"zaxis\":{\"backgroundcolor\":\"#E5ECF6\",\"gridcolor\":\"white\",\"gridwidth\":2,\"linecolor\":\"white\",\"showbackground\":true,\"ticks\":\"\",\"zerolinecolor\":\"white\"}},\"shapedefaults\":{\"line\":{\"color\":\"#2a3f5f\"}},\"ternary\":{\"aaxis\":{\"gridcolor\":\"white\",\"linecolor\":\"white\",\"ticks\":\"\"},\"baxis\":{\"gridcolor\":\"white\",\"linecolor\":\"white\",\"ticks\":\"\"},\"bgcolor\":\"#E5ECF6\",\"caxis\":{\"gridcolor\":\"white\",\"linecolor\":\"white\",\"ticks\":\"\"}},\"title\":{\"x\":0.05},\"xaxis\":{\"automargin\":true,\"gridcolor\":\"white\",\"linecolor\":\"white\",\"ticks\":\"\",\"title\":{\"standoff\":15},\"zerolinecolor\":\"white\",\"zerolinewidth\":2},\"yaxis\":{\"automargin\":true,\"gridcolor\":\"white\",\"linecolor\":\"white\",\"ticks\":\"\",\"title\":{\"standoff\":15},\"zerolinecolor\":\"white\",\"zerolinewidth\":2}}},\"xaxis\":{\"anchor\":\"y\",\"domain\":[0.0,1.0],\"title\":{\"text\":\"LDA 1\"},\"showgrid\":true,\"gridwidth\":1,\"gridcolor\":\"lightgrey\",\"zeroline\":true,\"zerolinewidth\":1,\"zerolinecolor\":\"lightgrey\",\"showline\":true,\"linewidth\":1,\"linecolor\":\"black\"},\"yaxis\":{\"anchor\":\"x\",\"domain\":[0.0,1.0],\"title\":{\"text\":\"LDA 2\"},\"showgrid\":true,\"gridwidth\":1,\"gridcolor\":\"lightgrey\",\"zeroline\":true,\"zerolinewidth\":1,\"zerolinecolor\":\"lightgrey\",\"showline\":true,\"linewidth\":1,\"linecolor\":\"black\"},\"legend\":{\"title\":{\"text\":\"Geochem\"},\"tracegroupgap\":0},\"margin\":{\"t\":60},\"title\":{\"text\":\"LDA scatter plot of training data\"},\"plot_bgcolor\":\"white\"},                        {\"responsive\": true}                    ).then(function(){\n",
              "                            \n",
              "var gd = document.getElementById('80c3bb05-a321-46ee-8fee-f119c6ab134e');\n",
              "var x = new MutationObserver(function (mutations, observer) {{\n",
              "        var display = window.getComputedStyle(gd).display;\n",
              "        if (!display || display === 'none') {{\n",
              "            console.log([gd, 'removed!']);\n",
              "            Plotly.purge(gd);\n",
              "            observer.disconnect();\n",
              "        }}\n",
              "}});\n",
              "\n",
              "// Listen for the removal of the full notebook cells\n",
              "var notebookContainer = gd.closest('#notebook-container');\n",
              "if (notebookContainer) {{\n",
              "    x.observe(notebookContainer, {childList: true});\n",
              "}}\n",
              "\n",
              "// Listen for the clearing of the current output cell\n",
              "var outputEl = gd.closest('.output');\n",
              "if (outputEl) {{\n",
              "    x.observe(outputEl, {childList: true});\n",
              "}}\n",
              "\n",
              "                        })                };                            </script>        </div>\n",
              "</body>\n",
              "</html>"
            ]
          },
          "metadata": {}
        }
      ]
    },
    {
      "cell_type": "code",
      "source": [
        "import plotly.express as px\n",
        "fig = px.scatter(source_data, x=trainX_lda_2[:,0], y=trainX_lda_2[:,1],\n",
        "                 labels = {\n",
        "                     \"x\": \"LDA 1\",\n",
        "                     \"y\": 'LDA 2',\n",
        "                 },\n",
        "                 opacity=1, color=Z)\n",
        "\n",
        "# Set figure title\n",
        "fig.update_layout(title_text=\"Social class model - LDA scatter plot of training data\")\n",
        "\n",
        "# Update marker size\n",
        "fig.update_traces(marker=dict(size=4))\n",
        "\n",
        "# Change chart background color\n",
        "fig.update_layout(dict(plot_bgcolor = 'white'))\n",
        "\n",
        "# Update axes lines\n",
        "fig.update_xaxes(showgrid=True, gridwidth=1, gridcolor='lightgrey', \n",
        "                 zeroline=True, zerolinewidth=1, zerolinecolor='lightgrey', \n",
        "                 showline=True, linewidth=1, linecolor='black')\n",
        "\n",
        "fig.update_yaxes(showgrid=True, gridwidth=1, gridcolor='lightgrey', \n",
        "                 zeroline=True, zerolinewidth=1, zerolinecolor='lightgrey', \n",
        "                 showline=True, linewidth=1, linecolor='black')\n",
        "\n",
        "fig.show()"
      ],
      "metadata": {
        "colab": {
          "base_uri": "https://localhost:8080/",
          "height": 542
        },
        "id": "NrPYu-zd4WSu",
        "outputId": "460c8f16-3acf-4824-f6c3-5f5659641564"
      },
      "execution_count": 71,
      "outputs": [
        {
          "output_type": "display_data",
          "data": {
            "text/html": [
              "<html>\n",
              "<head><meta charset=\"utf-8\" /></head>\n",
              "<body>\n",
              "    <div>            <script src=\"https://cdnjs.cloudflare.com/ajax/libs/mathjax/2.7.5/MathJax.js?config=TeX-AMS-MML_SVG\"></script><script type=\"text/javascript\">if (window.MathJax) {MathJax.Hub.Config({SVG: {font: \"STIX-Web\"}});}</script>                <script type=\"text/javascript\">window.PlotlyConfig = {MathJaxConfig: 'local'};</script>\n",
              "        <script src=\"https://cdn.plot.ly/plotly-2.8.3.min.js\"></script>                <div id=\"8ce09c13-9222-4fe2-86f5-d0e6c15902ee\" class=\"plotly-graph-div\" style=\"height:525px; width:100%;\"></div>            <script type=\"text/javascript\">                                    window.PLOTLYENV=window.PLOTLYENV || {};                                    if (document.getElementById(\"8ce09c13-9222-4fe2-86f5-d0e6c15902ee\")) {                    Plotly.newPlot(                        \"8ce09c13-9222-4fe2-86f5-d0e6c15902ee\",                        [{\"hovertemplate\":\"Social=Hoskins<br>LDA 1=%{x}<br>LDA 2=%{y}<extra></extra>\",\"legendgroup\":\"Hoskins\",\"marker\":{\"color\":\"#636efa\",\"opacity\":1,\"symbol\":\"circle\",\"size\":4},\"mode\":\"markers\",\"name\":\"Hoskins\",\"orientation\":\"v\",\"showlegend\":true,\"x\":[2.1869311341870197,2.496464511707131,2.737892355162479,2.292957350855999,2.1655516915660766,1.7390807917156252,2.0107231658115565,2.4437038505861355,2.238302820499345,1.8400680030788121,1.6911002927421608,1.2781438033699901,2.566283329174302,1.8845214034100388,2.2847353418280583,1.6848986312547722,1.89023466760643,1.4427644384185885,2.247502510477488,2.10026984428172,2.8551563665886492,4.149554289937299,3.021402614326075,0.4571450493235692,1.7315772039624209,1.7275234487959639,1.9765568254154937,1.8100881102096629,1.8398207450183872,2.274059968509113,2.131223156209795,2.262147567323782,1.7903436309661582,2.00320251427837,1.6674964431848927,1.7635951607994182,1.3643850661675723,1.8054537922465852,1.6636092870268109,1.60119826399789,1.7577112249457358,1.8458201255550528,0.897690572907199,0.6187770940179034,0.33130433024540057,1.4849983330479695,-0.4843495066275422,1.0911342659224332,2.9449271310613123,4.102830881273384,1.7182023903613,1.581084249304036,2.617723172073431,1.5595878495511264,1.66197826315073,2.4631056004639547,1.9183155365655835,1.9506555927805975,1.9620291936160015,2.6546668117035424,1.5965734615485603,1.7657445077417875,3.0550022388201286,1.716540478046618],\"xaxis\":\"x\",\"y\":[-0.6167088709241613,-0.140267837239495,0.21372793826161154,-0.42010876375587075,0.12421932976507004,1.6878436276841053,2.1388851593783635,0.20443938170197162,-0.01761276009120382,-1.3113856701972413,-0.7168172805483096,-1.0815976049015863,-1.1316067417786813,-1.1508277926674895,-0.7003416412818977,-0.386983731213258,-1.0757395334806295,-2.47545433249492,-0.8146111194554525,-1.1145122758412367,-2.365883235131244,0.9033570153320609,-0.9750568058182638,-1.6727162068523584,-1.4088157713082718,-1.1258913025399697,-0.9969577483710835,-1.1292087965162403,-1.3788154719280177,-1.0988187199680821,-0.7378961567910979,-1.19464530351616,-0.997374243198916,-1.2938580766162102,-1.5254213435494672,-1.4394501778083055,-1.5201730784559935,-1.0008237582221675,-1.1426085528453895,-0.612079866899705,-1.2955627345947633,-0.7027677931446564,-0.6797496226494336,-0.8186739638517376,-0.8563357010461634,-0.9967999026442165,-2.4244316881846597,-1.3490545258251294,-1.0599600878056044,-1.95661499955837,-1.8482884821636578,-1.0345293605486163,-1.1099675338374841,-1.4981289295484281,1.9370596084764393,2.2416253105498156,1.200694231269308,1.095787389555143,1.2742773271295906,0.7734783827004458,0.016199224203038234,-0.6702778439105095,-0.2739742178423584,-0.7042838184134853],\"yaxis\":\"y\",\"type\":\"scatter\"},{\"hovertemplate\":\"Social=Eastern<br>LDA 1=%{x}<br>LDA 2=%{y}<extra></extra>\",\"legendgroup\":\"Eastern\",\"marker\":{\"color\":\"#EF553B\",\"opacity\":1,\"symbol\":\"circle\",\"size\":4},\"mode\":\"markers\",\"name\":\"Eastern\",\"orientation\":\"v\",\"showlegend\":true,\"x\":[2.630457809323519,2.8829150700223343,2.066537308501999,1.5994032272411276,2.780533899548859,2.8490346802353765,1.893702612887034,2.216003698495603,1.9519757455976243,2.4114256230824385,1.4525367607317579,1.2182235033081903,3.3248395127684227,2.7424095055583986,1.8061496990682755,2.5402374693649468,1.802235159744722,2.5503678476638667,2.4196746735510635,1.6294059183724976,2.126492243999283,2.0584359382119013,2.2465184182525846,2.4840689927613595,1.7888641886714218,2.575789407836661,2.1802252139679195,1.9804038032844544,1.5163277357049738,2.013519901575987,2.0100850821333505,2.0493523634465474,1.8101623944432965,4.187796698452671,2.015356463307287,1.602848638715657,1.8657806018298384,2.2665878424236303,2.950712407905652,2.3024824894188045,2.319271410926321,2.6008147685126652,1.9762281408848201,1.9515773374151038,1.746380052262384,1.1317553252969015,2.5208196041588806,2.229354883476461,2.64844456977636,2.246831789259188,2.091455175204199,2.5876080437520095,1.947566473037569,2.441292404364792,1.5814571684005347,1.8736450413758752,2.096955564619787,2.407814480967669,2.090972108621172,1.9259821585388777,1.7980299245616504,1.9666818464675129,4.01061505160744,2.7048822381239153,2.1284821343897615,2.1255197894388975,2.910370942972724,2.819156511558142,2.7260087750261577,1.795652484891813,1.9726978845526142,2.368483082224511,2.104562697782244,1.9957544410721788,1.9722863158971278,1.6475150173771846,1.9852018704130352,2.1580354189962514],\"xaxis\":\"x\",\"y\":[-0.8877701776582106,-0.7970330733638896,-1.040094341688998,0.07936181032601934,-0.32582697757262163,0.10409414593650704,-0.2805591296882563,-1.279752514105279,-1.466464920912118,-0.7999126724234895,-1.8888900257932484,-2.6638100473163373,-1.2731878184671157,-1.1681164968772206,-2.1617807572642835,-1.6239630563416736,-0.3340270643447524,-1.3306419482233804,-0.2513468028890979,-1.3706354867500194,-0.9776291939831172,-1.295169971437283,-1.0119843728400244,-0.08129463233228473,-1.1157923313034614,-0.20366894132760466,-0.6667441217120221,-0.4720639098985723,-1.91420983866286,-1.2290579043712302,-1.436526060845038,-1.2424390305953277,-1.4344411717143806,-0.8567121311128664,-1.0871945850204656,-1.5300171073277455,-0.795573426572231,-1.0254378102321586,-0.33390989584360753,-0.5513815499225141,-0.8523168584215773,-0.6272659988529278,-0.9526007186499214,-0.7850196566678782,-0.8987462089868334,-1.040406885102999,-1.0781260272750341,-0.5453284376199953,-0.9064036262442304,-0.4853812981719991,-1.5563876857808665,-0.5843970301539317,-0.7219088109065938,-1.0947951605304072,-1.5573275449571735,-1.9375822264919669,-0.939414033289537,-0.391285625264478,-1.0233089999537373,-0.7912590488993312,-1.1967333613364064,-0.9971110375078848,-0.47235153440300703,-0.6701629313833722,-1.0213061625585385,-1.045620078256893,-0.6475510828789873,-0.3522683506362299,-0.9862012420683192,-1.2183250340502674,-1.1903028343125028,-0.47654647272864076,-0.9633235476215688,-1.371412568001072,-1.2971938395377343,-1.255476544230935,-0.927583448961469,-0.6170576899176691],\"yaxis\":\"y\",\"type\":\"scatter\"},{\"hovertemplate\":\"Social=W.P.S<br>LDA 1=%{x}<br>LDA 2=%{y}<extra></extra>\",\"legendgroup\":\"W.P.S\",\"marker\":{\"color\":\"#00cc96\",\"opacity\":1,\"symbol\":\"circle\",\"size\":4},\"mode\":\"markers\",\"name\":\"W.P.S\",\"orientation\":\"v\",\"showlegend\":true,\"x\":[2.47867096592776,2.7080313989787492,1.9761905764419379,2.123229594310192,1.341425109796791,2.137073551608445,1.8152687562164411,1.3233664721248197,0.37360280140133634,0.921998868351749,0.5845652584035653,0.9184325951054354,-0.14264587355005914,0.060991689225959746,0.18059194132873874,0.706036426055213,1.3127242598283815,0.2828055821911133,0.420044118014385,1.654818036444722,0.3819936658468775,1.7214798489203904,0.8395789428870359,1.005193983501552,1.48030939263793,0.9108359093751407,0.4152525637531211,0.7207273979756208],\"xaxis\":\"x\",\"y\":[-0.07947235186944714,-0.1211080914282318,-0.9064829380781869,-0.8906202780657696,-1.2931765720641624,-0.4537295359474337,-0.6107781410931258,-1.8043581422495285,-1.2280714262310162,-1.123147524298493,-1.1141230025925173,-1.4561881380149686,-0.761564531610053,-0.515435383204256,-2.3784342733235113,-1.7910603727397756,-2.7168394761586323,-1.296148770862811,-0.6393665835722202,-0.15295391744249157,-1.512971398397933,-0.43569235837938014,-1.1689423562891017,-1.3497106174845768,-1.1212315601129608,-1.5059668455405226,-1.3834873627824185,-1.4013189875028933],\"yaxis\":\"y\",\"type\":\"scatter\"},{\"hovertemplate\":\"Social=W.P.N<br>LDA 1=%{x}<br>LDA 2=%{y}<extra></extra>\",\"legendgroup\":\"W.P.N\",\"marker\":{\"color\":\"#ab63fa\",\"opacity\":1,\"symbol\":\"circle\",\"size\":4},\"mode\":\"markers\",\"name\":\"W.P.N\",\"orientation\":\"v\",\"showlegend\":true,\"x\":[1.182786012754497,0.06763224293174101,0.1549688919449946,2.025603919867958,1.7264644114129502,0.012305251399297326,3.1844459208246088,0.8858144874402167,2.518298177382446,1.630597167162602,1.551938679401101,1.6021355076147885,1.8415122120361038,-1.6685365143782178,-1.7840227482504278,-1.0277288631109869,2.7734369541887696,2.6892540854788147,1.0614023260161487,2.2250970409769164,0.24122452762085447,-1.3738773801541602,0.5526759559793596,2.4694486985763495,3.324088633753068,2.2673745955982176,1.4805228042076177,0.4820901959801684,1.3233664721248197,1.139944974776949,1.7445047846083948,3.7711383922764146,1.7127271925357097],\"xaxis\":\"x\",\"y\":[-1.3792747981778857,-2.685976454882353,-1.469107392004942,-1.1779865969297203,-1.8264094900246797,-2.2038175017633135,-0.5175156433917585,-0.7658408105249268,-1.3678808673398788,-1.283213177372136,-1.2441564719286604,2.6336983922877546,2.10751525728547,-1.3214210470175622,-0.6295617481828728,-1.3848357905638677,0.46625064300081065,0.39210993564488666,0.00603167038295355,-1.1051090377484185,-0.5173285851675697,-3.869582583847564,-0.7073705414128055,-0.7022962067090188,-0.8958974541328945,-1.1622628536948167,-1.542501171829596,-1.0114975918922215,-1.8043581422495285,-2.1137120977979986,-1.1129685434911731,-1.1054383401346988,-1.3897227141372697],\"yaxis\":\"y\",\"type\":\"scatter\"},{\"hovertemplate\":\"Social=Bali-Witu<br>LDA 1=%{x}<br>LDA 2=%{y}<extra></extra>\",\"legendgroup\":\"Bali-Witu\",\"marker\":{\"color\":\"#FFA15A\",\"opacity\":1,\"symbol\":\"circle\",\"size\":4},\"mode\":\"markers\",\"name\":\"Bali-Witu\",\"orientation\":\"v\",\"showlegend\":true,\"x\":[-2.4009980302490765,-3.442193975159602,-2.5094924636142517,-3.1965311619525267,-3.6194203933351385,-3.246740395507008,-6.075489548333834,-2.696731920978545,-6.599660110255868,-2.7155310984034284,-5.7392388739510265,-4.288388700987248,-3.0981346595373878,-2.862633714208406,-4.14753058075174,-3.127443065043851,-2.293342579178877,-2.9892262548811335,-2.904673060589976,-1.131324105230968,-2.169387175082684,-2.150495572626911,-3.055963026902881,-1.1240916935729164,-2.5278375062860228,-3.387001677050291],\"xaxis\":\"x\",\"y\":[-0.8779612261468946,1.0590532712836003,-0.9892849492069762,0.3129478552706574,0.9724589811399654,0.5319388111740898,0.8534244607287206,-0.9492532618808135,0.3963357600289637,-0.7251725440462884,0.351540451828926,1.5375528543656,1.0249927198214897,-1.5625728090923698,-3.0529952976253156,-1.1860522334367714,-1.1605773971348234,-1.3701822057911932,-1.5485242696954191,-1.1288771050082633,-1.0602332162137504,-0.10708810377547139,-0.25020035291742154,-1.469364418624399,0.673855329280295,-1.6968306000297508],\"yaxis\":\"y\",\"type\":\"scatter\"},{\"hovertemplate\":\"Social=Rabaul<br>LDA 1=%{x}<br>LDA 2=%{y}<extra></extra>\",\"legendgroup\":\"Rabaul\",\"marker\":{\"color\":\"#19d3f3\",\"opacity\":1,\"symbol\":\"circle\",\"size\":4},\"mode\":\"markers\",\"name\":\"Rabaul\",\"orientation\":\"v\",\"showlegend\":true,\"x\":[-1.7039226752552896,-3.793602030172382,-3.897430303561176,-1.2781272914568729,-0.9776390657805276,-4.366903643924883,-2.8950602497905744,-2.933194658406518,-2.4659653923207596,-3.0809675958808964,-3.5840871989613077,-2.237072082393346,-0.7143159651787631,-0.7578516871991268,-2.7417337231764383,-3.824082973603935,-3.2279122426262856,-2.5473616221151687,-3.033431171791709,-2.8174903654777137,-2.9163563572172255,-3.5559446275014444,-0.680914607047563,0.03880538001724692,-0.6145768832414554,-0.5299283921009043,-0.4326693711321738,-0.8821842929315776,-0.6108014883207173,-1.8628351188022039,-2.4643407889054703,-2.3849199415397107,-2.4553942147158008,-2.547244138454086,-2.4950057276086333,-2.70495930866595,-2.55768780055157,-2.473421045882768,-2.4564230080747067,-2.0816108537620868,-2.7716674470582885,-2.201916291430178,-1.7935031754880388,-2.5474055259344723,-1.5228139872937883,-1.9797347838320467,-2.3816863330870706,-1.6618817463091637,-2.446121535782153,-3.1642113443620947,-3.2329472071257084,-3.3031168761168708,-2.4456417259345984,-5.730372399274771],\"xaxis\":\"x\",\"y\":[4.07498782558567,6.287315571271534,4.36262741583052,4.141769281221069,5.302742386597701,4.810790962996331,4.6726512715128505,3.3048130180420165,3.3710022123523453,3.0316624276178494,3.260462227087361,3.485881526880187,3.3567413953831973,3.645295529107031,3.970090790462774,4.006326072061175,3.129817371823292,3.967157844322238,2.5221334111398925,1.9002022646270753,3.9772593129230844,4.20488581582843,1.7080669902438317,3.134723018943634,2.5182023064564154,1.627690291491589,1.4226720107384323,2.200204859090993,1.9137442480617222,3.1988854337555748,2.8974400266620735,2.8628714989198847,2.810708486064283,2.7137785273209682,2.828853203226092,2.678390617750154,2.8660011784098987,2.8697674027764184,2.9781527562426717,2.4791654817791704,3.0513678469997734,2.5719544404057118,3.0066835977595066,2.2289456012532245,3.031489731764532,2.6462493895858157,2.43276393812211,2.840724834003143,2.3832788936552056,2.929790789434265,2.830159096991903,2.9396299420218166,3.62314621083296,-0.17145036728508864],\"yaxis\":\"y\",\"type\":\"scatter\"},{\"hovertemplate\":\"Social=Vitiaz<br>LDA 1=%{x}<br>LDA 2=%{y}<extra></extra>\",\"legendgroup\":\"Vitiaz\",\"marker\":{\"color\":\"#FF6692\",\"opacity\":1,\"symbol\":\"circle\",\"size\":4},\"mode\":\"markers\",\"name\":\"Vitiaz\",\"orientation\":\"v\",\"showlegend\":true,\"x\":[-0.4874646157284615,-1.5584941415469464,-0.17084746942209608,0.17417096496816367,1.1170237735786164,1.906760541591379,1.2966989362346097,1.2766538298248982,0.01091485225467376,0.004273633741200227,-0.1053955378495035,-0.19070112611064893,1.2264573582769909,-1.3542495300652084,1.5655141115810656],\"xaxis\":\"x\",\"y\":[4.696984233706423,4.664924163715952,5.165219522107329,5.488070106811291,5.861198700826123,7.721243357499847,6.034687556412852,5.573855414175301,5.818691143654761,6.978075184859728,8.226175881253285,5.311587320451481,6.172731531127834,6.215326712248184,6.075812428383588],\"yaxis\":\"y\",\"type\":\"scatter\"},{\"hovertemplate\":\"Social=New Guinea<br>LDA 1=%{x}<br>LDA 2=%{y}<extra></extra>\",\"legendgroup\":\"New Guinea\",\"marker\":{\"color\":\"#B6E880\",\"opacity\":1,\"symbol\":\"circle\",\"size\":4},\"mode\":\"markers\",\"name\":\"New Guinea\",\"orientation\":\"v\",\"showlegend\":true,\"x\":[-12.20458310517302,-10.437124359869342,-11.59528713619165,-6.763931237371747,-7.475109274564293,-8.99950431800154,-10.141608843559498,-11.88932612591534,-13.523220937393466,-11.69549495101263,-9.342759746275657,-9.584032374530436,-11.75698348042999,-9.937018380330933,-8.459743942096765,-9.45349668419443],\"xaxis\":\"x\",\"y\":[-1.898761138181895,-3.5359308718322584,-4.338872394184746,-3.827049725219885,-3.223178517444384,-2.7014357300852114,-3.6179405879243776,-1.9102529528172658,-0.10141089671017404,-2.5795692857640034,-7.310840539807032,-7.237113016547098,-4.944069231513933,-6.180096544428387,-6.214847423100348,-4.1627215941811375],\"yaxis\":\"y\",\"type\":\"scatter\"}],                        {\"template\":{\"data\":{\"bar\":[{\"error_x\":{\"color\":\"#2a3f5f\"},\"error_y\":{\"color\":\"#2a3f5f\"},\"marker\":{\"line\":{\"color\":\"#E5ECF6\",\"width\":0.5},\"pattern\":{\"fillmode\":\"overlay\",\"size\":10,\"solidity\":0.2}},\"type\":\"bar\"}],\"barpolar\":[{\"marker\":{\"line\":{\"color\":\"#E5ECF6\",\"width\":0.5},\"pattern\":{\"fillmode\":\"overlay\",\"size\":10,\"solidity\":0.2}},\"type\":\"barpolar\"}],\"carpet\":[{\"aaxis\":{\"endlinecolor\":\"#2a3f5f\",\"gridcolor\":\"white\",\"linecolor\":\"white\",\"minorgridcolor\":\"white\",\"startlinecolor\":\"#2a3f5f\"},\"baxis\":{\"endlinecolor\":\"#2a3f5f\",\"gridcolor\":\"white\",\"linecolor\":\"white\",\"minorgridcolor\":\"white\",\"startlinecolor\":\"#2a3f5f\"},\"type\":\"carpet\"}],\"choropleth\":[{\"colorbar\":{\"outlinewidth\":0,\"ticks\":\"\"},\"type\":\"choropleth\"}],\"contour\":[{\"colorbar\":{\"outlinewidth\":0,\"ticks\":\"\"},\"colorscale\":[[0.0,\"#0d0887\"],[0.1111111111111111,\"#46039f\"],[0.2222222222222222,\"#7201a8\"],[0.3333333333333333,\"#9c179e\"],[0.4444444444444444,\"#bd3786\"],[0.5555555555555556,\"#d8576b\"],[0.6666666666666666,\"#ed7953\"],[0.7777777777777778,\"#fb9f3a\"],[0.8888888888888888,\"#fdca26\"],[1.0,\"#f0f921\"]],\"type\":\"contour\"}],\"contourcarpet\":[{\"colorbar\":{\"outlinewidth\":0,\"ticks\":\"\"},\"type\":\"contourcarpet\"}],\"heatmap\":[{\"colorbar\":{\"outlinewidth\":0,\"ticks\":\"\"},\"colorscale\":[[0.0,\"#0d0887\"],[0.1111111111111111,\"#46039f\"],[0.2222222222222222,\"#7201a8\"],[0.3333333333333333,\"#9c179e\"],[0.4444444444444444,\"#bd3786\"],[0.5555555555555556,\"#d8576b\"],[0.6666666666666666,\"#ed7953\"],[0.7777777777777778,\"#fb9f3a\"],[0.8888888888888888,\"#fdca26\"],[1.0,\"#f0f921\"]],\"type\":\"heatmap\"}],\"heatmapgl\":[{\"colorbar\":{\"outlinewidth\":0,\"ticks\":\"\"},\"colorscale\":[[0.0,\"#0d0887\"],[0.1111111111111111,\"#46039f\"],[0.2222222222222222,\"#7201a8\"],[0.3333333333333333,\"#9c179e\"],[0.4444444444444444,\"#bd3786\"],[0.5555555555555556,\"#d8576b\"],[0.6666666666666666,\"#ed7953\"],[0.7777777777777778,\"#fb9f3a\"],[0.8888888888888888,\"#fdca26\"],[1.0,\"#f0f921\"]],\"type\":\"heatmapgl\"}],\"histogram\":[{\"marker\":{\"pattern\":{\"fillmode\":\"overlay\",\"size\":10,\"solidity\":0.2}},\"type\":\"histogram\"}],\"histogram2d\":[{\"colorbar\":{\"outlinewidth\":0,\"ticks\":\"\"},\"colorscale\":[[0.0,\"#0d0887\"],[0.1111111111111111,\"#46039f\"],[0.2222222222222222,\"#7201a8\"],[0.3333333333333333,\"#9c179e\"],[0.4444444444444444,\"#bd3786\"],[0.5555555555555556,\"#d8576b\"],[0.6666666666666666,\"#ed7953\"],[0.7777777777777778,\"#fb9f3a\"],[0.8888888888888888,\"#fdca26\"],[1.0,\"#f0f921\"]],\"type\":\"histogram2d\"}],\"histogram2dcontour\":[{\"colorbar\":{\"outlinewidth\":0,\"ticks\":\"\"},\"colorscale\":[[0.0,\"#0d0887\"],[0.1111111111111111,\"#46039f\"],[0.2222222222222222,\"#7201a8\"],[0.3333333333333333,\"#9c179e\"],[0.4444444444444444,\"#bd3786\"],[0.5555555555555556,\"#d8576b\"],[0.6666666666666666,\"#ed7953\"],[0.7777777777777778,\"#fb9f3a\"],[0.8888888888888888,\"#fdca26\"],[1.0,\"#f0f921\"]],\"type\":\"histogram2dcontour\"}],\"mesh3d\":[{\"colorbar\":{\"outlinewidth\":0,\"ticks\":\"\"},\"type\":\"mesh3d\"}],\"parcoords\":[{\"line\":{\"colorbar\":{\"outlinewidth\":0,\"ticks\":\"\"}},\"type\":\"parcoords\"}],\"pie\":[{\"automargin\":true,\"type\":\"pie\"}],\"scatter\":[{\"marker\":{\"colorbar\":{\"outlinewidth\":0,\"ticks\":\"\"}},\"type\":\"scatter\"}],\"scatter3d\":[{\"line\":{\"colorbar\":{\"outlinewidth\":0,\"ticks\":\"\"}},\"marker\":{\"colorbar\":{\"outlinewidth\":0,\"ticks\":\"\"}},\"type\":\"scatter3d\"}],\"scattercarpet\":[{\"marker\":{\"colorbar\":{\"outlinewidth\":0,\"ticks\":\"\"}},\"type\":\"scattercarpet\"}],\"scattergeo\":[{\"marker\":{\"colorbar\":{\"outlinewidth\":0,\"ticks\":\"\"}},\"type\":\"scattergeo\"}],\"scattergl\":[{\"marker\":{\"colorbar\":{\"outlinewidth\":0,\"ticks\":\"\"}},\"type\":\"scattergl\"}],\"scattermapbox\":[{\"marker\":{\"colorbar\":{\"outlinewidth\":0,\"ticks\":\"\"}},\"type\":\"scattermapbox\"}],\"scatterpolar\":[{\"marker\":{\"colorbar\":{\"outlinewidth\":0,\"ticks\":\"\"}},\"type\":\"scatterpolar\"}],\"scatterpolargl\":[{\"marker\":{\"colorbar\":{\"outlinewidth\":0,\"ticks\":\"\"}},\"type\":\"scatterpolargl\"}],\"scatterternary\":[{\"marker\":{\"colorbar\":{\"outlinewidth\":0,\"ticks\":\"\"}},\"type\":\"scatterternary\"}],\"surface\":[{\"colorbar\":{\"outlinewidth\":0,\"ticks\":\"\"},\"colorscale\":[[0.0,\"#0d0887\"],[0.1111111111111111,\"#46039f\"],[0.2222222222222222,\"#7201a8\"],[0.3333333333333333,\"#9c179e\"],[0.4444444444444444,\"#bd3786\"],[0.5555555555555556,\"#d8576b\"],[0.6666666666666666,\"#ed7953\"],[0.7777777777777778,\"#fb9f3a\"],[0.8888888888888888,\"#fdca26\"],[1.0,\"#f0f921\"]],\"type\":\"surface\"}],\"table\":[{\"cells\":{\"fill\":{\"color\":\"#EBF0F8\"},\"line\":{\"color\":\"white\"}},\"header\":{\"fill\":{\"color\":\"#C8D4E3\"},\"line\":{\"color\":\"white\"}},\"type\":\"table\"}]},\"layout\":{\"annotationdefaults\":{\"arrowcolor\":\"#2a3f5f\",\"arrowhead\":0,\"arrowwidth\":1},\"autotypenumbers\":\"strict\",\"coloraxis\":{\"colorbar\":{\"outlinewidth\":0,\"ticks\":\"\"}},\"colorscale\":{\"diverging\":[[0,\"#8e0152\"],[0.1,\"#c51b7d\"],[0.2,\"#de77ae\"],[0.3,\"#f1b6da\"],[0.4,\"#fde0ef\"],[0.5,\"#f7f7f7\"],[0.6,\"#e6f5d0\"],[0.7,\"#b8e186\"],[0.8,\"#7fbc41\"],[0.9,\"#4d9221\"],[1,\"#276419\"]],\"sequential\":[[0.0,\"#0d0887\"],[0.1111111111111111,\"#46039f\"],[0.2222222222222222,\"#7201a8\"],[0.3333333333333333,\"#9c179e\"],[0.4444444444444444,\"#bd3786\"],[0.5555555555555556,\"#d8576b\"],[0.6666666666666666,\"#ed7953\"],[0.7777777777777778,\"#fb9f3a\"],[0.8888888888888888,\"#fdca26\"],[1.0,\"#f0f921\"]],\"sequentialminus\":[[0.0,\"#0d0887\"],[0.1111111111111111,\"#46039f\"],[0.2222222222222222,\"#7201a8\"],[0.3333333333333333,\"#9c179e\"],[0.4444444444444444,\"#bd3786\"],[0.5555555555555556,\"#d8576b\"],[0.6666666666666666,\"#ed7953\"],[0.7777777777777778,\"#fb9f3a\"],[0.8888888888888888,\"#fdca26\"],[1.0,\"#f0f921\"]]},\"colorway\":[\"#636efa\",\"#EF553B\",\"#00cc96\",\"#ab63fa\",\"#FFA15A\",\"#19d3f3\",\"#FF6692\",\"#B6E880\",\"#FF97FF\",\"#FECB52\"],\"font\":{\"color\":\"#2a3f5f\"},\"geo\":{\"bgcolor\":\"white\",\"lakecolor\":\"white\",\"landcolor\":\"#E5ECF6\",\"showlakes\":true,\"showland\":true,\"subunitcolor\":\"white\"},\"hoverlabel\":{\"align\":\"left\"},\"hovermode\":\"closest\",\"mapbox\":{\"style\":\"light\"},\"paper_bgcolor\":\"white\",\"plot_bgcolor\":\"#E5ECF6\",\"polar\":{\"angularaxis\":{\"gridcolor\":\"white\",\"linecolor\":\"white\",\"ticks\":\"\"},\"bgcolor\":\"#E5ECF6\",\"radialaxis\":{\"gridcolor\":\"white\",\"linecolor\":\"white\",\"ticks\":\"\"}},\"scene\":{\"xaxis\":{\"backgroundcolor\":\"#E5ECF6\",\"gridcolor\":\"white\",\"gridwidth\":2,\"linecolor\":\"white\",\"showbackground\":true,\"ticks\":\"\",\"zerolinecolor\":\"white\"},\"yaxis\":{\"backgroundcolor\":\"#E5ECF6\",\"gridcolor\":\"white\",\"gridwidth\":2,\"linecolor\":\"white\",\"showbackground\":true,\"ticks\":\"\",\"zerolinecolor\":\"white\"},\"zaxis\":{\"backgroundcolor\":\"#E5ECF6\",\"gridcolor\":\"white\",\"gridwidth\":2,\"linecolor\":\"white\",\"showbackground\":true,\"ticks\":\"\",\"zerolinecolor\":\"white\"}},\"shapedefaults\":{\"line\":{\"color\":\"#2a3f5f\"}},\"ternary\":{\"aaxis\":{\"gridcolor\":\"white\",\"linecolor\":\"white\",\"ticks\":\"\"},\"baxis\":{\"gridcolor\":\"white\",\"linecolor\":\"white\",\"ticks\":\"\"},\"bgcolor\":\"#E5ECF6\",\"caxis\":{\"gridcolor\":\"white\",\"linecolor\":\"white\",\"ticks\":\"\"}},\"title\":{\"x\":0.05},\"xaxis\":{\"automargin\":true,\"gridcolor\":\"white\",\"linecolor\":\"white\",\"ticks\":\"\",\"title\":{\"standoff\":15},\"zerolinecolor\":\"white\",\"zerolinewidth\":2},\"yaxis\":{\"automargin\":true,\"gridcolor\":\"white\",\"linecolor\":\"white\",\"ticks\":\"\",\"title\":{\"standoff\":15},\"zerolinecolor\":\"white\",\"zerolinewidth\":2}}},\"xaxis\":{\"anchor\":\"y\",\"domain\":[0.0,1.0],\"title\":{\"text\":\"LDA 1\"},\"showgrid\":true,\"gridwidth\":1,\"gridcolor\":\"lightgrey\",\"zeroline\":true,\"zerolinewidth\":1,\"zerolinecolor\":\"lightgrey\",\"showline\":true,\"linewidth\":1,\"linecolor\":\"black\"},\"yaxis\":{\"anchor\":\"x\",\"domain\":[0.0,1.0],\"title\":{\"text\":\"LDA 2\"},\"showgrid\":true,\"gridwidth\":1,\"gridcolor\":\"lightgrey\",\"zeroline\":true,\"zerolinewidth\":1,\"zerolinecolor\":\"lightgrey\",\"showline\":true,\"linewidth\":1,\"linecolor\":\"black\"},\"legend\":{\"title\":{\"text\":\"Social\"},\"tracegroupgap\":0},\"margin\":{\"t\":60},\"title\":{\"text\":\"Social class model - LDA scatter plot of training data\"},\"plot_bgcolor\":\"white\"},                        {\"responsive\": true}                    ).then(function(){\n",
              "                            \n",
              "var gd = document.getElementById('8ce09c13-9222-4fe2-86f5-d0e6c15902ee');\n",
              "var x = new MutationObserver(function (mutations, observer) {{\n",
              "        var display = window.getComputedStyle(gd).display;\n",
              "        if (!display || display === 'none') {{\n",
              "            console.log([gd, 'removed!']);\n",
              "            Plotly.purge(gd);\n",
              "            observer.disconnect();\n",
              "        }}\n",
              "}});\n",
              "\n",
              "// Listen for the removal of the full notebook cells\n",
              "var notebookContainer = gd.closest('#notebook-container');\n",
              "if (notebookContainer) {{\n",
              "    x.observe(notebookContainer, {childList: true});\n",
              "}}\n",
              "\n",
              "// Listen for the clearing of the current output cell\n",
              "var outputEl = gd.closest('.output');\n",
              "if (outputEl) {{\n",
              "    x.observe(outputEl, {childList: true});\n",
              "}}\n",
              "\n",
              "                        })                };                            </script>        </div>\n",
              "</body>\n",
              "</html>"
            ]
          },
          "metadata": {}
        }
      ]
    },
    {
      "cell_type": "code",
      "source": [
        "\n",
        "\n"
      ],
      "metadata": {
        "id": "WYeo4oNLN0F_"
      },
      "execution_count": null,
      "outputs": []
    }
  ]
}