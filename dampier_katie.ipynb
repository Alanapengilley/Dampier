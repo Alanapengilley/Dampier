{
  "cells": [
    {
      "cell_type": "markdown",
      "metadata": {
        "id": "view-in-github",
        "colab_type": "text"
      },
      "source": [
        "<a href=\"https://colab.research.google.com/github/Alanapengilley/Dampier/blob/main/dampier_katie.ipynb\" target=\"_parent\"><img src=\"https://colab.research.google.com/assets/colab-badge.svg\" alt=\"Open In Colab\"/></a>"
      ]
    },
    {
      "cell_type": "code",
      "source": [
        "!pip install pyrolite"
      ],
      "metadata": {
        "colab": {
          "base_uri": "https://localhost:8080/",
          "height": 1000
        },
        "id": "by00wmBOL2L8",
        "outputId": "b18b78bb-3a67-4bea-aaf5-da24b6009812"
      },
      "id": "by00wmBOL2L8",
      "execution_count": null,
      "outputs": [
        {
          "output_type": "stream",
          "name": "stdout",
          "text": [
            "Collecting pyrolite\n",
            "  Downloading pyrolite-0.3.1-py3-none-any.whl (580 kB)\n",
            "\u001b[?25l\r\u001b[K     |▋                               | 10 kB 10.8 MB/s eta 0:00:01\r\u001b[K     |█▏                              | 20 kB 10.6 MB/s eta 0:00:01\r\u001b[K     |█▊                              | 30 kB 8.3 MB/s eta 0:00:01\r\u001b[K     |██▎                             | 40 kB 7.3 MB/s eta 0:00:01\r\u001b[K     |██▉                             | 51 kB 5.1 MB/s eta 0:00:01\r\u001b[K     |███▍                            | 61 kB 6.0 MB/s eta 0:00:01\r\u001b[K     |████                            | 71 kB 6.2 MB/s eta 0:00:01\r\u001b[K     |████▌                           | 81 kB 5.9 MB/s eta 0:00:01\r\u001b[K     |█████                           | 92 kB 6.5 MB/s eta 0:00:01\r\u001b[K     |█████▋                          | 102 kB 6.7 MB/s eta 0:00:01\r\u001b[K     |██████▏                         | 112 kB 6.7 MB/s eta 0:00:01\r\u001b[K     |██████▊                         | 122 kB 6.7 MB/s eta 0:00:01\r\u001b[K     |███████▎                        | 133 kB 6.7 MB/s eta 0:00:01\r\u001b[K     |████████                        | 143 kB 6.7 MB/s eta 0:00:01\r\u001b[K     |████████▌                       | 153 kB 6.7 MB/s eta 0:00:01\r\u001b[K     |█████████                       | 163 kB 6.7 MB/s eta 0:00:01\r\u001b[K     |█████████▋                      | 174 kB 6.7 MB/s eta 0:00:01\r\u001b[K     |██████████▏                     | 184 kB 6.7 MB/s eta 0:00:01\r\u001b[K     |██████████▊                     | 194 kB 6.7 MB/s eta 0:00:01\r\u001b[K     |███████████▎                    | 204 kB 6.7 MB/s eta 0:00:01\r\u001b[K     |███████████▉                    | 215 kB 6.7 MB/s eta 0:00:01\r\u001b[K     |████████████▍                   | 225 kB 6.7 MB/s eta 0:00:01\r\u001b[K     |█████████████                   | 235 kB 6.7 MB/s eta 0:00:01\r\u001b[K     |█████████████▌                  | 245 kB 6.7 MB/s eta 0:00:01\r\u001b[K     |██████████████                  | 256 kB 6.7 MB/s eta 0:00:01\r\u001b[K     |██████████████▋                 | 266 kB 6.7 MB/s eta 0:00:01\r\u001b[K     |███████████████▎                | 276 kB 6.7 MB/s eta 0:00:01\r\u001b[K     |███████████████▉                | 286 kB 6.7 MB/s eta 0:00:01\r\u001b[K     |████████████████▍               | 296 kB 6.7 MB/s eta 0:00:01\r\u001b[K     |█████████████████               | 307 kB 6.7 MB/s eta 0:00:01\r\u001b[K     |█████████████████▌              | 317 kB 6.7 MB/s eta 0:00:01\r\u001b[K     |██████████████████              | 327 kB 6.7 MB/s eta 0:00:01\r\u001b[K     |██████████████████▋             | 337 kB 6.7 MB/s eta 0:00:01\r\u001b[K     |███████████████████▏            | 348 kB 6.7 MB/s eta 0:00:01\r\u001b[K     |███████████████████▊            | 358 kB 6.7 MB/s eta 0:00:01\r\u001b[K     |████████████████████▎           | 368 kB 6.7 MB/s eta 0:00:01\r\u001b[K     |████████████████████▉           | 378 kB 6.7 MB/s eta 0:00:01\r\u001b[K     |█████████████████████▍          | 389 kB 6.7 MB/s eta 0:00:01\r\u001b[K     |██████████████████████          | 399 kB 6.7 MB/s eta 0:00:01\r\u001b[K     |██████████████████████▋         | 409 kB 6.7 MB/s eta 0:00:01\r\u001b[K     |███████████████████████▏        | 419 kB 6.7 MB/s eta 0:00:01\r\u001b[K     |███████████████████████▊        | 430 kB 6.7 MB/s eta 0:00:01\r\u001b[K     |████████████████████████▎       | 440 kB 6.7 MB/s eta 0:00:01\r\u001b[K     |████████████████████████▉       | 450 kB 6.7 MB/s eta 0:00:01\r\u001b[K     |█████████████████████████▍      | 460 kB 6.7 MB/s eta 0:00:01\r\u001b[K     |██████████████████████████      | 471 kB 6.7 MB/s eta 0:00:01\r\u001b[K     |██████████████████████████▌     | 481 kB 6.7 MB/s eta 0:00:01\r\u001b[K     |███████████████████████████     | 491 kB 6.7 MB/s eta 0:00:01\r\u001b[K     |███████████████████████████▋    | 501 kB 6.7 MB/s eta 0:00:01\r\u001b[K     |████████████████████████████▏   | 512 kB 6.7 MB/s eta 0:00:01\r\u001b[K     |████████████████████████████▊   | 522 kB 6.7 MB/s eta 0:00:01\r\u001b[K     |█████████████████████████████▎  | 532 kB 6.7 MB/s eta 0:00:01\r\u001b[K     |██████████████████████████████  | 542 kB 6.7 MB/s eta 0:00:01\r\u001b[K     |██████████████████████████████▌ | 552 kB 6.7 MB/s eta 0:00:01\r\u001b[K     |███████████████████████████████ | 563 kB 6.7 MB/s eta 0:00:01\r\u001b[K     |███████████████████████████████▋| 573 kB 6.7 MB/s eta 0:00:01\r\u001b[K     |████████████████████████████████| 580 kB 6.7 MB/s \n",
            "\u001b[?25hRequirement already satisfied: typing-extensions in /usr/local/lib/python3.7/dist-packages (from pyrolite) (3.10.0.2)\n",
            "Requirement already satisfied: openpyxl in /usr/local/lib/python3.7/dist-packages (from pyrolite) (3.0.9)\n",
            "Collecting numpydoc\n",
            "  Downloading numpydoc-1.2.1-py3-none-any.whl (51 kB)\n",
            "\u001b[K     |████████████████████████████████| 51 kB 214 kB/s \n",
            "\u001b[?25hRequirement already satisfied: sympy>=1.7 in /usr/local/lib/python3.7/dist-packages (from pyrolite) (1.7.1)\n",
            "Requirement already satisfied: xlrd in /usr/local/lib/python3.7/dist-packages (from pyrolite) (1.1.0)\n",
            "Requirement already satisfied: pandas>=1.0 in /usr/local/lib/python3.7/dist-packages (from pyrolite) (1.3.5)\n",
            "Requirement already satisfied: joblib in /usr/local/lib/python3.7/dist-packages (from pyrolite) (1.1.0)\n",
            "Requirement already satisfied: scipy>=1.2 in /usr/local/lib/python3.7/dist-packages (from pyrolite) (1.4.1)\n",
            "Requirement already satisfied: psutil in /usr/local/lib/python3.7/dist-packages (from pyrolite) (5.4.8)\n",
            "Collecting mpltern>=0.3.4\n",
            "  Downloading mpltern-0.3.4-py3-none-any.whl (19 kB)\n",
            "Requirement already satisfied: mpmath in /usr/local/lib/python3.7/dist-packages (from pyrolite) (1.2.1)\n",
            "Collecting matplotlib>=3.5\n",
            "  Downloading matplotlib-3.5.1-cp37-cp37m-manylinux_2_5_x86_64.manylinux1_x86_64.whl (11.2 MB)\n",
            "\u001b[K     |████████████████████████████████| 11.2 MB 17.9 MB/s \n",
            "\u001b[?25hRequirement already satisfied: numpy in /usr/local/lib/python3.7/dist-packages (from pyrolite) (1.21.5)\n",
            "Requirement already satisfied: requests in /usr/local/lib/python3.7/dist-packages (from pyrolite) (2.23.0)\n",
            "Collecting tinydb>4.1\n",
            "  Downloading tinydb-4.7.0-py3-none-any.whl (24 kB)\n",
            "Collecting periodictable\n",
            "  Downloading periodictable-1.6.0.tar.gz (686 kB)\n",
            "\u001b[K     |████████████████████████████████| 686 kB 41.5 MB/s \n",
            "\u001b[?25hRequirement already satisfied: pillow>=6.2.0 in /usr/local/lib/python3.7/dist-packages (from matplotlib>=3.5->pyrolite) (7.1.2)\n",
            "Collecting fonttools>=4.22.0\n",
            "  Downloading fonttools-4.32.0-py3-none-any.whl (900 kB)\n",
            "\u001b[K     |████████████████████████████████| 900 kB 34.1 MB/s \n",
            "\u001b[?25hRequirement already satisfied: pyparsing>=2.2.1 in /usr/local/lib/python3.7/dist-packages (from matplotlib>=3.5->pyrolite) (3.0.7)\n",
            "Requirement already satisfied: python-dateutil>=2.7 in /usr/local/lib/python3.7/dist-packages (from matplotlib>=3.5->pyrolite) (2.8.2)\n",
            "Requirement already satisfied: kiwisolver>=1.0.1 in /usr/local/lib/python3.7/dist-packages (from matplotlib>=3.5->pyrolite) (1.4.0)\n",
            "Requirement already satisfied: packaging>=20.0 in /usr/local/lib/python3.7/dist-packages (from matplotlib>=3.5->pyrolite) (21.3)\n",
            "Requirement already satisfied: cycler>=0.10 in /usr/local/lib/python3.7/dist-packages (from matplotlib>=3.5->pyrolite) (0.11.0)\n",
            "Requirement already satisfied: pytz>=2017.3 in /usr/local/lib/python3.7/dist-packages (from pandas>=1.0->pyrolite) (2018.9)\n",
            "Requirement already satisfied: six>=1.5 in /usr/local/lib/python3.7/dist-packages (from python-dateutil>=2.7->matplotlib>=3.5->pyrolite) (1.15.0)\n",
            "Requirement already satisfied: Jinja2<3.1,>=2.10 in /usr/local/lib/python3.7/dist-packages (from numpydoc->pyrolite) (2.11.3)\n",
            "Requirement already satisfied: sphinx>=1.8 in /usr/local/lib/python3.7/dist-packages (from numpydoc->pyrolite) (1.8.6)\n",
            "Requirement already satisfied: MarkupSafe>=0.23 in /usr/local/lib/python3.7/dist-packages (from Jinja2<3.1,>=2.10->numpydoc->pyrolite) (2.0.1)\n",
            "Requirement already satisfied: docutils<0.18,>=0.11 in /usr/local/lib/python3.7/dist-packages (from sphinx>=1.8->numpydoc->pyrolite) (0.17.1)\n",
            "Requirement already satisfied: sphinxcontrib-websupport in /usr/local/lib/python3.7/dist-packages (from sphinx>=1.8->numpydoc->pyrolite) (1.2.4)\n",
            "Requirement already satisfied: imagesize in /usr/local/lib/python3.7/dist-packages (from sphinx>=1.8->numpydoc->pyrolite) (1.3.0)\n",
            "Requirement already satisfied: Pygments>=2.0 in /usr/local/lib/python3.7/dist-packages (from sphinx>=1.8->numpydoc->pyrolite) (2.6.1)\n",
            "Requirement already satisfied: snowballstemmer>=1.1 in /usr/local/lib/python3.7/dist-packages (from sphinx>=1.8->numpydoc->pyrolite) (2.2.0)\n",
            "Requirement already satisfied: setuptools in /usr/local/lib/python3.7/dist-packages (from sphinx>=1.8->numpydoc->pyrolite) (57.4.0)\n",
            "Requirement already satisfied: alabaster<0.8,>=0.7 in /usr/local/lib/python3.7/dist-packages (from sphinx>=1.8->numpydoc->pyrolite) (0.7.12)\n",
            "Requirement already satisfied: babel!=2.0,>=1.3 in /usr/local/lib/python3.7/dist-packages (from sphinx>=1.8->numpydoc->pyrolite) (2.9.1)\n",
            "Requirement already satisfied: urllib3!=1.25.0,!=1.25.1,<1.26,>=1.21.1 in /usr/local/lib/python3.7/dist-packages (from requests->pyrolite) (1.24.3)\n",
            "Requirement already satisfied: certifi>=2017.4.17 in /usr/local/lib/python3.7/dist-packages (from requests->pyrolite) (2021.10.8)\n",
            "Requirement already satisfied: idna<3,>=2.5 in /usr/local/lib/python3.7/dist-packages (from requests->pyrolite) (2.10)\n",
            "Requirement already satisfied: chardet<4,>=3.0.2 in /usr/local/lib/python3.7/dist-packages (from requests->pyrolite) (3.0.4)\n",
            "Requirement already satisfied: et-xmlfile in /usr/local/lib/python3.7/dist-packages (from openpyxl->pyrolite) (1.1.0)\n",
            "Requirement already satisfied: sphinxcontrib-serializinghtml in /usr/local/lib/python3.7/dist-packages (from sphinxcontrib-websupport->sphinx>=1.8->numpydoc->pyrolite) (1.1.5)\n",
            "Building wheels for collected packages: periodictable\n",
            "  Building wheel for periodictable (setup.py) ... \u001b[?25l\u001b[?25hdone\n",
            "  Created wheel for periodictable: filename=periodictable-1.6.0-py3-none-any.whl size=749750 sha256=6fe6f71328560568bf9f977bde530ffc5c11e002d1e7719127eefc74e91e7b66\n",
            "  Stored in directory: /root/.cache/pip/wheels/31/d2/e0/764db3104c74c9d991315dc39d1647012d38d9e76851bb16ae\n",
            "Successfully built periodictable\n",
            "Installing collected packages: fonttools, matplotlib, tinydb, periodictable, numpydoc, mpltern, pyrolite\n",
            "  Attempting uninstall: matplotlib\n",
            "    Found existing installation: matplotlib 3.2.2\n",
            "    Uninstalling matplotlib-3.2.2:\n",
            "      Successfully uninstalled matplotlib-3.2.2\n",
            "\u001b[31mERROR: pip's dependency resolver does not currently take into account all the packages that are installed. This behaviour is the source of the following dependency conflicts.\n",
            "albumentations 0.1.12 requires imgaug<0.2.7,>=0.2.5, but you have imgaug 0.2.9 which is incompatible.\u001b[0m\n",
            "Successfully installed fonttools-4.32.0 matplotlib-3.5.1 mpltern-0.3.4 numpydoc-1.2.1 periodictable-1.6.0 pyrolite-0.3.1 tinydb-4.7.0\n"
          ]
        },
        {
          "output_type": "display_data",
          "data": {
            "application/vnd.colab-display-data+json": {
              "pip_warning": {
                "packages": [
                  "matplotlib",
                  "mpl_toolkits"
                ]
              }
            }
          },
          "metadata": {}
        }
      ]
    },
    {
      "cell_type": "code",
      "execution_count": null,
      "id": "b52c75bc",
      "metadata": {
        "colab": {
          "base_uri": "https://localhost:8080/"
        },
        "id": "b52c75bc",
        "outputId": "199a9f0e-b284-41f2-e0df-c7b931bb5e0b"
      },
      "outputs": [
        {
          "output_type": "stream",
          "name": "stderr",
          "text": [
            "/usr/local/lib/python3.7/dist-packages/statsmodels/tools/_testing.py:19: FutureWarning: pandas.util.testing is deprecated. Use the functions in the public API at pandas.testing instead.\n",
            "  import pandas.util.testing as tm\n",
            "/usr/local/lib/python3.7/dist-packages/numpydoc/docscrape.py:440: UserWarning: potentially wrong underline length... \n",
            "Note \n",
            "----- in \n",
            "Plots spidergrams for trace elements data. Additional arguments are typically forwarded\n",
            "to respective :mod:`matplotlib` functions :func:`~matplotlib.pyplot.plot` and... in the docstring of spider in /usr/local/lib/python3.7/dist-packages/pyrolite/plot/spider.py.\n",
            "  warn(msg)\n",
            "/usr/local/lib/python3.7/dist-packages/numpydoc/docscrape.py:440: UserWarning: potentially wrong underline length... \n",
            "Parameters \n",
            "----------- in \n",
            "Method for plotting histograms (mode='hist2d'|'hexbin') or kernel density\n",
            "esitimates from point data. Convenience access function to... in the docstring of density in /usr/local/lib/python3.7/dist-packages/pyrolite/plot/__init__.py.\n",
            "  warn(msg)\n",
            "/usr/local/lib/python3.7/dist-packages/numpydoc/docscrape.py:440: UserWarning: potentially wrong underline length... \n",
            "Note \n",
            "----- in \n",
            "Creates diagramatic representation of data density and/or frequency for either\n",
            "binary diagrams (X-Y) or ternary plots.... in the docstring of density in /usr/local/lib/python3.7/dist-packages/pyrolite/plot/density/__init__.py.\n",
            "  warn(msg)\n",
            "/usr/local/lib/python3.7/dist-packages/numpydoc/docscrape.py:440: UserWarning: potentially wrong underline length... \n",
            "Parameters \n",
            "----------- in \n",
            "Create a :func:`pyrolite.plot.parallel.parallel`. coordinate plot from\n",
            "the columns of the :class:`~pandas.DataFrame`.... in the docstring of parallel in /usr/local/lib/python3.7/dist-packages/pyrolite/plot/__init__.py.\n",
            "  warn(msg)\n",
            "/usr/local/lib/python3.7/dist-packages/numpydoc/docscrape.py:440: UserWarning: potentially wrong underline length... \n",
            "Parameters \n",
            "----------- in \n",
            "Create a parallel coordinate plot across dataframe columns, with\n",
            "individual lines for each row.... in the docstring of parallel in /usr/local/lib/python3.7/dist-packages/pyrolite/plot/parallel.py.\n",
            "  warn(msg)\n",
            "/usr/local/lib/python3.7/dist-packages/numpydoc/docscrape.py:440: UserWarning: potentially wrong underline length... \n",
            "Todo \n",
            "------ in \n",
            "Create a parallel coordinate plot across dataframe columns, with\n",
            "individual lines for each row.... in the docstring of parallel in /usr/local/lib/python3.7/dist-packages/pyrolite/plot/parallel.py.\n",
            "  warn(msg)\n",
            "/usr/local/lib/python3.7/dist-packages/numpydoc/docscrape.py:440: UserWarning: potentially wrong underline length... \n",
            "Parameters \n",
            "------------ in \n",
            "Pass the pandas object to :func:`pyrolite.plot.spider.REE_v_radii`.\n",
            "... in the docstring of REE in /usr/local/lib/python3.7/dist-packages/pyrolite/plot/__init__.py.\n",
            "  warn(msg)\n",
            "/usr/local/lib/python3.7/dist-packages/numpydoc/docscrape.py:440: UserWarning: potentially wrong underline length... \n",
            "Note \n",
            "----- in \n",
            "Creates an axis for a REE diagram with ionic radii along the x axis.\n",
            "... in the docstring of REE_v_radii in /usr/local/lib/python3.7/dist-packages/pyrolite/plot/spider.py.\n",
            "  warn(msg)\n",
            "/usr/local/lib/python3.7/dist-packages/numpydoc/docscrape.py:440: UserWarning: potentially wrong underline length... \n",
            "Parameters \n",
            "----------- in \n",
            "Convenience method for scatter plots using the pyroplot API. See\n",
            "further parameters for `matplotlib.pyplot.scatter` function below.... in the docstring of scatter in /usr/local/lib/python3.7/dist-packages/pyrolite/plot/__init__.py.\n",
            "  warn(msg)\n",
            "/usr/local/lib/python3.7/dist-packages/numpydoc/docscrape.py:440: UserWarning: potentially wrong underline length... \n",
            "Parameters \n",
            "----------- in \n",
            "Convenience method for line plots using the pyroplot API. See\n",
            "further parameters for `matplotlib.pyplot.scatter` function below.... in the docstring of plot in /usr/local/lib/python3.7/dist-packages/pyrolite/plot/__init__.py.\n",
            "  warn(msg)\n",
            "/usr/local/lib/python3.7/dist-packages/numpydoc/docscrape.py:440: UserWarning: potentially wrong underline length... \n",
            "Parameters \n",
            "----------- in \n",
            "Method for spider plots. Convenience access function to\n",
            ":func:`~pyrolite.plot.spider.spider` (see `Other Parameters`, below), where... in the docstring of spider in /usr/local/lib/python3.7/dist-packages/pyrolite/plot/__init__.py.\n",
            "  warn(msg)\n",
            "/usr/local/lib/python3.7/dist-packages/numpydoc/docscrape.py:440: UserWarning: potentially wrong underline length... \n",
            "Todo \n",
            "----- in \n",
            "Method for spider plots. Convenience access function to\n",
            ":func:`~pyrolite.plot.spider.spider` (see `Other Parameters`, below), where... in the docstring of spider in /usr/local/lib/python3.7/dist-packages/pyrolite/plot/__init__.py.\n",
            "  warn(msg)\n",
            "/usr/local/lib/python3.7/dist-packages/numpydoc/docscrape.py:440: UserWarning: potentially wrong underline length... \n",
            "Parameters \n",
            "----------- in \n",
            "Method for creating stem plots. Convenience access function to\n",
            ":func:`~pyrolite.plot.stem.stem` (see `Other Parameters`, below), where... in the docstring of stem in /usr/local/lib/python3.7/dist-packages/pyrolite/plot/__init__.py.\n",
            "  warn(msg)\n",
            "/usr/local/lib/python3.7/dist-packages/numpydoc/docscrape.py:440: UserWarning: potentially wrong underline length... \n",
            "Parameters \n",
            "----------- in \n",
            "Create a stem (or 'lollipop') plot, with optional orientation.\n",
            "... in the docstring of stem in /usr/local/lib/python3.7/dist-packages/pyrolite/plot/stem.py.\n",
            "  warn(msg)\n",
            "/usr/local/lib/python3.7/dist-packages/numpydoc/docscrape.py:440: UserWarning: potentially wrong underline length... \n",
            "Note \n",
            "----- in \n",
            "Convenience method for scatter plots using the pyroplot API. See\n",
            "further parameters for `matplotlib.pyplot.scatter` function below.... in the docstring of scatter in /usr/local/lib/python3.7/dist-packages/pyrolite/plot/__init__.py.\n",
            "  warn(msg)\n"
          ]
        }
      ],
      "source": [
        "import pandas as pd\n",
        "import pyrolite.geochem\n",
        "import seaborn\n",
        "import numpy as np\n",
        "import matplotlib.pyplot as plt\n",
        "import sklearn"
      ]
    },
    {
      "cell_type": "code",
      "execution_count": null,
      "id": "88de61f2",
      "metadata": {
        "colab": {
          "base_uri": "https://localhost:8080/",
          "height": 335
        },
        "id": "88de61f2",
        "outputId": "0bbdd540-2f32-4921-e599-c23b4d12bbc2"
      },
      "outputs": [
        {
          "output_type": "error",
          "ename": "FileNotFoundError",
          "evalue": "ignored",
          "traceback": [
            "\u001b[0;31m---------------------------------------------------------------------------\u001b[0m",
            "\u001b[0;31mFileNotFoundError\u001b[0m                         Traceback (most recent call last)",
            "\u001b[0;32m<ipython-input-2-455ee03a0009>\u001b[0m in \u001b[0;36m<module>\u001b[0;34m()\u001b[0m\n\u001b[0;32m----> 1\u001b[0;31m \u001b[0mdata\u001b[0m \u001b[0;34m=\u001b[0m \u001b[0mpd\u001b[0m\u001b[0;34m.\u001b[0m\u001b[0mread_csv\u001b[0m\u001b[0;34m(\u001b[0m\u001b[0;34m'Source_data.csv'\u001b[0m\u001b[0;34m)\u001b[0m\u001b[0;34m\u001b[0m\u001b[0;34m\u001b[0m\u001b[0m\n\u001b[0m",
            "\u001b[0;32m/usr/local/lib/python3.7/dist-packages/pandas/util/_decorators.py\u001b[0m in \u001b[0;36mwrapper\u001b[0;34m(*args, **kwargs)\u001b[0m\n\u001b[1;32m    309\u001b[0m                     \u001b[0mstacklevel\u001b[0m\u001b[0;34m=\u001b[0m\u001b[0mstacklevel\u001b[0m\u001b[0;34m,\u001b[0m\u001b[0;34m\u001b[0m\u001b[0;34m\u001b[0m\u001b[0m\n\u001b[1;32m    310\u001b[0m                 )\n\u001b[0;32m--> 311\u001b[0;31m             \u001b[0;32mreturn\u001b[0m \u001b[0mfunc\u001b[0m\u001b[0;34m(\u001b[0m\u001b[0;34m*\u001b[0m\u001b[0margs\u001b[0m\u001b[0;34m,\u001b[0m \u001b[0;34m**\u001b[0m\u001b[0mkwargs\u001b[0m\u001b[0;34m)\u001b[0m\u001b[0;34m\u001b[0m\u001b[0;34m\u001b[0m\u001b[0m\n\u001b[0m\u001b[1;32m    312\u001b[0m \u001b[0;34m\u001b[0m\u001b[0m\n\u001b[1;32m    313\u001b[0m         \u001b[0;32mreturn\u001b[0m \u001b[0mwrapper\u001b[0m\u001b[0;34m\u001b[0m\u001b[0;34m\u001b[0m\u001b[0m\n",
            "\u001b[0;32m/usr/local/lib/python3.7/dist-packages/pandas/io/parsers/readers.py\u001b[0m in \u001b[0;36mread_csv\u001b[0;34m(filepath_or_buffer, sep, delimiter, header, names, index_col, usecols, squeeze, prefix, mangle_dupe_cols, dtype, engine, converters, true_values, false_values, skipinitialspace, skiprows, skipfooter, nrows, na_values, keep_default_na, na_filter, verbose, skip_blank_lines, parse_dates, infer_datetime_format, keep_date_col, date_parser, dayfirst, cache_dates, iterator, chunksize, compression, thousands, decimal, lineterminator, quotechar, quoting, doublequote, escapechar, comment, encoding, encoding_errors, dialect, error_bad_lines, warn_bad_lines, on_bad_lines, delim_whitespace, low_memory, memory_map, float_precision, storage_options)\u001b[0m\n\u001b[1;32m    584\u001b[0m     \u001b[0mkwds\u001b[0m\u001b[0;34m.\u001b[0m\u001b[0mupdate\u001b[0m\u001b[0;34m(\u001b[0m\u001b[0mkwds_defaults\u001b[0m\u001b[0;34m)\u001b[0m\u001b[0;34m\u001b[0m\u001b[0;34m\u001b[0m\u001b[0m\n\u001b[1;32m    585\u001b[0m \u001b[0;34m\u001b[0m\u001b[0m\n\u001b[0;32m--> 586\u001b[0;31m     \u001b[0;32mreturn\u001b[0m \u001b[0m_read\u001b[0m\u001b[0;34m(\u001b[0m\u001b[0mfilepath_or_buffer\u001b[0m\u001b[0;34m,\u001b[0m \u001b[0mkwds\u001b[0m\u001b[0;34m)\u001b[0m\u001b[0;34m\u001b[0m\u001b[0;34m\u001b[0m\u001b[0m\n\u001b[0m\u001b[1;32m    587\u001b[0m \u001b[0;34m\u001b[0m\u001b[0m\n\u001b[1;32m    588\u001b[0m \u001b[0;34m\u001b[0m\u001b[0m\n",
            "\u001b[0;32m/usr/local/lib/python3.7/dist-packages/pandas/io/parsers/readers.py\u001b[0m in \u001b[0;36m_read\u001b[0;34m(filepath_or_buffer, kwds)\u001b[0m\n\u001b[1;32m    480\u001b[0m \u001b[0;34m\u001b[0m\u001b[0m\n\u001b[1;32m    481\u001b[0m     \u001b[0;31m# Create the parser.\u001b[0m\u001b[0;34m\u001b[0m\u001b[0;34m\u001b[0m\u001b[0;34m\u001b[0m\u001b[0m\n\u001b[0;32m--> 482\u001b[0;31m     \u001b[0mparser\u001b[0m \u001b[0;34m=\u001b[0m \u001b[0mTextFileReader\u001b[0m\u001b[0;34m(\u001b[0m\u001b[0mfilepath_or_buffer\u001b[0m\u001b[0;34m,\u001b[0m \u001b[0;34m**\u001b[0m\u001b[0mkwds\u001b[0m\u001b[0;34m)\u001b[0m\u001b[0;34m\u001b[0m\u001b[0;34m\u001b[0m\u001b[0m\n\u001b[0m\u001b[1;32m    483\u001b[0m \u001b[0;34m\u001b[0m\u001b[0m\n\u001b[1;32m    484\u001b[0m     \u001b[0;32mif\u001b[0m \u001b[0mchunksize\u001b[0m \u001b[0;32mor\u001b[0m \u001b[0miterator\u001b[0m\u001b[0;34m:\u001b[0m\u001b[0;34m\u001b[0m\u001b[0;34m\u001b[0m\u001b[0m\n",
            "\u001b[0;32m/usr/local/lib/python3.7/dist-packages/pandas/io/parsers/readers.py\u001b[0m in \u001b[0;36m__init__\u001b[0;34m(self, f, engine, **kwds)\u001b[0m\n\u001b[1;32m    809\u001b[0m             \u001b[0mself\u001b[0m\u001b[0;34m.\u001b[0m\u001b[0moptions\u001b[0m\u001b[0;34m[\u001b[0m\u001b[0;34m\"has_index_names\"\u001b[0m\u001b[0;34m]\u001b[0m \u001b[0;34m=\u001b[0m \u001b[0mkwds\u001b[0m\u001b[0;34m[\u001b[0m\u001b[0;34m\"has_index_names\"\u001b[0m\u001b[0;34m]\u001b[0m\u001b[0;34m\u001b[0m\u001b[0;34m\u001b[0m\u001b[0m\n\u001b[1;32m    810\u001b[0m \u001b[0;34m\u001b[0m\u001b[0m\n\u001b[0;32m--> 811\u001b[0;31m         \u001b[0mself\u001b[0m\u001b[0;34m.\u001b[0m\u001b[0m_engine\u001b[0m \u001b[0;34m=\u001b[0m \u001b[0mself\u001b[0m\u001b[0;34m.\u001b[0m\u001b[0m_make_engine\u001b[0m\u001b[0;34m(\u001b[0m\u001b[0mself\u001b[0m\u001b[0;34m.\u001b[0m\u001b[0mengine\u001b[0m\u001b[0;34m)\u001b[0m\u001b[0;34m\u001b[0m\u001b[0;34m\u001b[0m\u001b[0m\n\u001b[0m\u001b[1;32m    812\u001b[0m \u001b[0;34m\u001b[0m\u001b[0m\n\u001b[1;32m    813\u001b[0m     \u001b[0;32mdef\u001b[0m \u001b[0mclose\u001b[0m\u001b[0;34m(\u001b[0m\u001b[0mself\u001b[0m\u001b[0;34m)\u001b[0m\u001b[0;34m:\u001b[0m\u001b[0;34m\u001b[0m\u001b[0;34m\u001b[0m\u001b[0m\n",
            "\u001b[0;32m/usr/local/lib/python3.7/dist-packages/pandas/io/parsers/readers.py\u001b[0m in \u001b[0;36m_make_engine\u001b[0;34m(self, engine)\u001b[0m\n\u001b[1;32m   1038\u001b[0m             )\n\u001b[1;32m   1039\u001b[0m         \u001b[0;31m# error: Too many arguments for \"ParserBase\"\u001b[0m\u001b[0;34m\u001b[0m\u001b[0;34m\u001b[0m\u001b[0;34m\u001b[0m\u001b[0m\n\u001b[0;32m-> 1040\u001b[0;31m         \u001b[0;32mreturn\u001b[0m \u001b[0mmapping\u001b[0m\u001b[0;34m[\u001b[0m\u001b[0mengine\u001b[0m\u001b[0;34m]\u001b[0m\u001b[0;34m(\u001b[0m\u001b[0mself\u001b[0m\u001b[0;34m.\u001b[0m\u001b[0mf\u001b[0m\u001b[0;34m,\u001b[0m \u001b[0;34m**\u001b[0m\u001b[0mself\u001b[0m\u001b[0;34m.\u001b[0m\u001b[0moptions\u001b[0m\u001b[0;34m)\u001b[0m  \u001b[0;31m# type: ignore[call-arg]\u001b[0m\u001b[0;34m\u001b[0m\u001b[0;34m\u001b[0m\u001b[0m\n\u001b[0m\u001b[1;32m   1041\u001b[0m \u001b[0;34m\u001b[0m\u001b[0m\n\u001b[1;32m   1042\u001b[0m     \u001b[0;32mdef\u001b[0m \u001b[0m_failover_to_python\u001b[0m\u001b[0;34m(\u001b[0m\u001b[0mself\u001b[0m\u001b[0;34m)\u001b[0m\u001b[0;34m:\u001b[0m\u001b[0;34m\u001b[0m\u001b[0;34m\u001b[0m\u001b[0m\n",
            "\u001b[0;32m/usr/local/lib/python3.7/dist-packages/pandas/io/parsers/c_parser_wrapper.py\u001b[0m in \u001b[0;36m__init__\u001b[0;34m(self, src, **kwds)\u001b[0m\n\u001b[1;32m     49\u001b[0m \u001b[0;34m\u001b[0m\u001b[0m\n\u001b[1;32m     50\u001b[0m         \u001b[0;31m# open handles\u001b[0m\u001b[0;34m\u001b[0m\u001b[0;34m\u001b[0m\u001b[0;34m\u001b[0m\u001b[0m\n\u001b[0;32m---> 51\u001b[0;31m         \u001b[0mself\u001b[0m\u001b[0;34m.\u001b[0m\u001b[0m_open_handles\u001b[0m\u001b[0;34m(\u001b[0m\u001b[0msrc\u001b[0m\u001b[0;34m,\u001b[0m \u001b[0mkwds\u001b[0m\u001b[0;34m)\u001b[0m\u001b[0;34m\u001b[0m\u001b[0;34m\u001b[0m\u001b[0m\n\u001b[0m\u001b[1;32m     52\u001b[0m         \u001b[0;32massert\u001b[0m \u001b[0mself\u001b[0m\u001b[0;34m.\u001b[0m\u001b[0mhandles\u001b[0m \u001b[0;32mis\u001b[0m \u001b[0;32mnot\u001b[0m \u001b[0;32mNone\u001b[0m\u001b[0;34m\u001b[0m\u001b[0;34m\u001b[0m\u001b[0m\n\u001b[1;32m     53\u001b[0m \u001b[0;34m\u001b[0m\u001b[0m\n",
            "\u001b[0;32m/usr/local/lib/python3.7/dist-packages/pandas/io/parsers/base_parser.py\u001b[0m in \u001b[0;36m_open_handles\u001b[0;34m(self, src, kwds)\u001b[0m\n\u001b[1;32m    227\u001b[0m             \u001b[0mmemory_map\u001b[0m\u001b[0;34m=\u001b[0m\u001b[0mkwds\u001b[0m\u001b[0;34m.\u001b[0m\u001b[0mget\u001b[0m\u001b[0;34m(\u001b[0m\u001b[0;34m\"memory_map\"\u001b[0m\u001b[0;34m,\u001b[0m \u001b[0;32mFalse\u001b[0m\u001b[0;34m)\u001b[0m\u001b[0;34m,\u001b[0m\u001b[0;34m\u001b[0m\u001b[0;34m\u001b[0m\u001b[0m\n\u001b[1;32m    228\u001b[0m             \u001b[0mstorage_options\u001b[0m\u001b[0;34m=\u001b[0m\u001b[0mkwds\u001b[0m\u001b[0;34m.\u001b[0m\u001b[0mget\u001b[0m\u001b[0;34m(\u001b[0m\u001b[0;34m\"storage_options\"\u001b[0m\u001b[0;34m,\u001b[0m \u001b[0;32mNone\u001b[0m\u001b[0;34m)\u001b[0m\u001b[0;34m,\u001b[0m\u001b[0;34m\u001b[0m\u001b[0;34m\u001b[0m\u001b[0m\n\u001b[0;32m--> 229\u001b[0;31m             \u001b[0merrors\u001b[0m\u001b[0;34m=\u001b[0m\u001b[0mkwds\u001b[0m\u001b[0;34m.\u001b[0m\u001b[0mget\u001b[0m\u001b[0;34m(\u001b[0m\u001b[0;34m\"encoding_errors\"\u001b[0m\u001b[0;34m,\u001b[0m \u001b[0;34m\"strict\"\u001b[0m\u001b[0;34m)\u001b[0m\u001b[0;34m,\u001b[0m\u001b[0;34m\u001b[0m\u001b[0;34m\u001b[0m\u001b[0m\n\u001b[0m\u001b[1;32m    230\u001b[0m         )\n\u001b[1;32m    231\u001b[0m \u001b[0;34m\u001b[0m\u001b[0m\n",
            "\u001b[0;32m/usr/local/lib/python3.7/dist-packages/pandas/io/common.py\u001b[0m in \u001b[0;36mget_handle\u001b[0;34m(path_or_buf, mode, encoding, compression, memory_map, is_text, errors, storage_options)\u001b[0m\n\u001b[1;32m    705\u001b[0m                 \u001b[0mencoding\u001b[0m\u001b[0;34m=\u001b[0m\u001b[0mioargs\u001b[0m\u001b[0;34m.\u001b[0m\u001b[0mencoding\u001b[0m\u001b[0;34m,\u001b[0m\u001b[0;34m\u001b[0m\u001b[0;34m\u001b[0m\u001b[0m\n\u001b[1;32m    706\u001b[0m                 \u001b[0merrors\u001b[0m\u001b[0;34m=\u001b[0m\u001b[0merrors\u001b[0m\u001b[0;34m,\u001b[0m\u001b[0;34m\u001b[0m\u001b[0;34m\u001b[0m\u001b[0m\n\u001b[0;32m--> 707\u001b[0;31m                 \u001b[0mnewline\u001b[0m\u001b[0;34m=\u001b[0m\u001b[0;34m\"\"\u001b[0m\u001b[0;34m,\u001b[0m\u001b[0;34m\u001b[0m\u001b[0;34m\u001b[0m\u001b[0m\n\u001b[0m\u001b[1;32m    708\u001b[0m             )\n\u001b[1;32m    709\u001b[0m         \u001b[0;32melse\u001b[0m\u001b[0;34m:\u001b[0m\u001b[0;34m\u001b[0m\u001b[0;34m\u001b[0m\u001b[0m\n",
            "\u001b[0;31mFileNotFoundError\u001b[0m: [Errno 2] No such file or directory: 'Source_data.csv'"
          ]
        }
      ],
      "source": [
        "#data = pd.read_csv('Source_data.csv')"
      ]
    },
    {
      "cell_type": "code",
      "source": [
        "from google.colab import files\n",
        "uploaded = files.upload()"
      ],
      "metadata": {
        "colab": {
          "resources": {
            "http://localhost:8080/nbextensions/google.colab/files.js": {
              "data": "Ly8gQ29weXJpZ2h0IDIwMTcgR29vZ2xlIExMQwovLwovLyBMaWNlbnNlZCB1bmRlciB0aGUgQXBhY2hlIExpY2Vuc2UsIFZlcnNpb24gMi4wICh0aGUgIkxpY2Vuc2UiKTsKLy8geW91IG1heSBub3QgdXNlIHRoaXMgZmlsZSBleGNlcHQgaW4gY29tcGxpYW5jZSB3aXRoIHRoZSBMaWNlbnNlLgovLyBZb3UgbWF5IG9idGFpbiBhIGNvcHkgb2YgdGhlIExpY2Vuc2UgYXQKLy8KLy8gICAgICBodHRwOi8vd3d3LmFwYWNoZS5vcmcvbGljZW5zZXMvTElDRU5TRS0yLjAKLy8KLy8gVW5sZXNzIHJlcXVpcmVkIGJ5IGFwcGxpY2FibGUgbGF3IG9yIGFncmVlZCB0byBpbiB3cml0aW5nLCBzb2Z0d2FyZQovLyBkaXN0cmlidXRlZCB1bmRlciB0aGUgTGljZW5zZSBpcyBkaXN0cmlidXRlZCBvbiBhbiAiQVMgSVMiIEJBU0lTLAovLyBXSVRIT1VUIFdBUlJBTlRJRVMgT1IgQ09ORElUSU9OUyBPRiBBTlkgS0lORCwgZWl0aGVyIGV4cHJlc3Mgb3IgaW1wbGllZC4KLy8gU2VlIHRoZSBMaWNlbnNlIGZvciB0aGUgc3BlY2lmaWMgbGFuZ3VhZ2UgZ292ZXJuaW5nIHBlcm1pc3Npb25zIGFuZAovLyBsaW1pdGF0aW9ucyB1bmRlciB0aGUgTGljZW5zZS4KCi8qKgogKiBAZmlsZW92ZXJ2aWV3IEhlbHBlcnMgZm9yIGdvb2dsZS5jb2xhYiBQeXRob24gbW9kdWxlLgogKi8KKGZ1bmN0aW9uKHNjb3BlKSB7CmZ1bmN0aW9uIHNwYW4odGV4dCwgc3R5bGVBdHRyaWJ1dGVzID0ge30pIHsKICBjb25zdCBlbGVtZW50ID0gZG9jdW1lbnQuY3JlYXRlRWxlbWVudCgnc3BhbicpOwogIGVsZW1lbnQudGV4dENvbnRlbnQgPSB0ZXh0OwogIGZvciAoY29uc3Qga2V5IG9mIE9iamVjdC5rZXlzKHN0eWxlQXR0cmlidXRlcykpIHsKICAgIGVsZW1lbnQuc3R5bGVba2V5XSA9IHN0eWxlQXR0cmlidXRlc1trZXldOwogIH0KICByZXR1cm4gZWxlbWVudDsKfQoKLy8gTWF4IG51bWJlciBvZiBieXRlcyB3aGljaCB3aWxsIGJlIHVwbG9hZGVkIGF0IGEgdGltZS4KY29uc3QgTUFYX1BBWUxPQURfU0laRSA9IDEwMCAqIDEwMjQ7CgpmdW5jdGlvbiBfdXBsb2FkRmlsZXMoaW5wdXRJZCwgb3V0cHV0SWQpIHsKICBjb25zdCBzdGVwcyA9IHVwbG9hZEZpbGVzU3RlcChpbnB1dElkLCBvdXRwdXRJZCk7CiAgY29uc3Qgb3V0cHV0RWxlbWVudCA9IGRvY3VtZW50LmdldEVsZW1lbnRCeUlkKG91dHB1dElkKTsKICAvLyBDYWNoZSBzdGVwcyBvbiB0aGUgb3V0cHV0RWxlbWVudCB0byBtYWtlIGl0IGF2YWlsYWJsZSBmb3IgdGhlIG5leHQgY2FsbAogIC8vIHRvIHVwbG9hZEZpbGVzQ29udGludWUgZnJvbSBQeXRob24uCiAgb3V0cHV0RWxlbWVudC5zdGVwcyA9IHN0ZXBzOwoKICByZXR1cm4gX3VwbG9hZEZpbGVzQ29udGludWUob3V0cHV0SWQpOwp9CgovLyBUaGlzIGlzIHJvdWdobHkgYW4gYXN5bmMgZ2VuZXJhdG9yIChub3Qgc3VwcG9ydGVkIGluIHRoZSBicm93c2VyIHlldCksCi8vIHdoZXJlIHRoZXJlIGFyZSBtdWx0aXBsZSBhc3luY2hyb25vdXMgc3RlcHMgYW5kIHRoZSBQeXRob24gc2lkZSBpcyBnb2luZwovLyB0byBwb2xsIGZvciBjb21wbGV0aW9uIG9mIGVhY2ggc3RlcC4KLy8gVGhpcyB1c2VzIGEgUHJvbWlzZSB0byBibG9jayB0aGUgcHl0aG9uIHNpZGUgb24gY29tcGxldGlvbiBvZiBlYWNoIHN0ZXAsCi8vIHRoZW4gcGFzc2VzIHRoZSByZXN1bHQgb2YgdGhlIHByZXZpb3VzIHN0ZXAgYXMgdGhlIGlucHV0IHRvIHRoZSBuZXh0IHN0ZXAuCmZ1bmN0aW9uIF91cGxvYWRGaWxlc0NvbnRpbnVlKG91dHB1dElkKSB7CiAgY29uc3Qgb3V0cHV0RWxlbWVudCA9IGRvY3VtZW50LmdldEVsZW1lbnRCeUlkKG91dHB1dElkKTsKICBjb25zdCBzdGVwcyA9IG91dHB1dEVsZW1lbnQuc3RlcHM7CgogIGNvbnN0IG5leHQgPSBzdGVwcy5uZXh0KG91dHB1dEVsZW1lbnQubGFzdFByb21pc2VWYWx1ZSk7CiAgcmV0dXJuIFByb21pc2UucmVzb2x2ZShuZXh0LnZhbHVlLnByb21pc2UpLnRoZW4oKHZhbHVlKSA9PiB7CiAgICAvLyBDYWNoZSB0aGUgbGFzdCBwcm9taXNlIHZhbHVlIHRvIG1ha2UgaXQgYXZhaWxhYmxlIHRvIHRoZSBuZXh0CiAgICAvLyBzdGVwIG9mIHRoZSBnZW5lcmF0b3IuCiAgICBvdXRwdXRFbGVtZW50Lmxhc3RQcm9taXNlVmFsdWUgPSB2YWx1ZTsKICAgIHJldHVybiBuZXh0LnZhbHVlLnJlc3BvbnNlOwogIH0pOwp9CgovKioKICogR2VuZXJhdG9yIGZ1bmN0aW9uIHdoaWNoIGlzIGNhbGxlZCBiZXR3ZWVuIGVhY2ggYXN5bmMgc3RlcCBvZiB0aGUgdXBsb2FkCiAqIHByb2Nlc3MuCiAqIEBwYXJhbSB7c3RyaW5nfSBpbnB1dElkIEVsZW1lbnQgSUQgb2YgdGhlIGlucHV0IGZpbGUgcGlja2VyIGVsZW1lbnQuCiAqIEBwYXJhbSB7c3RyaW5nfSBvdXRwdXRJZCBFbGVtZW50IElEIG9mIHRoZSBvdXRwdXQgZGlzcGxheS4KICogQHJldHVybiB7IUl0ZXJhYmxlPCFPYmplY3Q+fSBJdGVyYWJsZSBvZiBuZXh0IHN0ZXBzLgogKi8KZnVuY3Rpb24qIHVwbG9hZEZpbGVzU3RlcChpbnB1dElkLCBvdXRwdXRJZCkgewogIGNvbnN0IGlucHV0RWxlbWVudCA9IGRvY3VtZW50LmdldEVsZW1lbnRCeUlkKGlucHV0SWQpOwogIGlucHV0RWxlbWVudC5kaXNhYmxlZCA9IGZhbHNlOwoKICBjb25zdCBvdXRwdXRFbGVtZW50ID0gZG9jdW1lbnQuZ2V0RWxlbWVudEJ5SWQob3V0cHV0SWQpOwogIG91dHB1dEVsZW1lbnQuaW5uZXJIVE1MID0gJyc7CgogIGNvbnN0IHBpY2tlZFByb21pc2UgPSBuZXcgUHJvbWlzZSgocmVzb2x2ZSkgPT4gewogICAgaW5wdXRFbGVtZW50LmFkZEV2ZW50TGlzdGVuZXIoJ2NoYW5nZScsIChlKSA9PiB7CiAgICAgIHJlc29sdmUoZS50YXJnZXQuZmlsZXMpOwogICAgfSk7CiAgfSk7CgogIGNvbnN0IGNhbmNlbCA9IGRvY3VtZW50LmNyZWF0ZUVsZW1lbnQoJ2J1dHRvbicpOwogIGlucHV0RWxlbWVudC5wYXJlbnRFbGVtZW50LmFwcGVuZENoaWxkKGNhbmNlbCk7CiAgY2FuY2VsLnRleHRDb250ZW50ID0gJ0NhbmNlbCB1cGxvYWQnOwogIGNvbnN0IGNhbmNlbFByb21pc2UgPSBuZXcgUHJvbWlzZSgocmVzb2x2ZSkgPT4gewogICAgY2FuY2VsLm9uY2xpY2sgPSAoKSA9PiB7CiAgICAgIHJlc29sdmUobnVsbCk7CiAgICB9OwogIH0pOwoKICAvLyBXYWl0IGZvciB0aGUgdXNlciB0byBwaWNrIHRoZSBmaWxlcy4KICBjb25zdCBmaWxlcyA9IHlpZWxkIHsKICAgIHByb21pc2U6IFByb21pc2UucmFjZShbcGlja2VkUHJvbWlzZSwgY2FuY2VsUHJvbWlzZV0pLAogICAgcmVzcG9uc2U6IHsKICAgICAgYWN0aW9uOiAnc3RhcnRpbmcnLAogICAgfQogIH07CgogIGNhbmNlbC5yZW1vdmUoKTsKCiAgLy8gRGlzYWJsZSB0aGUgaW5wdXQgZWxlbWVudCBzaW5jZSBmdXJ0aGVyIHBpY2tzIGFyZSBub3QgYWxsb3dlZC4KICBpbnB1dEVsZW1lbnQuZGlzYWJsZWQgPSB0cnVlOwoKICBpZiAoIWZpbGVzKSB7CiAgICByZXR1cm4gewogICAgICByZXNwb25zZTogewogICAgICAgIGFjdGlvbjogJ2NvbXBsZXRlJywKICAgICAgfQogICAgfTsKICB9CgogIGZvciAoY29uc3QgZmlsZSBvZiBmaWxlcykgewogICAgY29uc3QgbGkgPSBkb2N1bWVudC5jcmVhdGVFbGVtZW50KCdsaScpOwogICAgbGkuYXBwZW5kKHNwYW4oZmlsZS5uYW1lLCB7Zm9udFdlaWdodDogJ2JvbGQnfSkpOwogICAgbGkuYXBwZW5kKHNwYW4oCiAgICAgICAgYCgke2ZpbGUudHlwZSB8fCAnbi9hJ30pIC0gJHtmaWxlLnNpemV9IGJ5dGVzLCBgICsKICAgICAgICBgbGFzdCBtb2RpZmllZDogJHsKICAgICAgICAgICAgZmlsZS5sYXN0TW9kaWZpZWREYXRlID8gZmlsZS5sYXN0TW9kaWZpZWREYXRlLnRvTG9jYWxlRGF0ZVN0cmluZygpIDoKICAgICAgICAgICAgICAgICAgICAgICAgICAgICAgICAgICAgJ24vYSd9IC0gYCkpOwogICAgY29uc3QgcGVyY2VudCA9IHNwYW4oJzAlIGRvbmUnKTsKICAgIGxpLmFwcGVuZENoaWxkKHBlcmNlbnQpOwoKICAgIG91dHB1dEVsZW1lbnQuYXBwZW5kQ2hpbGQobGkpOwoKICAgIGNvbnN0IGZpbGVEYXRhUHJvbWlzZSA9IG5ldyBQcm9taXNlKChyZXNvbHZlKSA9PiB7CiAgICAgIGNvbnN0IHJlYWRlciA9IG5ldyBGaWxlUmVhZGVyKCk7CiAgICAgIHJlYWRlci5vbmxvYWQgPSAoZSkgPT4gewogICAgICAgIHJlc29sdmUoZS50YXJnZXQucmVzdWx0KTsKICAgICAgfTsKICAgICAgcmVhZGVyLnJlYWRBc0FycmF5QnVmZmVyKGZpbGUpOwogICAgfSk7CiAgICAvLyBXYWl0IGZvciB0aGUgZGF0YSB0byBiZSByZWFkeS4KICAgIGxldCBmaWxlRGF0YSA9IHlpZWxkIHsKICAgICAgcHJvbWlzZTogZmlsZURhdGFQcm9taXNlLAogICAgICByZXNwb25zZTogewogICAgICAgIGFjdGlvbjogJ2NvbnRpbnVlJywKICAgICAgfQogICAgfTsKCiAgICAvLyBVc2UgYSBjaHVua2VkIHNlbmRpbmcgdG8gYXZvaWQgbWVzc2FnZSBzaXplIGxpbWl0cy4gU2VlIGIvNjIxMTU2NjAuCiAgICBsZXQgcG9zaXRpb24gPSAwOwogICAgZG8gewogICAgICBjb25zdCBsZW5ndGggPSBNYXRoLm1pbihmaWxlRGF0YS5ieXRlTGVuZ3RoIC0gcG9zaXRpb24sIE1BWF9QQVlMT0FEX1NJWkUpOwogICAgICBjb25zdCBjaHVuayA9IG5ldyBVaW50OEFycmF5KGZpbGVEYXRhLCBwb3NpdGlvbiwgbGVuZ3RoKTsKICAgICAgcG9zaXRpb24gKz0gbGVuZ3RoOwoKICAgICAgY29uc3QgYmFzZTY0ID0gYnRvYShTdHJpbmcuZnJvbUNoYXJDb2RlLmFwcGx5KG51bGwsIGNodW5rKSk7CiAgICAgIHlpZWxkIHsKICAgICAgICByZXNwb25zZTogewogICAgICAgICAgYWN0aW9uOiAnYXBwZW5kJywKICAgICAgICAgIGZpbGU6IGZpbGUubmFtZSwKICAgICAgICAgIGRhdGE6IGJhc2U2NCwKICAgICAgICB9LAogICAgICB9OwoKICAgICAgbGV0IHBlcmNlbnREb25lID0gZmlsZURhdGEuYnl0ZUxlbmd0aCA9PT0gMCA/CiAgICAgICAgICAxMDAgOgogICAgICAgICAgTWF0aC5yb3VuZCgocG9zaXRpb24gLyBmaWxlRGF0YS5ieXRlTGVuZ3RoKSAqIDEwMCk7CiAgICAgIHBlcmNlbnQudGV4dENvbnRlbnQgPSBgJHtwZXJjZW50RG9uZX0lIGRvbmVgOwoKICAgIH0gd2hpbGUgKHBvc2l0aW9uIDwgZmlsZURhdGEuYnl0ZUxlbmd0aCk7CiAgfQoKICAvLyBBbGwgZG9uZS4KICB5aWVsZCB7CiAgICByZXNwb25zZTogewogICAgICBhY3Rpb246ICdjb21wbGV0ZScsCiAgICB9CiAgfTsKfQoKc2NvcGUuZ29vZ2xlID0gc2NvcGUuZ29vZ2xlIHx8IHt9OwpzY29wZS5nb29nbGUuY29sYWIgPSBzY29wZS5nb29nbGUuY29sYWIgfHwge307CnNjb3BlLmdvb2dsZS5jb2xhYi5fZmlsZXMgPSB7CiAgX3VwbG9hZEZpbGVzLAogIF91cGxvYWRGaWxlc0NvbnRpbnVlLAp9Owp9KShzZWxmKTsK",
              "ok": true,
              "headers": [
                [
                  "content-type",
                  "application/javascript"
                ]
              ],
              "status": 200,
              "status_text": ""
            }
          },
          "base_uri": "https://localhost:8080/",
          "height": 73
        },
        "id": "oKVI_ZMMM9Kq",
        "outputId": "ec495551-8016-4ebe-8dab-3be90b20960e"
      },
      "id": "oKVI_ZMMM9Kq",
      "execution_count": null,
      "outputs": [
        {
          "output_type": "display_data",
          "data": {
            "text/plain": [
              "<IPython.core.display.HTML object>"
            ],
            "text/html": [
              "\n",
              "     <input type=\"file\" id=\"files-3e779cfa-ef7a-4ada-bcb5-a5c745ba9756\" name=\"files[]\" multiple disabled\n",
              "        style=\"border:none\" />\n",
              "     <output id=\"result-3e779cfa-ef7a-4ada-bcb5-a5c745ba9756\">\n",
              "      Upload widget is only available when the cell has been executed in the\n",
              "      current browser session. Please rerun this cell to enable.\n",
              "      </output>\n",
              "      <script src=\"/nbextensions/google.colab/files.js\"></script> "
            ]
          },
          "metadata": {}
        },
        {
          "output_type": "stream",
          "name": "stdout",
          "text": [
            "Saving Source_data.csv to Source_data (4).csv\n"
          ]
        }
      ]
    },
    {
      "cell_type": "code",
      "source": [
        "import io\n",
        "data = pd.read_csv(io.BytesIO(uploaded['Source_data.csv']))"
      ],
      "metadata": {
        "id": "FNj3wWk2NgvK"
      },
      "id": "FNj3wWk2NgvK",
      "execution_count": null,
      "outputs": []
    },
    {
      "cell_type": "code",
      "execution_count": null,
      "id": "54900b7b",
      "metadata": {
        "colab": {
          "base_uri": "https://localhost:8080/"
        },
        "id": "54900b7b",
        "outputId": "2c69cd19-bd92-47b4-cd70-de1c65a71e1b"
      },
      "outputs": [
        {
          "output_type": "stream",
          "name": "stdout",
          "text": [
            "            Name         Location     Geochem      Social    MgO  Al2O3  \\\n",
            "0    E1:68490025  Mt. Witori Area           E     Hoskins   2.81  17.58   \n",
            "1    E1:68490031  Mt. Witori Area           E     Hoskins   1.47  15.00   \n",
            "2    E1:68490033  Mt. Witori Area           E     Hoskins   1.36  15.13   \n",
            "3    E1:68490030  Mt. Witori Area           E     Hoskins   1.10  14.74   \n",
            "4    E1:75710021  Mt. Witori Area           E     Hoskins   1.57  14.63   \n",
            "..           ...              ...         ...         ...    ...    ...   \n",
            "310  s_13 [5432]     MOUNT MURRAY  New Guinea  New Guinea   2.25  17.10   \n",
            "311  s_18 [5432]     MOUNT BOSAVI  New Guinea  New Guinea  11.70  14.10   \n",
            "312  s_19 [5432]     MOUNT BOSAVI  New Guinea  New Guinea   6.75  16.20   \n",
            "313  s_20 [5432]     MOUNT BOSAVI  New Guinea  New Guinea   2.10  17.30   \n",
            "314  Dampier_Axe              NaN  New Guinea         NaN    NaN  15.30   \n",
            "\n",
            "      SiO2  P2O5   K2O    CaO  ...   MnO  FeO2O3     Ni    Cu    Zn    Rb  \\\n",
            "0    57.33  0.16  0.51   8.41  ...  0.16    3.27   10.0  75.0  86.0   6.1   \n",
            "1    66.28  0.16  0.88   5.15  ...  0.14    1.91    0.2  17.0  76.0  12.0   \n",
            "2    66.43  0.14  0.90   5.24  ...  0.14    2.74    0.2  15.0  86.0  13.0   \n",
            "3    69.44  0.16  1.03   4.38  ...  0.12    1.73    0.2   9.0  67.0  14.0   \n",
            "4    65.80  0.15  0.88   5.31  ...  0.15    1.71    0.1   9.0  84.0  13.0   \n",
            "..     ...   ...   ...    ...  ...   ...     ...    ...   ...   ...   ...   \n",
            "310  58.50  0.50  2.70   6.40  ...  0.16    3.55    8.0  22.0   0.0  81.0   \n",
            "311  47.10  0.42  0.95   9.90  ...  0.18    3.45  222.0  68.0   0.0  29.0   \n",
            "312  52.50  0.50  1.80   8.20  ...  0.18    2.95   97.0  52.0   0.0  39.5   \n",
            "313  60.20  0.34  2.50   6.00  ...  0.12    2.95   10.0  42.0   0.0  71.0   \n",
            "314  36.50  0.00  0.50  10.90  ...  0.10    9.80   63.0  72.0  87.0   8.0   \n",
            "\n",
            "        Sr     Y     Zr    Nb  \n",
            "0    420.0  19.0   34.0   0.0  \n",
            "1    330.0  20.0   50.0   0.0  \n",
            "2    370.0  21.0   58.0   0.0  \n",
            "3    310.0  16.0   58.0   0.0  \n",
            "4    355.0  15.0   59.0   0.1  \n",
            "..     ...   ...    ...   ...  \n",
            "310  785.0  23.5  285.0  12.0  \n",
            "311  675.0  20.5  146.0   8.9  \n",
            "312  690.0  22.0  187.0  13.5  \n",
            "313  765.0  21.5  256.0  14.0  \n",
            "314  276.0  19.0   13.0   6.0  \n",
            "\n",
            "[315 rows x 22 columns]\n",
            "(315, 22)\n"
          ]
        }
      ],
      "source": [
        "print(data)\n",
        "print(data.shape)"
      ]
    },
    {
      "cell_type": "code",
      "execution_count": null,
      "id": "862f9830",
      "metadata": {
        "colab": {
          "base_uri": "https://localhost:8080/",
          "height": 423
        },
        "id": "862f9830",
        "outputId": "30460042-6b9e-4c3c-b0b5-2202c216df5e"
      },
      "outputs": [
        {
          "output_type": "execute_result",
          "data": {
            "text/plain": [
              "         V     Ni    Cu    Zn    Rb     Sr     Y     Zr    Nb\n",
              "0    240.0   10.0  75.0  86.0   6.1  420.0  19.0   34.0   0.0\n",
              "1     97.0    0.2  17.0  76.0  12.0  330.0  20.0   50.0   0.0\n",
              "2     94.0    0.2  15.0  86.0  13.0  370.0  21.0   58.0   0.0\n",
              "3     43.0    0.2   9.0  67.0  14.0  310.0  16.0   58.0   0.0\n",
              "4     80.0    0.1   9.0  84.0  13.0  355.0  15.0   59.0   0.1\n",
              "..     ...    ...   ...   ...   ...    ...   ...    ...   ...\n",
              "310  130.0    8.0  22.0   0.0  81.0  785.0  23.5  285.0  12.0\n",
              "311  280.0  222.0  68.0   0.0  29.0  675.0  20.5  146.0   8.9\n",
              "312  195.0   97.0  52.0   0.0  39.5  690.0  22.0  187.0  13.5\n",
              "313  120.0   10.0  42.0   0.0  71.0  765.0  21.5  256.0  14.0\n",
              "314   98.8   63.0  72.0  87.0   8.0  276.0  19.0   13.0   6.0\n",
              "\n",
              "[315 rows x 9 columns]"
            ],
            "text/html": [
              "\n",
              "  <div id=\"df-3594d31b-03ed-41c1-92ad-9590212b6127\">\n",
              "    <div class=\"colab-df-container\">\n",
              "      <div>\n",
              "<style scoped>\n",
              "    .dataframe tbody tr th:only-of-type {\n",
              "        vertical-align: middle;\n",
              "    }\n",
              "\n",
              "    .dataframe tbody tr th {\n",
              "        vertical-align: top;\n",
              "    }\n",
              "\n",
              "    .dataframe thead th {\n",
              "        text-align: right;\n",
              "    }\n",
              "</style>\n",
              "<table border=\"1\" class=\"dataframe\">\n",
              "  <thead>\n",
              "    <tr style=\"text-align: right;\">\n",
              "      <th></th>\n",
              "      <th>V</th>\n",
              "      <th>Ni</th>\n",
              "      <th>Cu</th>\n",
              "      <th>Zn</th>\n",
              "      <th>Rb</th>\n",
              "      <th>Sr</th>\n",
              "      <th>Y</th>\n",
              "      <th>Zr</th>\n",
              "      <th>Nb</th>\n",
              "    </tr>\n",
              "  </thead>\n",
              "  <tbody>\n",
              "    <tr>\n",
              "      <th>0</th>\n",
              "      <td>240.0</td>\n",
              "      <td>10.0</td>\n",
              "      <td>75.0</td>\n",
              "      <td>86.0</td>\n",
              "      <td>6.1</td>\n",
              "      <td>420.0</td>\n",
              "      <td>19.0</td>\n",
              "      <td>34.0</td>\n",
              "      <td>0.0</td>\n",
              "    </tr>\n",
              "    <tr>\n",
              "      <th>1</th>\n",
              "      <td>97.0</td>\n",
              "      <td>0.2</td>\n",
              "      <td>17.0</td>\n",
              "      <td>76.0</td>\n",
              "      <td>12.0</td>\n",
              "      <td>330.0</td>\n",
              "      <td>20.0</td>\n",
              "      <td>50.0</td>\n",
              "      <td>0.0</td>\n",
              "    </tr>\n",
              "    <tr>\n",
              "      <th>2</th>\n",
              "      <td>94.0</td>\n",
              "      <td>0.2</td>\n",
              "      <td>15.0</td>\n",
              "      <td>86.0</td>\n",
              "      <td>13.0</td>\n",
              "      <td>370.0</td>\n",
              "      <td>21.0</td>\n",
              "      <td>58.0</td>\n",
              "      <td>0.0</td>\n",
              "    </tr>\n",
              "    <tr>\n",
              "      <th>3</th>\n",
              "      <td>43.0</td>\n",
              "      <td>0.2</td>\n",
              "      <td>9.0</td>\n",
              "      <td>67.0</td>\n",
              "      <td>14.0</td>\n",
              "      <td>310.0</td>\n",
              "      <td>16.0</td>\n",
              "      <td>58.0</td>\n",
              "      <td>0.0</td>\n",
              "    </tr>\n",
              "    <tr>\n",
              "      <th>4</th>\n",
              "      <td>80.0</td>\n",
              "      <td>0.1</td>\n",
              "      <td>9.0</td>\n",
              "      <td>84.0</td>\n",
              "      <td>13.0</td>\n",
              "      <td>355.0</td>\n",
              "      <td>15.0</td>\n",
              "      <td>59.0</td>\n",
              "      <td>0.1</td>\n",
              "    </tr>\n",
              "    <tr>\n",
              "      <th>...</th>\n",
              "      <td>...</td>\n",
              "      <td>...</td>\n",
              "      <td>...</td>\n",
              "      <td>...</td>\n",
              "      <td>...</td>\n",
              "      <td>...</td>\n",
              "      <td>...</td>\n",
              "      <td>...</td>\n",
              "      <td>...</td>\n",
              "    </tr>\n",
              "    <tr>\n",
              "      <th>310</th>\n",
              "      <td>130.0</td>\n",
              "      <td>8.0</td>\n",
              "      <td>22.0</td>\n",
              "      <td>0.0</td>\n",
              "      <td>81.0</td>\n",
              "      <td>785.0</td>\n",
              "      <td>23.5</td>\n",
              "      <td>285.0</td>\n",
              "      <td>12.0</td>\n",
              "    </tr>\n",
              "    <tr>\n",
              "      <th>311</th>\n",
              "      <td>280.0</td>\n",
              "      <td>222.0</td>\n",
              "      <td>68.0</td>\n",
              "      <td>0.0</td>\n",
              "      <td>29.0</td>\n",
              "      <td>675.0</td>\n",
              "      <td>20.5</td>\n",
              "      <td>146.0</td>\n",
              "      <td>8.9</td>\n",
              "    </tr>\n",
              "    <tr>\n",
              "      <th>312</th>\n",
              "      <td>195.0</td>\n",
              "      <td>97.0</td>\n",
              "      <td>52.0</td>\n",
              "      <td>0.0</td>\n",
              "      <td>39.5</td>\n",
              "      <td>690.0</td>\n",
              "      <td>22.0</td>\n",
              "      <td>187.0</td>\n",
              "      <td>13.5</td>\n",
              "    </tr>\n",
              "    <tr>\n",
              "      <th>313</th>\n",
              "      <td>120.0</td>\n",
              "      <td>10.0</td>\n",
              "      <td>42.0</td>\n",
              "      <td>0.0</td>\n",
              "      <td>71.0</td>\n",
              "      <td>765.0</td>\n",
              "      <td>21.5</td>\n",
              "      <td>256.0</td>\n",
              "      <td>14.0</td>\n",
              "    </tr>\n",
              "    <tr>\n",
              "      <th>314</th>\n",
              "      <td>98.8</td>\n",
              "      <td>63.0</td>\n",
              "      <td>72.0</td>\n",
              "      <td>87.0</td>\n",
              "      <td>8.0</td>\n",
              "      <td>276.0</td>\n",
              "      <td>19.0</td>\n",
              "      <td>13.0</td>\n",
              "      <td>6.0</td>\n",
              "    </tr>\n",
              "  </tbody>\n",
              "</table>\n",
              "<p>315 rows × 9 columns</p>\n",
              "</div>\n",
              "      <button class=\"colab-df-convert\" onclick=\"convertToInteractive('df-3594d31b-03ed-41c1-92ad-9590212b6127')\"\n",
              "              title=\"Convert this dataframe to an interactive table.\"\n",
              "              style=\"display:none;\">\n",
              "        \n",
              "  <svg xmlns=\"http://www.w3.org/2000/svg\" height=\"24px\"viewBox=\"0 0 24 24\"\n",
              "       width=\"24px\">\n",
              "    <path d=\"M0 0h24v24H0V0z\" fill=\"none\"/>\n",
              "    <path d=\"M18.56 5.44l.94 2.06.94-2.06 2.06-.94-2.06-.94-.94-2.06-.94 2.06-2.06.94zm-11 1L8.5 8.5l.94-2.06 2.06-.94-2.06-.94L8.5 2.5l-.94 2.06-2.06.94zm10 10l.94 2.06.94-2.06 2.06-.94-2.06-.94-.94-2.06-.94 2.06-2.06.94z\"/><path d=\"M17.41 7.96l-1.37-1.37c-.4-.4-.92-.59-1.43-.59-.52 0-1.04.2-1.43.59L10.3 9.45l-7.72 7.72c-.78.78-.78 2.05 0 2.83L4 21.41c.39.39.9.59 1.41.59.51 0 1.02-.2 1.41-.59l7.78-7.78 2.81-2.81c.8-.78.8-2.07 0-2.86zM5.41 20L4 18.59l7.72-7.72 1.47 1.35L5.41 20z\"/>\n",
              "  </svg>\n",
              "      </button>\n",
              "      \n",
              "  <style>\n",
              "    .colab-df-container {\n",
              "      display:flex;\n",
              "      flex-wrap:wrap;\n",
              "      gap: 12px;\n",
              "    }\n",
              "\n",
              "    .colab-df-convert {\n",
              "      background-color: #E8F0FE;\n",
              "      border: none;\n",
              "      border-radius: 50%;\n",
              "      cursor: pointer;\n",
              "      display: none;\n",
              "      fill: #1967D2;\n",
              "      height: 32px;\n",
              "      padding: 0 0 0 0;\n",
              "      width: 32px;\n",
              "    }\n",
              "\n",
              "    .colab-df-convert:hover {\n",
              "      background-color: #E2EBFA;\n",
              "      box-shadow: 0px 1px 2px rgba(60, 64, 67, 0.3), 0px 1px 3px 1px rgba(60, 64, 67, 0.15);\n",
              "      fill: #174EA6;\n",
              "    }\n",
              "\n",
              "    [theme=dark] .colab-df-convert {\n",
              "      background-color: #3B4455;\n",
              "      fill: #D2E3FC;\n",
              "    }\n",
              "\n",
              "    [theme=dark] .colab-df-convert:hover {\n",
              "      background-color: #434B5C;\n",
              "      box-shadow: 0px 1px 3px 1px rgba(0, 0, 0, 0.15);\n",
              "      filter: drop-shadow(0px 1px 2px rgba(0, 0, 0, 0.3));\n",
              "      fill: #FFFFFF;\n",
              "    }\n",
              "  </style>\n",
              "\n",
              "      <script>\n",
              "        const buttonEl =\n",
              "          document.querySelector('#df-3594d31b-03ed-41c1-92ad-9590212b6127 button.colab-df-convert');\n",
              "        buttonEl.style.display =\n",
              "          google.colab.kernel.accessAllowed ? 'block' : 'none';\n",
              "\n",
              "        async function convertToInteractive(key) {\n",
              "          const element = document.querySelector('#df-3594d31b-03ed-41c1-92ad-9590212b6127');\n",
              "          const dataTable =\n",
              "            await google.colab.kernel.invokeFunction('convertToInteractive',\n",
              "                                                     [key], {});\n",
              "          if (!dataTable) return;\n",
              "\n",
              "          const docLinkHtml = 'Like what you see? Visit the ' +\n",
              "            '<a target=\"_blank\" href=https://colab.research.google.com/notebooks/data_table.ipynb>data table notebook</a>'\n",
              "            + ' to learn more about interactive tables.';\n",
              "          element.innerHTML = '';\n",
              "          dataTable['output_type'] = 'display_data';\n",
              "          await google.colab.output.renderOutput(dataTable, element);\n",
              "          const docLink = document.createElement('div');\n",
              "          docLink.innerHTML = docLinkHtml;\n",
              "          element.appendChild(docLink);\n",
              "        }\n",
              "      </script>\n",
              "    </div>\n",
              "  </div>\n",
              "  "
            ]
          },
          "metadata": {},
          "execution_count": 49
        }
      ],
      "source": [
        "data.pyrochem.elements "
      ]
    },
    {
      "cell_type": "code",
      "execution_count": null,
      "id": "771f6d6e",
      "metadata": {
        "id": "771f6d6e"
      },
      "outputs": [],
      "source": [
        "from sklearn.discriminant_analysis import LinearDiscriminantAnalysis"
      ]
    },
    {
      "cell_type": "code",
      "execution_count": null,
      "id": "63e1fb2a",
      "metadata": {
        "id": "63e1fb2a"
      },
      "outputs": [],
      "source": [
        "from sklearn.model_selection import RepeatedStratifiedKFold\n",
        "from sklearn.model_selection import cross_val_score"
      ]
    },
    {
      "cell_type": "code",
      "execution_count": null,
      "id": "879ef29c",
      "metadata": {
        "colab": {
          "base_uri": "https://localhost:8080/"
        },
        "id": "879ef29c",
        "outputId": "e31da2c1-fe36-46f9-f023-d7d8089c9f05"
      },
      "outputs": [
        {
          "output_type": "stream",
          "name": "stdout",
          "text": [
            "0      E1:68490025\n",
            "1      E1:68490031\n",
            "2      E1:68490033\n",
            "3      E1:68490030\n",
            "4      E1:75710021\n",
            "          ...     \n",
            "310    s_13 [5432]\n",
            "311    s_18 [5432]\n",
            "312    s_19 [5432]\n",
            "313    s_20 [5432]\n",
            "314    Dampier_Axe\n",
            "Name: Name, Length: 315, dtype: object\n",
            "0               E\n",
            "1               E\n",
            "2               E\n",
            "3               E\n",
            "4               E\n",
            "          ...    \n",
            "310    New Guinea\n",
            "311    New Guinea\n",
            "312    New Guinea\n",
            "313    New Guinea\n",
            "314    New Guinea\n",
            "Name: Geochem, Length: 315, dtype: object\n"
          ]
        }
      ],
      "source": [
        "#Define predictor (elements) and response (category) variables \n",
        "x = data[['Al2O3', 'SiO2', 'P2O5', 'K2O', 'CaO', 'TiO2', 'V', 'MnO', 'FeO2O3', 'Ni', 'Cu', 'Zn', 'Rb', 'Sr', 'Y', 'Zr', 'Nb']]\n",
        "y = data['Geochem']\n",
        "\n",
        "print(data.Name)\n",
        "print(data.Geochem)"
      ]
    },
    {
      "cell_type": "code",
      "execution_count": null,
      "id": "21a0f09a",
      "metadata": {
        "id": "21a0f09a"
      },
      "outputs": [],
      "source": [
        "#Fit the LDA model\n",
        "model = LinearDiscriminantAnalysis()\n",
        "fit = model.fit(x, y)\n",
        "#fit = model.fit(x, y).transform(x)"
      ]
    },
    {
      "cell_type": "code",
      "execution_count": null,
      "id": "8010a4ae",
      "metadata": {
        "colab": {
          "base_uri": "https://localhost:8080/"
        },
        "id": "8010a4ae",
        "outputId": "934f11b0-b0db-4c08-b989-bf85881fcbbe"
      },
      "outputs": [
        {
          "output_type": "stream",
          "name": "stdout",
          "text": [
            "0.8466397849462365\n"
          ]
        }
      ],
      "source": [
        "#Define method to evaluate model\n",
        "cv = RepeatedStratifiedKFold(n_splits=10, n_repeats=3, random_state=1)\n",
        "\n",
        "#evaluate model\n",
        "scores = cross_val_score(model, x, y, scoring='accuracy', cv=cv, n_jobs=-1)\n",
        "print(np.mean(scores))   "
      ]
    },
    {
      "cell_type": "code",
      "execution_count": null,
      "id": "4b6a2fcf",
      "metadata": {
        "colab": {
          "base_uri": "https://localhost:8080/"
        },
        "id": "4b6a2fcf",
        "outputId": "238ac892-966d-4bd8-bbff-ae80c60836cb"
      },
      "outputs": [
        {
          "output_type": "stream",
          "name": "stdout",
          "text": [
            "[[-2.31498132  0.16522682 -0.4907667  ...  0.25062858  0.11208741\n",
            "   1.09726301]\n",
            " [-2.36677332 -0.29754819  0.16053643 ...  0.78955657  0.71411978\n",
            "   1.63979475]\n",
            " [-2.53457867 -0.61887371 -0.01413252 ...  0.57347891  0.12615848\n",
            "   2.15220064]\n",
            " ...\n",
            " [ 5.01650746  6.87220219 -5.66686526 ... -0.89675701  0.94369133\n",
            "  -1.59441696]\n",
            " [ 6.69778657  5.17529725 -4.46327439 ... -0.07435323 -2.36935542\n",
            "  -0.98075907]\n",
            " [-0.6960972   1.58253632  0.68991637 ... -0.97128605 -0.06475004\n",
            "  -1.94371879]]\n"
          ]
        }
      ],
      "source": [
        "print(fit)"
      ]
    },
    {
      "cell_type": "code",
      "execution_count": null,
      "id": "a0bf0915",
      "metadata": {
        "colab": {
          "base_uri": "https://localhost:8080/",
          "height": 222
        },
        "id": "a0bf0915",
        "outputId": "a2fb3a9e-0049-4b70-96d0-343973fab9af"
      },
      "outputs": [
        {
          "output_type": "error",
          "ename": "AttributeError",
          "evalue": "ignored",
          "traceback": [
            "\u001b[0;31m---------------------------------------------------------------------------\u001b[0m",
            "\u001b[0;31mAttributeError\u001b[0m                            Traceback (most recent call last)",
            "\u001b[0;32m<ipython-input-61-e96664d02af7>\u001b[0m in \u001b[0;36m<module>\u001b[0;34m()\u001b[0m\n\u001b[1;32m      1\u001b[0m \u001b[0my_pred\u001b[0m\u001b[0;34m=\u001b[0m \u001b[0mmodel\u001b[0m\u001b[0;34m.\u001b[0m\u001b[0mfit\u001b[0m\u001b[0;34m(\u001b[0m\u001b[0mx\u001b[0m\u001b[0;34m,\u001b[0m \u001b[0my\u001b[0m\u001b[0;34m)\u001b[0m\u001b[0;34m.\u001b[0m\u001b[0mpredict\u001b[0m\u001b[0;34m(\u001b[0m\u001b[0mx\u001b[0m\u001b[0;34m)\u001b[0m\u001b[0;34m\u001b[0m\u001b[0;34m\u001b[0m\u001b[0m\n\u001b[0;32m----> 2\u001b[0;31m \u001b[0my_pred_prob\u001b[0m \u001b[0;34m=\u001b[0m \u001b[0mfit\u001b[0m\u001b[0;34m.\u001b[0m\u001b[0mpredict_proba\u001b[0m\u001b[0;34m(\u001b[0m\u001b[0mx\u001b[0m\u001b[0;34m)\u001b[0m\u001b[0;34m\u001b[0m\u001b[0;34m\u001b[0m\u001b[0m\n\u001b[0m\u001b[1;32m      3\u001b[0m \u001b[0;34m\u001b[0m\u001b[0m\n\u001b[1;32m      4\u001b[0m \u001b[0mprint\u001b[0m\u001b[0;34m(\u001b[0m\u001b[0mfit\u001b[0m\u001b[0;34m.\u001b[0m\u001b[0mget_params\u001b[0m\u001b[0;34m(\u001b[0m\u001b[0;34m)\u001b[0m\u001b[0;34m)\u001b[0m\u001b[0;34m\u001b[0m\u001b[0;34m\u001b[0m\u001b[0m\n",
            "\u001b[0;31mAttributeError\u001b[0m: 'numpy.ndarray' object has no attribute 'predict_proba'"
          ]
        }
      ],
      "source": [
        "y_pred= model.fit(x, y).predict(x)\n",
        "y_pred_prob = fit.predict_proba(x)\n",
        "\n",
        "print(fit.get_params())"
      ]
    },
    {
      "cell_type": "code",
      "execution_count": null,
      "id": "8ff131ee",
      "metadata": {
        "colab": {
          "base_uri": "https://localhost:8080/"
        },
        "id": "8ff131ee",
        "outputId": "e0f8fcd7-6861-4c3a-d20a-2105fa607227"
      },
      "outputs": [
        {
          "output_type": "stream",
          "name": "stdout",
          "text": [
            "315\n"
          ]
        }
      ],
      "source": [
        "highest_prob = []\n",
        "\n",
        "for sample in range(y_pred_prob.shape[0]):    #iterates through each sample\n",
        "    highest_prob.append(np.max(y_pred_prob[sample]))   #gets max probability of that sample (highest likelyhood)\n",
        "    \n",
        "    \n",
        "print(len(highest_prob))"
      ]
    },
    {
      "cell_type": "code",
      "execution_count": null,
      "id": "15f0dd19",
      "metadata": {
        "colab": {
          "base_uri": "https://localhost:8080/"
        },
        "id": "15f0dd19",
        "outputId": "44be5475-9681-4d8d-93ca-84a7ba9e3fbe"
      },
      "outputs": [
        {
          "output_type": "stream",
          "name": "stdout",
          "text": [
            "percent classified correctly= 0.8920634920634921\n",
            "          sample predicted_cat  prob_predicted  actual_cat  recovered\n",
            "0    E1:68490025             F        0.842992           E      False\n",
            "1    E1:68490031             F        0.829967           E      False\n",
            "2    E1:68490033             F        0.915813           E      False\n",
            "3    E1:68490030             F        0.777388           E      False\n",
            "4    E1:75710021             F        0.737702           E      False\n",
            "..           ...           ...             ...         ...        ...\n",
            "310  s_13 [5432]    New Guinea        1.000000  New Guinea       True\n",
            "311  s_18 [5432]    New Guinea        1.000000  New Guinea       True\n",
            "312  s_19 [5432]    New Guinea        1.000000  New Guinea       True\n",
            "313  s_20 [5432]    New Guinea        1.000000  New Guinea       True\n",
            "314  Dampier_Axe             E        0.504361  New Guinea      False\n",
            "\n",
            "[315 rows x 5 columns]\n"
          ]
        }
      ],
      "source": [
        "df = pd.DataFrame({'sample':data.Name.values, 'predicted_cat':y_pred, 'prob_predicted':highest_prob, 'actual_cat':data.Geochem})\n",
        "df['recovered'] = (df['predicted_cat']==df['actual_cat'])\n",
        "\n",
        "print(\"percent classified correctly=\",np.sum((df['recovered'].values)*1)/len(df['sample']))\n",
        "\n",
        "print(df)"
      ]
    },
    {
      "cell_type": "code",
      "execution_count": null,
      "id": "13866685",
      "metadata": {
        "colab": {
          "base_uri": "https://localhost:8080/"
        },
        "id": "13866685",
        "outputId": "5786bb31-af16-49ac-bd5d-c134c4b46b03"
      },
      "outputs": [
        {
          "output_type": "stream",
          "name": "stdout",
          "text": [
            "               sample predicted_cat  prob_predicted  actual_cat  recovered\n",
            "0         E1:68490025             F        0.842992           E      False\n",
            "1         E1:68490031             F        0.829967           E      False\n",
            "2         E1:68490033             F        0.915813           E      False\n",
            "3         E1:68490030             F        0.777388           E      False\n",
            "4         E1:75710021             F        0.737702           E      False\n",
            "5          E1:WP01001            GN        0.877945           E      False\n",
            "6           E1:W00013            GN        0.931230           E      False\n",
            "7          E1:WP01003            GN        0.937665           E      False\n",
            "8          E1:WP01002            GN        0.962486           E      False\n",
            "9         E2:51NG3028             E        0.980456           E       True\n",
            "10        E2:51NG3035             E        0.884335           E       True\n",
            "11       E2:51NG3039B             E        0.880449           E       True\n",
            "12        E3:51NG0113             E        0.789308           E       True\n",
            "13        E3:51NG0199             E        0.866621           E       True\n",
            "14        E3:51NG0202             E        0.863044           E       True\n",
            "15        E3:51NG0205             E        0.844349           E       True\n",
            "16        E3:51NG0208             E        0.909741           E       True\n",
            "17        E3:51NG0209             E        0.870564           E       True\n",
            "18        E3:51NG0213             E        0.736261           E       True\n",
            "19        E4:51NG0166             E        0.970702           E       True\n",
            "20        E4:51NG0171             E        0.984488           E       True\n",
            "21        E4:51NG0193             E        0.719647           E       True\n",
            "22       E4:51NG0195M             E        0.778915           E       True\n",
            "23       E4:51NG0195X             E        0.984529           E       True\n",
            "24        E4:51NG2604             E        0.978640           E       True\n",
            "25        E4:51NG3006             F        0.636352           E      False\n",
            "26        E4:51NG3020             E        0.935028           E       True\n",
            "27        E4:75710019             E        0.989665           E       True\n",
            "28        E4:75710020             E        0.953653           E       True\n",
            "29       E5:51NG0065B             E        0.950164           E       True\n",
            "30        E5:51NG0066             E        0.947528           E       True\n",
            "31        E5:51NG0079             E        0.938742           E       True\n",
            "32        E5:51NG0091             E        0.849740           E       True\n",
            "33        E5:51NG0094             E        0.627902           E       True\n",
            "34        E5:51NG0150             E        0.833031           E       True\n",
            "35        E5:51NG0156             E        0.897822           E       True\n",
            "36        E5:51NG0158             E        0.909341           E       True\n",
            "37        E5:51NG0822             E        0.968406           E       True\n",
            "38        E5:74710020             E        0.932770           E       True\n",
            "39        E5:74710021             E        0.944927           E       True\n",
            "40        E5:74710022             E        0.943058           E       True\n",
            "41        E5:74710023             E        0.969461           E       True\n",
            "42        E5:51NG0098             E        0.999732           E       True\n",
            "43       E6:53NG0850A             E        0.612266           E       True\n",
            "44       E6:53NG0850B             E        0.909002           E       True\n",
            "45       E6:53NG0857A             E        0.558388           E       True\n",
            "46       E6:53NG0857B             E        0.884144           E       True\n",
            "47        E6:53NG1014             E        0.592579           E       True\n",
            "48        E6:53NG2517             E        0.823198           E       True\n",
            "49       E2:51NG0217F             E        0.907620           E       True\n",
            "50        E2:51NG2649             E        0.971022           E       True\n",
            "51       E2:51NG3032A             E        0.640771           E       True\n",
            "52       E2:51NG0217B             E        0.899084           E       True\n",
            "53       E2:51NG3032C             E        0.700464           E       True\n",
            "54       E2:51NG3038B             E        0.703343           E       True\n",
            "55       E2:51NG3038G             E        0.948768           E       True\n",
            "56        E3:51NG0111             E        0.624939           E       True\n",
            "57        E3:51NG0115             E        0.734433           E       True\n",
            "58        E3:51NG0116             E        0.696325           E       True\n",
            "59        E3:51NG0117             E        0.914301           E       True\n",
            "60        E3:51NG0122             E        0.836431           E       True\n",
            "61        E3:51NG0123             E        0.809351           E       True\n",
            "62        E3:51NG0201             E        0.897112           E       True\n",
            "63       E4:51NG0174A             E        0.959471           E       True\n",
            "64       E4:51NG0191A             E        0.981986           E       True\n",
            "65        E5:51NG0059             E        0.962030           E       True\n",
            "66        E5:51NG0077             E        0.828815           E       True\n",
            "67        E5:70400504             E        0.946457           E       True\n",
            "68        E5:51NG0095             E        0.932310           E       True\n",
            "69        E5:70400505             E        0.975655           E       True\n",
            "70        E5:75710027             E        0.962353           E       True\n",
            "71        E5:51NG0089             E        0.999185           E       True\n",
            "72       E6:53NG0852A             E        0.749976           E       True\n",
            "73       E6:53NG0871D             E        0.734122           E       True\n",
            "74       E6:53NG0871E             E        0.866556           E       True\n",
            "75       E6:53NG1010B             E        0.564243           E       True\n",
            "76        E6:53NG1015             E        0.572883           E       True\n",
            "77       E6:53NG2514A             E        0.649285           E       True\n",
            "78        E6:53NG1037             F        0.777874           E      False\n",
            "79       E6:53NG2514C             E        0.743078           E       True\n",
            "80                RU1             E        0.944605           E       True\n",
            "81                RU2             E        0.925063           E       True\n",
            "82                RU3             E        0.952291           E       True\n",
            "83                RU4             E        0.679033           E       True\n",
            "84                RU5            GN        0.786908           E      False\n",
            "85                RU6             E        0.964398           E       True\n",
            "86        F1:51NG0269             E        0.520420           F      False\n",
            "87        F1:51NG0274             F        0.671465           F       True\n",
            "88        F1:51NG0277             F        0.609146           F       True\n",
            "89        F1:51NG0283             E        0.701150           F      False\n",
            "90        F2:51NG2682             F        0.824992           F       True\n",
            "91        F4:68490003             F        0.752207           F       True\n",
            "92        F4:68490013             F        0.818617           F       True\n",
            "93        F4:68490047             F        0.858626           F       True\n",
            "94        F4:68490102             F        0.769183           F       True\n",
            "95        F4:68490108             F        0.961282           F       True\n",
            "96        F4:68490151             F        0.848701           F       True\n",
            "97       F4:68490152B             F        0.793767           F       True\n",
            "98        F4:68490153             F        0.973684           F       True\n",
            "99        F4:68490154             F        0.929308           F       True\n",
            "100       F4:68490162             F        0.586370           F       True\n",
            "101       F4:68490164             F        0.893216           F       True\n",
            "102      F4:68490171B             F        0.748641           F       True\n",
            "103       F4:68490174             F        0.786137           F       True\n",
            "104       F5:51NG0225             F        0.645687           F       True\n",
            "105       F5:51NG0233             F        0.550256           F       True\n",
            "106       F5:51NG0236             F        0.550743           F       True\n",
            "107       F5:51NG0239             E        0.490492           F      False\n",
            "108      F6:51NG0220A             F        0.779119           F       True\n",
            "109      F7:53NG0814B             F        0.505896           F       True\n",
            "110       F7:53NG0832             E        0.820626           F      False\n",
            "111      F7:53NG1058A             F        0.664049           F       True\n",
            "112      F1:51NG0270B             F        0.688968           F       True\n",
            "113       F1:51NG0276             F        0.763187           F       True\n",
            "114       F1:51NG0279             F        0.791430           F       True\n",
            "115      F2:51NG2683A             F        0.880038           F       True\n",
            "116      F2:51NG2683C             F        0.744226           F       True\n",
            "117      F2:51NG2683D             F        0.733084           F       True\n",
            "118      F2:51NG2683E             F        0.885298           F       True\n",
            "119      F2:51NG2685A            GN        0.409309           F      False\n",
            "120      F2:51NG2685B             F        0.838922           F       True\n",
            "121       F2:51NG2699             F        0.780804           F       True\n",
            "122      F3:51NG3062A             F        0.794453           F       True\n",
            "123       F3:51NG2686             F        0.701121           F       True\n",
            "124       F4:68490077             F        0.701823           F       True\n",
            "125      F4:68490092B             F        0.938783           F       True\n",
            "126      F4:68490159A             F        0.770012           F       True\n",
            "127            F4:174             F        0.688086           F       True\n",
            "128            F4:162             F        0.600228           F       True\n",
            "129           F4:159A             F        0.738430           F       True\n",
            "130            F4:108             F        0.929581           F       True\n",
            "131            F4:154             F        0.897621           F       True\n",
            "132            F4:92B             F        0.884615           F       True\n",
            "133            F4:164             F        0.804810           F       True\n",
            "134       F5:51NG0241             E        0.509977           F      False\n",
            "135      F6:51NG0218B             E        0.539541           F      False\n",
            "136      F6:51NG3052B             F        0.494404           F       True\n",
            "137      F7:53NG0814C             F        0.675164           F       True\n",
            "138      F7:53NG0839A             E        0.937251           F      False\n",
            "139      F7:53NG1047C             F        0.868068           F       True\n",
            "140       F7:53NG1051             F        0.769580           F       True\n",
            "141      F7:53NG2523C             E        0.564806           F      False\n",
            "142      F7:53NG2526A             F        0.801587           F       True\n",
            "143      F7:53NG0819B             F        0.631924           F       True\n",
            "144      F7:53NG0827A             E        0.931782           F      False\n",
            "145      F7:53NG0835G             E        0.861294           F      False\n",
            "146       F7:53NG1049             F        0.542002           F       True\n",
            "147       F7:53NG1054             F        0.489854           F       True\n",
            "148       F7:53NG0846             F        0.541044           F       True\n",
            "149           Gn1:114            GN        0.977292          GN       True\n",
            "150           Gn1:263             F        0.857124          GN      False\n",
            "151          Gn1:296B            GN        0.760733          GN       True\n",
            "152           Gn1:306            GN        0.867403          GN       True\n",
            "153           Gn1:308            GN        0.809946          GN       True\n",
            "154           Gn1:311             E        0.617995          GN      False\n",
            "155           Gn1:319            GN        0.552025          GN       True\n",
            "156           Gn1:339            GN        0.920754          GN       True\n",
            "157      Gn1:51NG0256            GN        0.833914          GN       True\n",
            "158      Gn1:51NG0257            GN        0.779442          GN       True\n",
            "159      Gn1:75710018            GN        0.898726          GN       True\n",
            "160       Gn1:WP01010            GN        0.561743          GN       True\n",
            "161       Gn1:WP01007            GN        0.659377          GN       True\n",
            "162        Gn1:G02051            GN        0.968600          GN       True\n",
            "163        Gn1:G02055            GN        0.887052          GN       True\n",
            "164        Gn1:G02050            GN        0.996453          GN       True\n",
            "165       Gn1:WP01006            GN        0.894325          GN       True\n",
            "166       Gn1:WP01012            GN        0.902181          GN       True\n",
            "167       Gn1:DR10706            GN        0.998343          GN       True\n",
            "168       Gn1:DR10707            GN        0.975246          GN       True\n",
            "169       Gn1:DR16286            GS        0.548897          GN      False\n",
            "170       Gn1:DR10694            GN        0.997888          GN       True\n",
            "171       Gn1:DR10720            GN        0.999996          GN       True\n",
            "172       Gn1:DR10731            GN        0.999296          GN       True\n",
            "173       Gn1:DR10730            GN        0.952166          GN       True\n",
            "174     Gn1:51NG0258A            GN        0.530155          GN       True\n",
            "175      Gn1:75710026            GN        0.932361          GN       True\n",
            "176           Gn1:341            GN        0.509999          GN       True\n",
            "177      Gn2:51NG0242             E        0.798803          GN      False\n",
            "178      Gn2:51NG0246             E        0.632934          GN      False\n",
            "179      Gn2:51NG0248             E        0.789256          GN      False\n",
            "180     Gn2:51NG0245A             F        0.960804          GN      False\n",
            "181     Gn2:51NG0250A             E        0.816021          GN      False\n",
            "182      Gs1:51NG3063             E        0.798803          GS      False\n",
            "183      Gs1:51NG3064            GS        0.999775          GS       True\n",
            "184      Gs1:51NG3065            GS        0.958742          GS       True\n",
            "185      Gs1:75710022            GS        0.912903          GS       True\n",
            "186      Gs1:75710023            GS        0.999843          GS       True\n",
            "187         Gs:G02002            GS        0.979617          GS       True\n",
            "188         Gs:G02003            GS        0.993818          GS       True\n",
            "189     Gs2:51NG2707A            GS        0.500750          GS       True\n",
            "190     Gs2:51NG2707B            GS        0.996346          GS       True\n",
            "191      Gs2:51NG2708            GN        0.571622          GS      False\n",
            "192      Gs2:51NG2709            GS        0.997666          GS       True\n",
            "193          Gs3:279B            GS        1.000000          GS       True\n",
            "194           Gs3:343            GS        1.000000          GS       True\n",
            "195      Gs3:51NG0255            GS        0.594836          GS       True\n",
            "196      Gs3:51NG0271            GS        1.000000          GS       True\n",
            "197     Gs1:51NG0145B            GS        0.974107          GS       True\n",
            "198      Gs1:51NG0262            GS        0.999496          GS       True\n",
            "199     Gs1:51NG4004C            GS        0.830452          GS       True\n",
            "200     Gs2:51NG2713A            GS        0.994005          GS       True\n",
            "201     Gs2:51NG2713C            GS        0.959546          GS       True\n",
            "202     Gs2:51NG2714C            GS        0.997427          GS       True\n",
            "203       H1:48NG0013             H        0.998833           H       True\n",
            "204       H1:48NG0020             H        0.943838           H       True\n",
            "205       H1:48NG0500             H        0.995556           H       True\n",
            "206       H1:48NG0505             H        0.899351           H       True\n",
            "207       H1:48NG0520             H        0.872306           H       True\n",
            "208       H1:48NG0523             H        0.876063           H       True\n",
            "209       H2:48NG0028             H        1.000000           H       True\n",
            "210       H2:48NG0033             H        0.999999           H       True\n",
            "211       H2:48NG0034             H        1.000000           H       True\n",
            "212       H2:48NG0036             H        0.999996           H       True\n",
            "213       H2:48NG0526             H        1.000000           H       True\n",
            "214       H2:48NG0532             H        1.000000           H       True\n",
            "215       H2:48NG0556             H        0.999741           H       True\n",
            "216       H3:48NG0044             H        0.999994           H       True\n",
            "217      H3:48NG0048A             H        0.568499           H       True\n",
            "218       H3:48NG0582             H        0.999997           H       True\n",
            "219       H3:48NG0592             H        0.999977           H       True\n",
            "220       H3:48NG0601             H        0.999903           H       True\n",
            "221       H3:48NG0605             H        0.999939           H       True\n",
            "222       H1:48NG0006             H        0.870721           H       True\n",
            "223       H1:48NG0022             H        0.998388           H       True\n",
            "224       H1:48NG0509             H        0.917996           H       True\n",
            "225       H2:48NG0559             H        0.999994           H       True\n",
            "226       H2:48NG0572             H        0.997652           H       True\n",
            "227       H2:48NG0538             H        0.998868           H       True\n",
            "228      H3:48NG0038A             H        1.000000           H       True\n",
            "229        samp. 8014        Rabaul        0.999999      Rabaul       True\n",
            "230        samp. 7084        Rabaul        1.000000      Rabaul       True\n",
            "231        samp. 8080        Rabaul        1.000000      Rabaul       True\n",
            "232        samp. 7007        Rabaul        1.000000      Rabaul       True\n",
            "233        samp. 6985        Rabaul        1.000000      Rabaul       True\n",
            "234        samp. 7066        Rabaul        0.999998      Rabaul       True\n",
            "235        samp. 8015        Rabaul        1.000000      Rabaul       True\n",
            "236        samp. 8087        Rabaul        1.000000      Rabaul       True\n",
            "237        samp. 8016        Rabaul        1.000000      Rabaul       True\n",
            "238        samp. 8042        Rabaul        0.999999      Rabaul       True\n",
            "239        samp. 8047        Rabaul        0.999996      Rabaul       True\n",
            "240        samp. 8058        Rabaul        1.000000      Rabaul       True\n",
            "241       samp. RAB53        Rabaul        0.999759      Rabaul       True\n",
            "242      samp. RAB97B        Rabaul        0.999985      Rabaul       True\n",
            "243     samp. RAB182E        Rabaul        1.000000      Rabaul       True\n",
            "244      samp. RAB11A        Rabaul        1.000000      Rabaul       True\n",
            "245     samp. RAB184D        Rabaul        0.999995      Rabaul       True\n",
            "246     samp. RABB20G        Rabaul        0.999998      Rabaul       True\n",
            "247      samp. RAB401        Rabaul        0.999989      Rabaul       True\n",
            "248     samp. RAB105A        Rabaul        0.999959      Rabaul       True\n",
            "249      samp. RAB125        Rabaul        0.999997      Rabaul       True\n",
            "250      samp. RAB167        Rabaul        1.000000      Rabaul       True\n",
            "251     samp. RAB182A        Rabaul        0.949814      Rabaul       True\n",
            "252     samp. RP98413        Rabaul        0.998034      Rabaul       True\n",
            "253     samp. RP98410        Rabaul        0.995689      Rabaul       True\n",
            "254       samp. RAB59        Rabaul        0.866006      Rabaul       True\n",
            "255      samp. RAB159        Rabaul        0.838415      Rabaul       True\n",
            "256     samp. RP98411        Rabaul        0.943942      Rabaul       True\n",
            "257     samp. RP98415        Rabaul        0.989037      Rabaul       True\n",
            "258    samp. TAVQ-817        Rabaul        0.999998      Rabaul       True\n",
            "259     samp. TAVT820        Rabaul        0.999997      Rabaul       True\n",
            "260    samp. TAVW-823        Rabaul        0.999997      Rabaul       True\n",
            "261    samp. VULA-801        Rabaul        0.999996      Rabaul       True\n",
            "262    samp. VULM-813        Rabaul        0.999996      Rabaul       True\n",
            "263    samp. VULP-816        Rabaul        0.999996      Rabaul       True\n",
            "264    samp. VULN-814        Rabaul        0.999995      Rabaul       True\n",
            "265    samp. VULG-807        Rabaul        0.999996      Rabaul       True\n",
            "266   samp. VULH-808B        Rabaul        0.999997      Rabaul       True\n",
            "267     samp. VULK811        Rabaul        0.999997      Rabaul       True\n",
            "268       samp. SER40        Rabaul        0.999998      Rabaul       True\n",
            "269     samp. RP98020        Rabaul        0.999993      Rabaul       True\n",
            "270    samp. RP96-030        Rabaul        0.999998      Rabaul       True\n",
            "271    samp. RP96-049        Rabaul        0.999999      Rabaul       True\n",
            "272     samp. RP96080        Rabaul        0.999992      Rabaul       True\n",
            "273     samp. RP96100        Rabaul        0.999998      Rabaul       True\n",
            "274     samp. RP97001        Rabaul        0.999996      Rabaul       True\n",
            "275     samp. RP97030        Rabaul        0.999995      Rabaul       True\n",
            "276     samp. RP97212        Rabaul        0.999996      Rabaul       True\n",
            "277     samp. RP97222        Rabaul        0.999994      Rabaul       True\n",
            "278     samp. RP98048        Rabaul        0.999993      Rabaul       True\n",
            "279     samp. RP98051        Rabaul        0.999992      Rabaul       True\n",
            "280     samp. RP99007        Rabaul        0.999993      Rabaul       True\n",
            "281     samp. RP99011        Rabaul        0.999998      Rabaul       True\n",
            "282   samp. RP0015P17        Rabaul        0.995060      Rabaul       True\n",
            "283   samp. 18NG-1010        Vitiaz        1.000000      Vitiaz       True\n",
            "284   samp. 18NG-1023        Vitiaz        1.000000      Vitiaz       True\n",
            "285   samp. 19NG-0953        Vitiaz        1.000000      Vitiaz       True\n",
            "286   samp. 7471-0030        Vitiaz        1.000000      Vitiaz       True\n",
            "287   samp. 7471-0001        Vitiaz        1.000000      Vitiaz       True\n",
            "288   samp. 7571-0015        Vitiaz        1.000000      Vitiaz       True\n",
            "289   samp. 26NG-0788        Vitiaz        1.000000      Vitiaz       True\n",
            "290   samp. 26NG-0787        Vitiaz        1.000000      Vitiaz       True\n",
            "291   samp. 32NG-0754        Vitiaz        1.000000      Vitiaz       True\n",
            "292  samp. 32NG-0143A        Vitiaz        1.000000      Vitiaz       True\n",
            "293   samp. 32NG-0124        Vitiaz        1.000000      Vitiaz       True\n",
            "294   samp. 32NG-0726        Vitiaz        1.000000      Vitiaz       True\n",
            "295   samp. 32NG-0679        Vitiaz        1.000000      Vitiaz       True\n",
            "296   samp. 32NG-0111        Vitiaz        1.000000      Vitiaz       True\n",
            "297   samp. 32NG-0682        Vitiaz        1.000000      Vitiaz       True\n",
            "298        s_1 [5432]    New Guinea        1.000000  New Guinea       True\n",
            "299        s_2 [5432]    New Guinea        1.000000  New Guinea       True\n",
            "300        s_3 [5432]    New Guinea        1.000000  New Guinea       True\n",
            "301        s_4 [5432]    New Guinea        1.000000  New Guinea       True\n",
            "302        s_5 [5432]    New Guinea        1.000000  New Guinea       True\n",
            "303        s_6 [5432]    New Guinea        1.000000  New Guinea       True\n",
            "304        s_7 [5432]    New Guinea        1.000000  New Guinea       True\n",
            "305        s_8 [5432]    New Guinea        1.000000  New Guinea       True\n",
            "306        s_9 [5432]    New Guinea        1.000000  New Guinea       True\n",
            "307       s_10 [5432]    New Guinea        1.000000  New Guinea       True\n",
            "308       s_11 [5432]    New Guinea        1.000000  New Guinea       True\n",
            "309       s_12 [5432]    New Guinea        1.000000  New Guinea       True\n",
            "310       s_13 [5432]    New Guinea        1.000000  New Guinea       True\n",
            "311       s_18 [5432]    New Guinea        1.000000  New Guinea       True\n",
            "312       s_19 [5432]    New Guinea        1.000000  New Guinea       True\n",
            "313       s_20 [5432]    New Guinea        1.000000  New Guinea       True\n",
            "314       Dampier_Axe             E        0.504361  New Guinea      False\n"
          ]
        }
      ],
      "source": [
        "with pd.option_context('display.max_rows', None, 'display.max_columns', None):  \n",
        "    print(df)"
      ]
    },
    {
      "cell_type": "code",
      "execution_count": null,
      "id": "4b49aa34",
      "metadata": {
        "id": "4b49aa34",
        "outputId": "6fb53869-e892-4f7b-c61c-b47fcbc2155e"
      },
      "outputs": [
        {
          "name": "stdout",
          "output_type": "stream",
          "text": [
            "['F' 'GN' 'E' 'GS' 'H' 'Rabaul' 'Vitiaz' 'New Guinea']\n"
          ]
        }
      ],
      "source": [
        "print(pd.unique(df.predicted_cat))"
      ]
    },
    {
      "cell_type": "code",
      "execution_count": null,
      "id": "cbcbd2eb",
      "metadata": {
        "scrolled": false,
        "id": "cbcbd2eb",
        "outputId": "cf3229ce-61e5-42d1-95fa-080b0151e90b"
      },
      "outputs": [
        {
          "name": "stdout",
          "output_type": "stream",
          "text": [
            "#ADCEC7\n"
          ]
        },
        {
          "data": {
            "text/plain": [
              "<matplotlib.legend.Legend at 0x7f2590c24b50>"
            ]
          },
          "execution_count": 158,
          "metadata": {},
          "output_type": "execute_result"
        },
        {
          "data": {
            "image/png": "[encoded data removed]",
            "text/plain": [
              "<Figure size 432x864 with 2 Axes>"
            ]
          },
          "metadata": {
            "needs_background": "light"
          },
          "output_type": "display_data"
        }
      ],
      "source": [
        "\n",
        "#assigns each unique classifier a color\n",
        "color_dictionary = dict(zip(pd.unique(df.predicted_cat), \n",
        "                            ['#ADCEC7','#E9A72D','#CB5D35','#98282E','#A14D73','#34657C','#4C2242','#0D081B']))\n",
        "\n",
        "print(color_dictionary['F'])\n",
        "correct = df[df['predicted_cat'] == df['actual_cat']]\n",
        "incorrect = df[df['predicted_cat'] != df['actual_cat']]\n",
        "\n",
        "fig, (ax1,ax2) = plt.subplots(nrows=2,ncols=1, figsize=(6,12), sharex =True)\n",
        "plt.subplots_adjust(hspace=0.1)\n",
        "for classifier in pd.unique(correct.predicted_cat):\n",
        "    temp = correct[correct['actual_cat']==classifier]    \n",
        "    ax1.hist(temp['prob_predicted'], color = str(color_dictionary[classifier]), alpha=0.4, label=classifier)\n",
        "\n",
        "for classifier in pd.unique(incorrect.predicted_cat):\n",
        "    temp = incorrect[incorrect['actual_cat']==classifier]    \n",
        "    ax2.hist(temp['prob_predicted'], color = str(color_dictionary[classifier]), alpha=0.4, label=classifier)\n",
        "\n",
        "ax1.annotate('Correctly Classified', (0.05, 0.9), xycoords='axes fraction', fontsize=18)\n",
        "ax2.annotate('Incorrectly Classified', (0.38, 0.9), xycoords='axes fraction', fontsize=18)\n",
        "\n",
        "ax1.set_ylabel('Number of Samples')\n",
        "ax1.set_xlabel('Probability')\n",
        "\n",
        "ax2.set_ylabel('Number of Samples')\n",
        "ax2.set_xlabel('Probability')\n",
        "\n",
        "ax1.legend()\n",
        "ax2.legend()\n"
      ]
    },
    {
      "cell_type": "code",
      "execution_count": null,
      "id": "76212164",
      "metadata": {
        "id": "76212164"
      },
      "outputs": [],
      "source": [
        ""
      ]
    }
  ],
  "metadata": {
    "kernelspec": {
      "display_name": "Python 3",
      "language": "python",
      "name": "python3"
    },
    "language_info": {
      "codemirror_mode": {
        "name": "ipython",
        "version": 3
      },
      "file_extension": ".py",
      "mimetype": "text/x-python",
      "name": "python",
      "nbconvert_exporter": "python",
      "pygments_lexer": "ipython3",
      "version": "3.8.5"
    },
    "colab": {
      "name": "dampier_katie.ipynb",
      "provenance": [],
      "collapsed_sections": [],
      "include_colab_link": true
    }
  },
  "nbformat": 4,
  "nbformat_minor": 5
}